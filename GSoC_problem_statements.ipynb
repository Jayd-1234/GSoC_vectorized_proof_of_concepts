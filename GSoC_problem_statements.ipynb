{
 "cells": [
  {
   "cell_type": "markdown",
   "metadata": {},
   "source": [
    "The basic idea for \"products\" in HEP is that data is separated into \"events', where\n",
    "each event has 0 or more particles of some type (lets call them \"reconstructed tracks\"). We then seek to \n",
    "find all combinations of tracks in each event (always treating events as separate entities).\n",
    "\n",
    "Eg,\n",
    "```\n",
    "products=[]\n",
    "for event in events:\n",
    "   eventProducts=[]\n",
    "   for track1 in event.recoTracks:\n",
    "        for track2 in event.recoTracks:\n",
    "           eventProducts.append( (track1,track2) )\n",
    "   products.append(eventProducts)        \n",
    "```\n",
    "\n",
    "Then products contains a list of combinations of tracks found in each event."
   ]
  },
  {
   "cell_type": "markdown",
   "metadata": {},
   "source": [
    "The next level of complexity is to add selections. For example, we often want to exclude the case where track1 and track2 are the same:\n",
    "\n",
    "```\n",
    "products=[]\n",
    "for event in events:\n",
    "   eventProducts=[]\n",
    "   for track1 in event.recoTracks:\n",
    "        for track2 in event.recoTracks:\n",
    "           if track1 == track2: continue\n",
    "           eventProducts.append( (track1,track2) )\n",
    "   products.append(eventProducts)        \n",
    "```"
   ]
  },
  {
   "cell_type": "markdown",
   "metadata": {},
   "source": [
    "or we want to keep only unique combinations of tracks:\n",
    "\n",
    "```\n",
    "products=[]\n",
    "for event in events:\n",
    "   eventProducts=[]\n",
    "   for i,track1 in enuerate(event.recoTracks):\n",
    "        for j,track2 in enumerate(event.recoTracks):\n",
    "           if i >= j: continue\n",
    "           eventProducts.append( (track1,track2) )\n",
    "   products.append(eventProducts)        \n",
    "```"
   ]
  },
  {
   "cell_type": "markdown",
   "metadata": {},
   "source": [
    "The level of complexity is to add selections based on some property of our tracks. Lets use \"pt\" as an example,\n",
    "representing the momentum of the track in the plane transverse to the beam axis. [this happens to be one of the interesting fundamental attributes for tracks in HEP]. Eg, lets find the pair of tracks with the maximum combined pt value\n",
    "\n",
    "```\n",
    "bestProducts=[]\n",
    "for event in events:\n",
    "   bestProduct=None\n",
    "   bestPt=0. #pt is always at least 0\n",
    "   for i,track1 in enuerate(event.recoTracks):\n",
    "        for j,track2 in enumerate(event.recoTracks):\n",
    "           if i >= j: continue\n",
    "           ptCombo=pt(track1,track2)\n",
    "           if ptCombo > bestPt: \n",
    "               bestProduct=(track1,track2)\n",
    "               bestPt=ptCombo\n",
    "   bestProduct.append(bestProduct)        \n",
    "```\n",
    "\n",
    "We don't show how to compute pt here, but its not important for the example."
   ]
  },
  {
   "cell_type": "markdown",
   "metadata": {},
   "source": [
    "One more example - HEP events have multiple types of particles. We'll use generated (\"truth\") and reconstructed (\"as detected\") tracks as an example. We combine and select different types of particles in much the same way that we combine items from within one list. \n",
    "\n",
    "As an example, lets try to find the reconstructed track that is closest to each generated track. If no track matches well enough, then we'll assume there is no matching reconstructed track.\n",
    "\n",
    "```\n",
    "matchingTracks=[]\n",
    "for event in events:\n",
    "   bestMatches=[]\n",
    "   for truthTrack in event.truthTracks:\n",
    "        bestMatch=(truthTrack,None)\n",
    "        bestDeltaR2=0.1 #if no deltaR2 is within this value, then there is no match\n",
    "        for recoTrack in event.recoTracks:\n",
    "           thisDeltaR2=deltaR2(truthTrack,recoTrack) \n",
    "           if thisDeltaR2 < bestDeltaR2: \n",
    "               bestMatch=(truthTrack,recoTrack)\n",
    "               bestDeltaR2=thisDeltaR2\n",
    "        bestMatches.append(bestMatch)     \n",
    "   bestProduct.append(bestMatches)        \n",
    "```"
   ]
  }
 ],
 "metadata": {
  "anaconda-cloud": {},
  "kernelspec": {
   "display_name": "Python [Root]",
   "language": "python",
   "name": "Python [Root]"
  },
  "language_info": {
   "codemirror_mode": {
    "name": "ipython",
    "version": 2
   },
   "file_extension": ".py",
   "mimetype": "text/x-python",
   "name": "python",
   "nbconvert_exporter": "python",
   "pygments_lexer": "ipython2",
   "version": "2.7.12"
  }
 },
 "nbformat": 4,
 "nbformat_minor": 0
}
