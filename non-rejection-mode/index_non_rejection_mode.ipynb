{
 "cells": [
  {
   "cell_type": "markdown",
   "metadata": {},
   "source": [
    "# Index in non-rejection mode.\n",
    "\n",
    "The implementation documentation is as in parents. So not done again."
   ]
  },
  {
   "cell_type": "code",
   "execution_count": 1,
   "metadata": {},
   "outputs": [],
   "source": [
    "import numpy\n",
    "import pycuda.autoinit\n",
    "import pycuda.driver as cuda\n",
    "import pycuda.gpuarray as gpuarray\n",
    "from pycuda.compiler import *"
   ]
  },
  {
   "cell_type": "code",
   "execution_count": 2,
   "metadata": {},
   "outputs": [],
   "source": [
    "NUMEVENTS = 320            # Number of evenets to simulate the data for.\n",
    "AVENUMJETS = 32             # Average number of jets per event.\n",
    "\n",
    "numjets = numpy.random.poisson(AVENUMJETS, NUMEVENTS).astype(numpy.int32) # Number of jets in each event\n",
    "jets_stops = numpy.cumsum(numjets).astype(numpy.int32)                                      # Stops array\n",
    "jets_starts = numpy.zeros_like(jets_stops)                              # Starts array\n",
    "jets_starts[1:] = jets_stops[:-1]"
   ]
  },
  {
   "cell_type": "code",
   "execution_count": 3,
   "metadata": {},
   "outputs": [],
   "source": [
    "pointer_cuda = numpy.empty(jets_stops[-1], dtype=numpy.int32)\n",
    "NUMPARTICLES = jets_stops[-1]\n",
    "gpu_starts = gpuarray.to_gpu(jets_starts)\n",
    "gpu_stops = gpuarray.to_gpu(jets_stops)\n",
    "gpu_pointer = gpuarray.to_gpu(pointer_cuda)\n",
    "# Calculate the counts array on GPU\n",
    "arr_numevents = numpy.array([NUMEVENTS]).astype(numpy.int32)\n",
    "arr_numparticles = numpy.array([NUMPARTICLES]).astype(numpy.int32)"
   ]
  },
  {
   "cell_type": "code",
   "execution_count": 4,
   "metadata": {},
   "outputs": [],
   "source": [
    "NUMBLOCKS_x = int(numpy.ceil(NUMPARTICLES/32))\n",
    "NUMBLOCKS_y = int(numpy.ceil(NUMEVENTS/32))"
   ]
  },
  {
   "cell_type": "markdown",
   "metadata": {},
   "source": [
    "### Implementation \n",
    "Run a thread over all particles(`i`), which is known(=`jets_stops[-1]`), and total number of events(`j`).\n",
    "\n",
    "Compare the `starts[j]` and `stop[j]` with `i`, and assign `i-starts[j]` to the pointer value if match is found."
   ]
  },
  {
   "cell_type": "code",
   "execution_count": 5,
   "metadata": {},
   "outputs": [
    {
     "name": "stderr",
     "output_type": "stream",
     "text": [
      "C:\\Users\\Jaydeep\\Anaconda3\\lib\\site-packages\\ipykernel_launcher.py:18: UserWarning: The CUDA compiler succeeded, but said the following:\n",
      "kernel.cu\r\n",
      "\n"
     ]
    }
   ],
   "source": [
    "mod = SourceModule('''\n",
    "__global__ void index(int* pointer,int* starts,int* stops,int* NUMEVENTS,int* NUMPARTICLES)\n",
    "{\n",
    "    // i for particles, j for events.\n",
    "    \n",
    "    int i = blockIdx.x*blockDim.x + threadIdx.x;\n",
    "    int j = blockIdx.y*blockDim.y + threadIdx.y;\n",
    "    \n",
    "    if (i<NUMPARTICLES[0] && j<NUMEVENTS[0])\n",
    "    {\n",
    "        // There will be horrible warp divergence here. But I don't see anyway around it.\n",
    "        if(starts[j]<=i && i<stops[j])\n",
    "        {\n",
    "            pointer[i] = i-starts[j];\n",
    "        }\n",
    "    }\n",
    "}\n",
    "''')"
   ]
  },
  {
   "cell_type": "code",
   "execution_count": 7,
   "metadata": {},
   "outputs": [],
   "source": [
    "func = mod.get_function(\"index\")"
   ]
  },
  {
   "cell_type": "code",
   "execution_count": 8,
   "metadata": {},
   "outputs": [],
   "source": [
    "func(gpu_pointer,gpu_starts,gpu_stops,cuda.In(arr_numevents),cuda.In(arr_numparticles), block=(32,32,1), grid=(NUMBLOCKS_x,NUMBLOCKS_y,1))"
   ]
  },
  {
   "cell_type": "code",
   "execution_count": 9,
   "metadata": {},
   "outputs": [
    {
     "data": {
      "text/plain": [
       "array([ 0,  1,  2, ..., 32, 33, 34])"
      ]
     },
     "execution_count": 9,
     "metadata": {},
     "output_type": "execute_result"
    }
   ],
   "source": [
    "gpu_pointer"
   ]
  },
  {
   "cell_type": "code",
   "execution_count": 10,
   "metadata": {},
   "outputs": [],
   "source": [
    "pointer_seq = numpy.empty(jets_stops[-1], dtype=numpy.int32)\n",
    "# Sequential evaluation\n",
    "def index(starts, stops, pointers):\n",
    "    for i in range(len(starts)):\n",
    "        pointers[starts[i]:stops[i]] = numpy.arange(stops[i]-starts[i])\n",
    "index(jets_starts, jets_stops, pointer_seq)"
   ]
  },
  {
   "cell_type": "code",
   "execution_count": 11,
   "metadata": {},
   "outputs": [],
   "source": [
    "host_pointer_data = gpu_pointer.get()\n",
    "# Compare. Will not print anything if equal\n",
    "assert(host_pointer_data.all()==pointer_seq.all())"
   ]
  },
  {
   "cell_type": "code",
   "execution_count": null,
   "metadata": {},
   "outputs": [],
   "source": []
  }
 ],
 "metadata": {
  "kernelspec": {
   "display_name": "Python 3",
   "language": "python",
   "name": "python3"
  },
  "language_info": {
   "codemirror_mode": {
    "name": "ipython",
    "version": 3
   },
   "file_extension": ".py",
   "mimetype": "text/x-python",
   "name": "python",
   "nbconvert_exporter": "python",
   "pygments_lexer": "ipython3",
   "version": "3.6.5"
  }
 },
 "nbformat": 4,
 "nbformat_minor": 2
}
