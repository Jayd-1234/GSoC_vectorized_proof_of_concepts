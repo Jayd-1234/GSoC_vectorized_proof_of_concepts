{
 "cells": [
  {
   "cell_type": "code",
   "execution_count": null,
   "metadata": {},
   "outputs": [],
   "source": [
    "import numpy\n",
    "import sys"
   ]
  },
  {
   "cell_type": "code",
   "execution_count": null,
   "metadata": {},
   "outputs": [],
   "source": [
    "# Data arrays\n",
    "NUMEVENTS = 50\n",
    "AVENUMPARTICLES = 10\n",
    "\n",
    "numjets = numpy.random.poisson(AVENUMPARTICLES, NUMEVENTS)\n",
    "stops = numpy.cumsum(numjets).astype(numpy.int)\n",
    "starts = numpy.zeros_like(stops)                              # Starts array\n",
    "starts[1:] = stops[:-1]"
   ]
  },
  {
   "cell_type": "code",
   "execution_count": null,
   "metadata": {},
   "outputs": [],
   "source": [
    "# Offsets and other required data\n",
    "offsets = stops-starts\n",
    "data = numpy.random.randn(stops[-1])"
   ]
  },
  {
   "cell_type": "code",
   "execution_count": 11,
   "metadata": {},
   "outputs": [],
   "source": [
    "events_index = numpy.arange(NUMEVENTS)\n",
    "i_i = numpy.floor(stops[events_index]/2).astype(numpy.int)\n",
    "temp_data = numpy.copy(data)\n",
    "min_data = numpy.ones(NUMEVENTS)*-1\n",
    "particles_index = numpy.arange(stops[-1]).astype(numpy.int)"
   ]
  },
  {
   "cell_type": "code",
   "execution_count": 35,
   "metadata": {},
   "outputs": [],
   "source": [
    "def arr_min(arr):\n",
    "    index = numpy.arange(len(arr))  \n",
    "    i = (len(arr))//2\n",
    "    temp_data = numpy.copy(arr)\n",
    "    while(i>=1):\n",
    "        mask = numpy.array(index<i)\n",
    "        temp_data[index[mask]] = numpy.minimum(temp_data[index[mask]], temp_data[(index[mask]+i).astype(numpy.int)])\n",
    "        if (i%2!=0and i!=1):\n",
    "            i = i//2+1\n",
    "        else: \n",
    "            i = i//2\n",
    "    return min(temp_data[0], temp_data[-1])"
   ]
  },
  {
   "cell_type": "code",
   "execution_count": 36,
   "metadata": {},
   "outputs": [],
   "source": [
    "for event_index in events_index:\n",
    "    min_data[event_index] = arr_min(data[starts[event_index]:stops[event_index]])"
   ]
  },
  {
   "cell_type": "code",
   "execution_count": 37,
   "metadata": {},
   "outputs": [
    {
     "data": {
      "text/plain": [
       "array([-2.36887489, -1.08126912, -2.85307877, -0.8006735 , -1.90631886,\n",
       "       -1.19757029, -2.49930658, -0.84825677, -1.24571702, -0.54792105,\n",
       "       -2.48725865, -1.92126667, -0.08630625, -2.85541633, -2.75855534,\n",
       "       -1.31378898, -1.37248236, -2.14800148, -2.04231156, -1.41847841,\n",
       "       -0.60779981, -1.11359865, -1.13919428, -0.68601878, -1.45709402,\n",
       "       -0.90121003, -2.5890923 , -0.61605077, -1.44872381, -3.63262831,\n",
       "       -1.3607621 , -1.55347511, -1.41469772, -1.89843752, -0.38705393,\n",
       "       -2.51315439, -1.11249401, -0.65078834, -2.25401034, -1.20113438,\n",
       "       -3.03450185, -1.33199755, -0.5617066 , -1.58382516, -1.81345254,\n",
       "       -1.27109732, -2.41376184, -1.18139074, -0.90982097, -1.42203609])"
      ]
     },
     "execution_count": 37,
     "metadata": {},
     "output_type": "execute_result"
    }
   ],
   "source": [
    "min_data"
   ]
  },
  {
   "cell_type": "code",
   "execution_count": 38,
   "metadata": {},
   "outputs": [],
   "source": [
    "min_data2 = numpy.empty(NUMEVENTS)\n",
    "for i in range(NUMEVENTS):\n",
    "    min_data2[i] = numpy.min(data[starts[i]:stops[i]])"
   ]
  },
  {
   "cell_type": "code",
   "execution_count": 40,
   "metadata": {},
   "outputs": [
    {
     "data": {
      "text/plain": [
       "array([ 0.,  0.,  0.,  0.,  0.,  0.,  0.,  0.,  0.,  0.,  0.,  0.,  0.,\n",
       "        0.,  0.,  0.,  0.,  0.,  0.,  0.,  0.,  0.,  0.,  0.,  0.,  0.,\n",
       "        0.,  0.,  0.,  0.,  0.,  0.,  0.,  0.,  0.,  0.,  0.,  0.,  0.,\n",
       "        0.,  0.,  0.,  0.,  0.,  0.,  0.,  0.,  0.,  0.,  0.])"
      ]
     },
     "execution_count": 40,
     "metadata": {},
     "output_type": "execute_result"
    }
   ],
   "source": [
    "min_data2-min_data"
   ]
  },
  {
   "cell_type": "code",
   "execution_count": null,
   "metadata": {},
   "outputs": [],
   "source": []
  }
 ],
 "metadata": {
  "kernelspec": {
   "display_name": "Python 3",
   "language": "python",
   "name": "python3"
  },
  "language_info": {
   "codemirror_mode": {
    "name": "ipython",
    "version": 3
   },
   "file_extension": ".py",
   "mimetype": "text/x-python",
   "name": "python",
   "nbconvert_exporter": "python",
   "pygments_lexer": "ipython3",
   "version": "3.6.5"
  }
 },
 "nbformat": 4,
 "nbformat_minor": 2
}
