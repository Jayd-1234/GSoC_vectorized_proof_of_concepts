{
 "cells": [
  {
   "cell_type": "markdown",
   "metadata": {},
   "source": [
    "# Pairs vectorized\n",
    "\n",
    "#### Uses the following information:\n",
    "- parents of pairs\n",
    "- pairs indices\n",
    "- Usual starts,stops,counts etc.\n",
    "\n",
    "#### Basic idea:\n",
    "\n",
    "This involves decomposition of linear matrix indices to upper traingular indices. While an indigenous decomposition was derived during CUDA pairs implementation, here, I chose to tweak one of the standard decomposition methods, which is linked as an **SO** answer a few cells below. This has been done looking at the nature of solution expected. \n"
   ]
  },
  {
   "cell_type": "code",
   "execution_count": 1,
   "metadata": {},
   "outputs": [],
   "source": [
    "import numpy as np\n",
    "import sys\n",
    "import numba"
   ]
  },
  {
   "cell_type": "code",
   "execution_count": 2,
   "metadata": {},
   "outputs": [],
   "source": [
    "NUMEVENTS = 50\n",
    "AVENUMJETS = 10\n",
    "\n",
    "numjets = np.random.poisson(AVENUMJETS, NUMEVENTS).astype(np.int)\n",
    "stops = np.cumsum(numjets).astype(np.int)\n",
    "starts = np.zeros_like(stops)\n",
    "starts[1:] = stops[:-1]\n",
    "\n",
    "counts = stops-starts\n",
    "offsets = np.zeros(len(numjets)+1)\n",
    "offsets[1:] = stops[:]"
   ]
  },
  {
   "cell_type": "code",
   "execution_count": 3,
   "metadata": {},
   "outputs": [],
   "source": [
    "parents = np.empty(stops[-1], dtype=np.int)\n",
    "\n",
    "@numba.jit()\n",
    "def vectorized_search(offsets, content):\n",
    "    index = np.arange(len(content), dtype=int)                     # threadIdx.x on CUDA\n",
    "    below = np.zeros(len(content), dtype=int)                      # just below = 0 on CUDA\n",
    "    above = np.ones(len(content), dtype=int) * (len(offsets) - 1)  # same for above\n",
    "    while True:\n",
    "        middle = (below + above) // 2\n",
    "\n",
    "        change_below = offsets[middle + 1] <= index                   # which \"belows\" must we change?\n",
    "        change_above = offsets[middle] > index                        # which \"aboves\"?\n",
    "\n",
    "        if not np.bitwise_or(change_below, change_above).any():    # neither? great! we're done!\n",
    "            break\n",
    "        else:\n",
    "            below = np.where(change_below, middle + 1, below)      # vectorized \"if\" statement\n",
    "            above = np.where(change_above, middle - 1, above)      # this is the only branch\n",
    "\n",
    "    return middle"
   ]
  },
  {
   "cell_type": "code",
   "execution_count": 4,
   "metadata": {},
   "outputs": [],
   "source": [
    "# pairs_indices should properly be called pairs_counts\n",
    "pairs_indices = np.zeros(len(numjets)+1)\n",
    "pairs_indices[1:] = np.cumsum(counts*(counts+1)/2)\n",
    "pairs_indices = pairs_indices.astype(np.int)"
   ]
  },
  {
   "cell_type": "code",
   "execution_count": 5,
   "metadata": {},
   "outputs": [],
   "source": [
    "# pairs_contents should be called pairs_indices\n",
    "pairs_contents = np.arange(pairs_indices[-1]).astype(np.int)\n",
    "pairs_parents = vectorized_search(pairs_indices, pairs_contents)\n",
    "pairs_parents = pairs_parents.astype(np.int)"
   ]
  },
  {
   "cell_type": "code",
   "execution_count": 6,
   "metadata": {},
   "outputs": [],
   "source": [
    "left = np.empty_like(pairs_contents)\n",
    "right = np.empty_like(pairs_contents)"
   ]
  },
  {
   "cell_type": "markdown",
   "metadata": {},
   "source": [
    "For the formula relating linear indices to upper triangular indices,\n",
    "see [here](https://stackoverflow.com/questions/27086195/linear-index-upper-triangular-matrix),[here](https://stackoverflow.com/questions/19143657/linear-indexing-in-symmetric-matrices) and [here](https://math.stackexchange.com/questions/646117/how-to-find-a-function-mapping-matrix-indices)\n",
    "The formula simplified is: \n",
    "```python\n",
    "i = floor(( 2*n+1 - sqrt((2n+1)*(2n+1) - 8*k ))/ 2) ;\n",
    "j = k - n*i + i*(i-1)/2 ;\n",
    "```\n",
    "Credit goes to [@keeran Brabazon](https://stackoverflow.com/users/2839128/keeran-brabazon) for the formula. I tweaked it to fit our needs."
   ]
  },
  {
   "cell_type": "code",
   "execution_count": 7,
   "metadata": {},
   "outputs": [],
   "source": [
    "left[pairs_contents] = np.floor((pairs_contents-pairs_indices[pairs_parents[pairs_contents]])/(counts[pairs_parents[pairs_contents]]*(counts[pairs_parents[pairs_contents]]-1)/2))"
   ]
  },
  {
   "cell_type": "code",
   "execution_count": 8,
   "metadata": {},
   "outputs": [],
   "source": [
    "# Keep consistency with formula\n",
    "n = counts[pairs_parents[pairs_contents]]\n",
    "k = pairs_contents-pairs_indices[pairs_parents[pairs_contents]]\n",
    "\n",
    "# Add offset to the pairs_indices\n",
    "left[pairs_contents] = starts[pairs_parents[pairs_contents]]+ np.floor((2*n+1 - np.sqrt((2*n+1)*(2*n+1) - 8*k))/2)\n",
    "i = left[pairs_contents] - starts[pairs_parents[pairs_contents]]\n",
    "\n",
    "# Add offset and fix the issue of lower triangular indices by adding i\n",
    "right[pairs_contents] = starts[pairs_parents[pairs_contents]] + k - n*i + i*(i-1)/2 + i"
   ]
  },
  {
   "cell_type": "code",
   "execution_count": 9,
   "metadata": {},
   "outputs": [
    {
     "name": "stdout",
     "output_type": "stream",
     "text": [
      "Event 0\n",
      "Left [ 0  0  0  0  0  0  0  0  0  0  0  0  0  1  1  1  1  1  1  1  1  1  1  1  1\n",
      "  2  2  2  2  2  2  2  2  2  2  2  3  3  3  3  3  3  3  3  3  3  4  4  4  4\n",
      "  4  4  4  4  4  5  5  5  5  5  5  5  5  6  6  6  6  6  6  6  7  7  7  7  7\n",
      "  7  8  8  8  8  8  9  9  9  9 10 10 10 11 11 12]\n",
      " \n",
      "Right [ 0  1  2  3  4  5  6  7  8  9 10 11 12  1  2  3  4  5  6  7  8  9 10 11 12\n",
      "  2  3  4  5  6  7  8  9 10 11 12  3  4  5  6  7  8  9 10 11 12  4  5  6  7\n",
      "  8  9 10 11 12  5  6  7  8  9 10 11 12  6  7  8  9 10 11 12  7  8  9 10 11\n",
      " 12  8  9 10 11 12  9 10 11 12 10 11 12 11 12 12]\n",
      " \n",
      "\n",
      "Event 1\n",
      "Left [13 13 13 13 13 13 13 13 13 13 14 14 14 14 14 14 14 14 14 15 15 15 15 15 15\n",
      " 15 15 16 16 16 16 16 16 16 17 17 17 17 17 17 18 18 18 18 18 19 19 19 19 20\n",
      " 20 20 21 21 22]\n",
      " \n",
      "Right [13 14 15 16 17 18 19 20 21 22 14 15 16 17 18 19 20 21 22 15 16 17 18 19 20\n",
      " 21 22 16 17 18 19 20 21 22 17 18 19 20 21 22 18 19 20 21 22 19 20 21 22 20\n",
      " 21 22 21 22 22]\n",
      " \n",
      "\n",
      "Event 2\n",
      "Left [23 23 23 23 23 23 23 23 24 24 24 24 24 24 24 25 25 25 25 25 25 26 26 26 26\n",
      " 26 27 27 27 27 28 28 28 29 29 30]\n",
      " \n",
      "Right [23 24 25 26 27 28 29 30 24 25 26 27 28 29 30 25 26 27 28 29 30 26 27 28 29\n",
      " 30 27 28 29 30 28 29 30 29 30 30]\n",
      " \n",
      "\n",
      "Event 3\n",
      "Left [31 31 31 31 31 31 32 32 32 32 32 33 33 33 33 34 34 34 35 35 36]\n",
      " \n",
      "Right [31 32 33 34 35 36 32 33 34 35 36 33 34 35 36 34 35 36 35 36 36]\n",
      " \n",
      "\n",
      "Event 4\n",
      "Left [37 37 37 37 37 37 37 37 37 37 37 37 37 37 38 38 38 38 38 38 38 38 38 38 38\n",
      " 38 38 39 39 39 39 39 39 39 39 39 39 39 39 40 40 40 40 40 40 40 40 40 40 40\n",
      " 41 41 41 41 41 41 41 41 41 41 42 42 42 42 42 42 42 42 42 43 43 43 43 43 43\n",
      " 43 43 44 44 44 44 44 44 44 45 45 45 45 45 45 46 46 46 46 46 47 47 47 47 48\n",
      " 48 48 49 49 50]\n",
      " \n",
      "Right [37 38 39 40 41 42 43 44 45 46 47 48 49 50 38 39 40 41 42 43 44 45 46 47 48\n",
      " 49 50 39 40 41 42 43 44 45 46 47 48 49 50 40 41 42 43 44 45 46 47 48 49 50\n",
      " 41 42 43 44 45 46 47 48 49 50 42 43 44 45 46 47 48 49 50 43 44 45 46 47 48\n",
      " 49 50 44 45 46 47 48 49 50 45 46 47 48 49 50 46 47 48 49 50 47 48 49 50 48\n",
      " 49 50 49 50 50]\n",
      " \n",
      "\n",
      "Event 5\n",
      "Left [51 51 51 51 51 52 52 52 52 53 53 53 54 54 55]\n",
      " \n",
      "Right [51 52 53 54 55 52 53 54 55 53 54 55 54 55 55]\n",
      " \n",
      "\n"
     ]
    }
   ],
   "source": [
    "for i in range(6):\n",
    "    print(\"Event {}\\nLeft {}\\n \\nRight {}\\n \\n\".format(i,left[pairs_indices[i]:pairs_indices[i+1]],right[pairs_indices[i]:pairs_indices[i+1]]))"
   ]
  },
  {
   "cell_type": "code",
   "execution_count": null,
   "metadata": {},
   "outputs": [],
   "source": []
  }
 ],
 "metadata": {
  "kernelspec": {
   "display_name": "Python 3",
   "language": "python",
   "name": "python3"
  },
  "language_info": {
   "codemirror_mode": {
    "name": "ipython",
    "version": 3
   },
   "file_extension": ".py",
   "mimetype": "text/x-python",
   "name": "python",
   "nbconvert_exporter": "python",
   "pygments_lexer": "ipython3",
   "version": "3.6.5"
  }
 },
 "nbformat": 4,
 "nbformat_minor": 2
}
