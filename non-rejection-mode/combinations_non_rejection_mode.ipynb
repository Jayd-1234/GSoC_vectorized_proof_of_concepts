{
 "cells": [
  {
   "cell_type": "markdown",
   "metadata": {},
   "source": [
    "# Combinations vectorized\n",
    "\n",
    "#### Uses the following information:\n",
    "- parents of pairs\n",
    "- pairs indices\n",
    "- Usual starts,stops,counts etc.\n",
    "\n",
    "#### Basic idea:\n",
    "\n",
    "We can note that `left` is the quotient of division between `pairs_index-pairs_start[event]` and `counts[event]`. `right` on the other hand, is the result of modulus of the abovementioned factors. We can use it to form the result.\n"
   ]
  },
  {
   "cell_type": "code",
   "execution_count": 1,
   "metadata": {},
   "outputs": [],
   "source": [
    "import numpy as np\n",
    "import sys\n",
    "import numba"
   ]
  },
  {
   "cell_type": "code",
   "execution_count": 2,
   "metadata": {},
   "outputs": [],
   "source": [
    "NUMEVENTS = 50\n",
    "AVENUMJETS = 10\n",
    "\n",
    "numjets = np.random.poisson(AVENUMJETS, NUMEVENTS).astype(np.int)\n",
    "stops = np.cumsum(numjets).astype(np.int)\n",
    "starts = np.zeros_like(stops)\n",
    "starts[1:] = stops[:-1]\n",
    "\n",
    "counts = stops-starts\n",
    "offsets = np.zeros(len(numjets)+1)\n",
    "offsets[1:] = stops[:]"
   ]
  },
  {
   "cell_type": "code",
   "execution_count": 3,
   "metadata": {},
   "outputs": [
    {
     "name": "stdout",
     "output_type": "stream",
     "text": [
      "done!\n"
     ]
    }
   ],
   "source": [
    "parents = np.empty(stops[-1], dtype=np.int)\n",
    "\n",
    "@numba.jit()\n",
    "def vectorized_search(offsets, content):\n",
    "    index = np.arange(len(content), dtype=int)                     # threadIdx.x on CUDA\n",
    "    below = np.zeros(len(content), dtype=int)                      # just below = 0 on CUDA\n",
    "    above = np.ones(len(content), dtype=int) * (len(offsets) - 1)  # same for above\n",
    "    while True:\n",
    "        middle = (below + above) // 2\n",
    "\n",
    "        change_below = offsets[middle + 1] <= index                   # which \"belows\" must we change?\n",
    "        change_above = offsets[middle] > index                        # which \"aboves\"?\n",
    "\n",
    "        if not np.bitwise_or(change_below, change_above).any():    # neither? great! we're done!\n",
    "            break\n",
    "        else:\n",
    "            below = np.where(change_below, middle + 1, below)      # vectorized \"if\" statement\n",
    "            above = np.where(change_above, middle - 1, above)      # this is the only branch\n",
    "\n",
    "    return middle"
   ]
  },
  {
   "cell_type": "code",
   "execution_count": 48,
   "metadata": {},
   "outputs": [],
   "source": [
    "# pairs_indices should properly be called pairs_counts\n",
    "pairs_indices = np.zeros(len(numjets)+1)\n",
    "pairs_indices[1:] = np.cumsum(counts*counts)\n",
    "pairs_indices = pairs_indices.astype(np.int)"
   ]
  },
  {
   "cell_type": "code",
   "execution_count": 14,
   "metadata": {},
   "outputs": [
    {
     "name": "stdout",
     "output_type": "stream",
     "text": [
      "done!\n"
     ]
    }
   ],
   "source": [
    "# pairs_contents should be called pairs_indices\n",
    "pairs_contents = np.arange(pairs_indices[-1]).astype(np.int)\n",
    "pairs_parents = vectorized_search(pairs_indices, pairs_contents)\n",
    "pairs_parents = pairs_parents.astype(np.int)"
   ]
  },
  {
   "cell_type": "code",
   "execution_count": 18,
   "metadata": {},
   "outputs": [],
   "source": [
    "left = np.empty_like(pairs_contents)\n",
    "right = np.empty_like(pairs_contents)"
   ]
  },
  {
   "cell_type": "code",
   "execution_count": 84,
   "metadata": {},
   "outputs": [],
   "source": [
    "left[pairs_contents] = starts[pairs_parents[pairs_contents]] + np.floor((pairs_contents-pairs_indices[pairs_parents[pairs_contents]])/counts[pairs_parents[pairs_contents]]).astype(np.int)\n",
    "right[pairs_contents] = starts[pairs_parents[pairs_contents]]+(pairs_contents-pairs_indices[pairs_parents[pairs_contents]])-counts[pairs_parents[pairs_contents]]*np.floor((pairs_contents-pairs_indices[pairs_parents[pairs_contents]])/counts[pairs_parents[pairs_contents]])"
   ]
  },
  {
   "cell_type": "code",
   "execution_count": 88,
   "metadata": {},
   "outputs": [
    {
     "name": "stdout",
     "output_type": "stream",
     "text": [
      "Event 0\n",
      " Left [0 0 0 0 0 0 0 1 1 1 1 1 1 1 2 2 2 2 2 2 2 3 3 3 3 3 3 3 4 4 4 4 4 4 4 5 5\n",
      " 5 5 5 5 5 6 6 6 6 6 6 6]\n",
      " \n",
      "Right [0 1 2 3 4 5 6 0 1 2 3 4 5 6 0 1 2 3 4 5 6 0 1 2 3 4 5 6 0 1 2 3 4 5 6 0 1\n",
      " 2 3 4 5 6 0 1 2 3 4 5 6]\n",
      " \n",
      "\n",
      "Event 1\n",
      " Left [ 7  7  7  7  7  7  7  7  7  7  8  8  8  8  8  8  8  8  8  8  9  9  9  9  9\n",
      "  9  9  9  9  9 10 10 10 10 10 10 10 10 10 10 11 11 11 11 11 11 11 11 11 11\n",
      " 12 12 12 12 12 12 12 12 12 12 13 13 13 13 13 13 13 13 13 13 14 14 14 14 14\n",
      " 14 14 14 14 14 15 15 15 15 15 15 15 15 15 15 16 16 16 16 16 16 16 16 16 16]\n",
      " \n",
      "Right [ 7  8  9 10 11 12 13 14 15 16  7  8  9 10 11 12 13 14 15 16  7  8  9 10 11\n",
      " 12 13 14 15 16  7  8  9 10 11 12 13 14 15 16  7  8  9 10 11 12 13 14 15 16\n",
      "  7  8  9 10 11 12 13 14 15 16  7  8  9 10 11 12 13 14 15 16  7  8  9 10 11\n",
      " 12 13 14 15 16  7  8  9 10 11 12 13 14 15 16  7  8  9 10 11 12 13 14 15 16]\n",
      " \n",
      "\n",
      "Event 2\n",
      " Left [17 17 17 17 17 17 17 17 17 17 18 18 18 18 18 18 18 18 18 18 19 19 19 19 19\n",
      " 19 19 19 19 19 20 20 20 20 20 20 20 20 20 20 21 21 21 21 21 21 21 21 21 21\n",
      " 22 22 22 22 22 22 22 22 22 22 23 23 23 23 23 23 23 23 23 23 24 24 24 24 24\n",
      " 24 24 24 24 24 25 25 25 25 25 25 25 25 25 25 26 26 26 26 26 26 26 26 26 26]\n",
      " \n",
      "Right [17 18 19 20 21 22 23 24 25 26 17 18 19 20 21 22 23 24 25 26 17 18 19 20 21\n",
      " 22 23 24 25 26 17 18 19 20 21 22 23 24 25 26 17 18 19 20 21 22 23 24 25 26\n",
      " 17 18 19 20 21 22 23 24 25 26 17 18 19 20 21 22 23 24 25 26 17 18 19 20 21\n",
      " 22 23 24 25 26 17 18 19 20 21 22 23 24 25 26 17 18 19 20 21 22 23 24 25 26]\n",
      " \n",
      "\n",
      "Event 3\n",
      " Left [27 27 27 27 27 27 27 27 27 27 27 27 27 27 27 28 28 28 28 28 28 28 28 28 28\n",
      " 28 28 28 28 28 29 29 29 29 29 29 29 29 29 29 29 29 29 29 29 30 30 30 30 30\n",
      " 30 30 30 30 30 30 30 30 30 30 31 31 31 31 31 31 31 31 31 31 31 31 31 31 31\n",
      " 32 32 32 32 32 32 32 32 32 32 32 32 32 32 32 33 33 33 33 33 33 33 33 33 33\n",
      " 33 33 33 33 33 34 34 34 34 34 34 34 34 34 34 34 34 34 34 34 35 35 35 35 35\n",
      " 35 35 35 35 35 35 35 35 35 35 36 36 36 36 36 36 36 36 36 36 36 36 36 36 36\n",
      " 37 37 37 37 37 37 37 37 37 37 37 37 37 37 37 38 38 38 38 38 38 38 38 38 38\n",
      " 38 38 38 38 38 39 39 39 39 39 39 39 39 39 39 39 39 39 39 39 40 40 40 40 40\n",
      " 40 40 40 40 40 40 40 40 40 40 41 41 41 41 41 41 41 41 41 41 41 41 41 41 41]\n",
      " \n",
      "Right [27 28 29 30 31 32 33 34 35 36 37 38 39 40 41 27 28 29 30 31 32 33 34 35 36\n",
      " 37 38 39 40 41 27 28 29 30 31 32 33 34 35 36 37 38 39 40 41 27 28 29 30 31\n",
      " 32 33 34 35 36 37 38 39 40 41 27 28 29 30 31 32 33 34 35 36 37 38 39 40 41\n",
      " 27 28 29 30 31 32 33 34 35 36 37 38 39 40 41 27 28 29 30 31 32 33 34 35 36\n",
      " 37 38 39 40 41 27 28 29 30 31 32 33 34 35 36 37 38 39 40 41 27 28 29 30 31\n",
      " 32 33 34 35 36 37 38 39 40 41 27 28 29 30 31 32 33 34 35 36 37 38 39 40 41\n",
      " 27 28 29 30 31 32 33 34 35 36 37 38 39 40 41 27 28 29 30 31 32 33 34 35 36\n",
      " 37 38 39 40 41 27 28 29 30 31 32 33 34 35 36 37 38 39 40 41 27 28 29 30 31\n",
      " 32 33 34 35 36 37 38 39 40 41 27 28 29 30 31 32 33 34 35 36 37 38 39 40 41]\n",
      " \n",
      "\n",
      "Event 4\n",
      " Left [42 42 42 42 42 42 43 43 43 43 43 43 44 44 44 44 44 44 45 45 45 45 45 45 46\n",
      " 46 46 46 46 46 47 47 47 47 47 47]\n",
      " \n",
      "Right [42 43 44 45 46 47 42 43 44 45 46 47 42 43 44 45 46 47 42 43 44 45 46 47 42\n",
      " 43 44 45 46 47 42 43 44 45 46 47]\n",
      " \n",
      "\n",
      "Event 5\n",
      " Left [48 48 48 48 48 48 48 48 48 48 48 48 48 48 48 49 49 49 49 49 49 49 49 49 49\n",
      " 49 49 49 49 49 50 50 50 50 50 50 50 50 50 50 50 50 50 50 50 51 51 51 51 51\n",
      " 51 51 51 51 51 51 51 51 51 51 52 52 52 52 52 52 52 52 52 52 52 52 52 52 52\n",
      " 53 53 53 53 53 53 53 53 53 53 53 53 53 53 53 54 54 54 54 54 54 54 54 54 54\n",
      " 54 54 54 54 54 55 55 55 55 55 55 55 55 55 55 55 55 55 55 55 56 56 56 56 56\n",
      " 56 56 56 56 56 56 56 56 56 56 57 57 57 57 57 57 57 57 57 57 57 57 57 57 57\n",
      " 58 58 58 58 58 58 58 58 58 58 58 58 58 58 58 59 59 59 59 59 59 59 59 59 59\n",
      " 59 59 59 59 59 60 60 60 60 60 60 60 60 60 60 60 60 60 60 60 61 61 61 61 61\n",
      " 61 61 61 61 61 61 61 61 61 61 62 62 62 62 62 62 62 62 62 62 62 62 62 62 62]\n",
      " \n",
      "Right [48 49 50 51 52 53 54 55 56 57 58 59 60 61 62 48 49 50 51 52 53 54 55 56 57\n",
      " 58 59 60 61 62 48 49 50 51 52 53 54 55 56 57 58 59 60 61 62 48 49 50 51 52\n",
      " 53 54 55 56 57 58 59 60 61 62 48 49 50 51 52 53 54 55 56 57 58 59 60 61 62\n",
      " 48 49 50 51 52 53 54 55 56 57 58 59 60 61 62 48 49 50 51 52 53 54 55 56 57\n",
      " 58 59 60 61 62 48 49 50 51 52 53 54 55 56 57 58 59 60 61 62 48 49 50 51 52\n",
      " 53 54 55 56 57 58 59 60 61 62 48 49 50 51 52 53 54 55 56 57 58 59 60 61 62\n",
      " 48 49 50 51 52 53 54 55 56 57 58 59 60 61 62 48 49 50 51 52 53 54 55 56 57\n",
      " 58 59 60 61 62 48 49 50 51 52 53 54 55 56 57 58 59 60 61 62 48 49 50 51 52\n",
      " 53 54 55 56 57 58 59 60 61 62 48 49 50 51 52 53 54 55 56 57 58 59 60 61 62]\n",
      " \n",
      "\n"
     ]
    }
   ],
   "source": [
    "for i in range(6):\n",
    "    print(\"Event {}\\n Left {}\\n \\nRight {}\\n \\n\".format(i,left[pairs_indices[i]:pairs_indices[i+1]], right[pairs_indices[i]:pairs_indices[i+1]]))"
   ]
  },
  {
   "cell_type": "code",
   "execution_count": null,
   "metadata": {},
   "outputs": [],
   "source": []
  }
 ],
 "metadata": {
  "kernelspec": {
   "display_name": "Python 3",
   "language": "python",
   "name": "python3"
  },
  "language_info": {
   "codemirror_mode": {
    "name": "ipython",
    "version": 3
   },
   "file_extension": ".py",
   "mimetype": "text/x-python",
   "name": "python",
   "nbconvert_exporter": "python",
   "pygments_lexer": "ipython3",
   "version": "3.6.5"
  }
 },
 "nbformat": 4,
 "nbformat_minor": 2
}
