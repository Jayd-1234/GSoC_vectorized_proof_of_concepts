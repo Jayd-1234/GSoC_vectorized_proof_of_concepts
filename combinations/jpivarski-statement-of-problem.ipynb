{
 "cells": [
  {
   "cell_type": "markdown",
   "metadata": {},
   "source": [
    "# The cartesian product problem\n",
    "\n",
    "This notebook specifies what the cartesian product function is supposed to do by implementing it in a sequential (non-vectorized) way.\n",
    "\n",
    "A bit of nomenclature: we had been calling it \"combinations\" because I misremembered the name from `itertools`. The algorithm I was thinking about is called `itertools.product` for \"cartesian product\"— `itertools.combinations` is something else. (Sorry!)"
   ]
  },
  {
   "cell_type": "code",
   "execution_count": 1,
   "metadata": {},
   "outputs": [
    {
     "name": "stdout",
     "output_type": "stream",
     "text": [
      "Help on class product in module itertools:\n",
      "\n",
      "class product(__builtin__.object)\n",
      " |  product(*iterables) --> product object\n",
      " |  \n",
      " |  Cartesian product of input iterables.  Equivalent to nested for-loops.\n",
      " |  \n",
      " |  For example, product(A, B) returns the same as:  ((x,y) for x in A for y in B).\n",
      " |  The leftmost iterators are in the outermost for-loop, so the output tuples\n",
      " |  cycle in a manner similar to an odometer (with the rightmost element changing\n",
      " |  on every iteration).\n",
      " |  \n",
      " |  To compute the product of an iterable with itself, specify the number\n",
      " |  of repetitions with the optional repeat keyword argument. For example,\n",
      " |  product(A, repeat=4) means the same as product(A, A, A, A).\n",
      " |  \n",
      " |  product('ab', range(3)) --> ('a',0) ('a',1) ('a',2) ('b',0) ('b',1) ('b',2)\n",
      " |  product((0,1), (0,1), (0,1)) --> (0,0,0) (0,0,1) (0,1,0) (0,1,1) (1,0,0) ...\n",
      " |  \n",
      " |  Methods defined here:\n",
      " |  \n",
      " |  __getattribute__(...)\n",
      " |      x.__getattribute__('name') <==> x.name\n",
      " |  \n",
      " |  __iter__(...)\n",
      " |      x.__iter__() <==> iter(x)\n",
      " |  \n",
      " |  next(...)\n",
      " |      x.next() -> the next value, or raise StopIteration\n",
      " |  \n",
      " |  ----------------------------------------------------------------------\n",
      " |  Data and other attributes defined here:\n",
      " |  \n",
      " |  __new__ = <built-in method __new__ of type object>\n",
      " |      T.__new__(S, ...) -> a new object with type S, a subtype of T\n",
      "\n"
     ]
    }
   ],
   "source": [
    "import itertools\n",
    "help(itertools.product)"
   ]
  },
  {
   "cell_type": "markdown",
   "metadata": {},
   "source": [
    "**Example:**"
   ]
  },
  {
   "cell_type": "code",
   "execution_count": 2,
   "metadata": {},
   "outputs": [
    {
     "data": {
      "text/plain": [
       "[('a', 'x'), ('a', 'y'), ('b', 'x'), ('b', 'y'), ('c', 'x'), ('c', 'y')]"
      ]
     },
     "execution_count": 2,
     "metadata": {},
     "output_type": "execute_result"
    }
   ],
   "source": [
    "list(itertools.product([\"a\", \"b\", \"c\"], [\"x\", \"y\"]))"
   ]
  },
  {
   "cell_type": "markdown",
   "metadata": {},
   "source": [
    "Python's `itertools.product` can iterate over collections of any type of object, but for vectorization, we'll have to limit our attention to numbers. In fact, if we limit ourselves to only products of `range`, then OAMap can pick that up and use it as pointer indexes, so for us, `itertools.product` of `range` *is* fully general."
   ]
  },
  {
   "cell_type": "code",
   "execution_count": 3,
   "metadata": {},
   "outputs": [
    {
     "data": {
      "text/plain": [
       "[(0, 0), (0, 1), (1, 0), (1, 1), (2, 0), (2, 1)]"
      ]
     },
     "execution_count": 3,
     "metadata": {},
     "output_type": "execute_result"
    }
   ],
   "source": [
    "indexes = list(itertools.product(range(3), range(2)))        # this is sufficient for us\n",
    "indexes"
   ]
  },
  {
   "cell_type": "code",
   "execution_count": 4,
   "metadata": {},
   "outputs": [
    {
     "data": {
      "text/plain": [
       "[('a', 'x'), ('a', 'y'), ('b', 'x'), ('b', 'y'), ('c', 'x'), ('c', 'y')]"
      ]
     },
     "execution_count": 4,
     "metadata": {},
     "output_type": "execute_result"
    }
   ],
   "source": [
    "collection1 = [\"a\", \"b\", \"c\"]\n",
    "collection2 = [\"x\", \"y\"]\n",
    "[(collection1[i1], collection2[i2]) for i1, i2 in indexes]   # because this is what OAMap pointer does"
   ]
  },
  {
   "cell_type": "markdown",
   "metadata": {},
   "source": [
    "# The physics case: products within events\n",
    "\n",
    "\n",
    "The `itertools.product` function takes a cartesian product of a whole collection with another— a \"full join\" in SQL terms. Imagine collections with millions of items: the number of items in the cartesian product is the multiplicative product of the number of items in each collection, so the cartesian product would be on the order of trillions of items. It scales poorly.\n",
    "\n",
    "Moreover, a full join is not what a physicist wants. Physicists need to compare, for example, all jets in an event with all muons in the same event, but never any combination of particles in different events. This dramatically cuts down the scale of the problem.\n",
    "\n",
    "It also adds a new complication: we have to compute cartesian products *separately for each event.* This notebook will show the per-event product algorithm three different ways."
   ]
  },
  {
   "cell_type": "markdown",
   "metadata": {},
   "source": [
    "# Sample inputs\n",
    "\n",
    "Here are some starts/stops arrays for two particle collections in a set of events. I'm using the \"offsets\" form, where\n",
    "\n",
    "`starts, stops = offsets[:-1], offsets[1:]`\n",
    "\n",
    "which represents slightly stronger assumptions than generic starts/stops (and is therefore easier). I believe all of this can be generalized to starts/stops, but `product` takes particle collections as a vararg (you can have arbitrarily many of them). Having a single array for each particle collection simplifies this argument handling— an issue that has nothing to do with the cartesian product algorithm, but the point of this is to be illustrative, so we want to avoid all unnecessary complications.\n",
    "\n",
    "The two particle collections will have a Poisson-distributed number of particle per event— fairly realistic."
   ]
  },
  {
   "cell_type": "code",
   "execution_count": 5,
   "metadata": {},
   "outputs": [
    {
     "name": "stdout",
     "output_type": "stream",
     "text": [
      "[ 0  2  2  4  4  6  9 11 14 15 15]\n",
      "[ 0  2  5  9 10 13 14 17 17 20 22]\n"
     ]
    }
   ],
   "source": [
    "import numpy\n",
    "import itertools\n",
    "\n",
    "NUMEVENTS = 10\n",
    "\n",
    "offsets1 = numpy.empty(NUMEVENTS + 1, dtype=int)                     # offsets has N+1 entries for N events\n",
    "offsets1[0] = 0\n",
    "offsets1[1:] = numpy.cumsum(numpy.random.poisson(1.5, NUMEVENTS))    # 1.5 particles per event on average\n",
    "\n",
    "offsets2 = numpy.empty(NUMEVENTS + 1, dtype=int)\n",
    "offsets2[0] = 0\n",
    "offsets2[1:] = numpy.cumsum(numpy.random.poisson(2.5, NUMEVENTS))    # 2.5 particles per event on average\n",
    "\n",
    "print(offsets1)\n",
    "print(offsets2)"
   ]
  },
  {
   "cell_type": "markdown",
   "metadata": {},
   "source": [
    "For each event, the number of particles of each type and their combinations is:"
   ]
  },
  {
   "cell_type": "code",
   "execution_count": 6,
   "metadata": {},
   "outputs": [
    {
     "name": "stdout",
     "output_type": "stream",
     "text": [
      "event 0 has 2 particles of type 1 and 2 particles of type 2 => 4 combinations\n",
      "event 1 has 0 particles of type 1 and 3 particles of type 2 => 0 combinations\n",
      "event 2 has 2 particles of type 1 and 4 particles of type 2 => 8 combinations\n",
      "event 3 has 0 particles of type 1 and 1 particles of type 2 => 0 combinations\n",
      "event 4 has 2 particles of type 1 and 3 particles of type 2 => 6 combinations\n",
      "event 5 has 3 particles of type 1 and 1 particles of type 2 => 3 combinations\n",
      "event 6 has 2 particles of type 1 and 3 particles of type 2 => 6 combinations\n",
      "event 7 has 3 particles of type 1 and 0 particles of type 2 => 0 combinations\n",
      "event 8 has 1 particles of type 1 and 3 particles of type 2 => 3 combinations\n",
      "event 9 has 0 particles of type 1 and 2 particles of type 2 => 0 combinations\n",
      "=> 30 entries in the output arrays\n"
     ]
    }
   ],
   "source": [
    "ntotcomb = 0\n",
    "for i in range(NUMEVENTS):\n",
    "    ntype1 = offsets1[i + 1] - offsets1[i]\n",
    "    ntype2 = offsets2[i + 1] - offsets2[i]\n",
    "    print(\"event {} has {} particles of type 1 and {} particles of type 2 => {} combinations\".format(\n",
    "        i, ntype1, ntype2, ntype1*ntype2))\n",
    "    ntotcomb += ntype1*ntype2\n",
    "\n",
    "print(\"=> {} entries in the output arrays\".format(ntotcomb))"
   ]
  },
  {
   "cell_type": "markdown",
   "metadata": {},
   "source": [
    "# Implementation 1: without using itertools.product\n",
    "\n",
    "Using the function we want to illustrate in the implementation would be hiding the details, so let's implement the per-event product without using `itertools.product`. Remember that this function takes arbitrarily many particle collections as input (as `*offsets`)."
   ]
  },
  {
   "cell_type": "code",
   "execution_count": 7,
   "metadata": {},
   "outputs": [],
   "source": [
    "def product(*offsets):\n",
    "    assert len(offsets) >= 2\n",
    "\n",
    "    # in a first pass, we have to determine how big the output is\n",
    "    outcounts = numpy.ones(NUMEVENTS, dtype=int)          # outcounts is a per-event number of combinations\n",
    "    for offset in offsets:\n",
    "        counts = offset[1:] - offset[:-1]                 # counts is stops - starts\n",
    "        outcounts *= counts\n",
    "        print(\"counts     = {}\".format(counts.tolist()))\n",
    "    print(\"outcounts  = {}\".format(outcounts.tolist()))\n",
    "\n",
    "    # now turn that counts array into an offsets array via cumsum\n",
    "    outoffsets = numpy.empty(NUMEVENTS + 1, dtype=int)\n",
    "    outoffsets[0] = 0\n",
    "    outoffsets[1:] = numpy.cumsum(outcounts)\n",
    "\n",
    "    print(\"outoffsets = {}\".format(outoffsets.tolist()))\n",
    "\n",
    "    # one \"out\" array per particle type, but all of them have the same length: the number of combinations\n",
    "    totalcount = outcounts.sum()\n",
    "    outs = [numpy.empty(totalcount, dtype=int) for offset in offsets]\n",
    "\n",
    "    # implementing \"product\" for an arbitrary number of inputs requires recursion (usually hard to vectorize)\n",
    "    def rangeall(i, j, k):\n",
    "        if j == len(offsets):\n",
    "            return 1\n",
    "        else:\n",
    "            cumulative = 0\n",
    "            for index in range(offsets[j][i], offsets[j][i + 1]):\n",
    "                cumulant = rangeall(i, j + 1, cumulative)\n",
    "                outs[j][outoffsets[i] + k + cumulative : outoffsets[i] + k + cumulative + cumulant] = index\n",
    "                # print(\"outs[{j}][outoffsets[{i}] + {k} + {cumulative} : outoffsets[{i}] + {k} + {cumulative} + {cumulant}] = {index}\".format(\n",
    "                #     i=i, j=j, k=k, cumulative=cumulative, cumulant=cumulant, index=index))\n",
    "                cumulative += cumulant\n",
    "            return cumulative\n",
    "\n",
    "    # the actual loop over events, which calls the recursive function once per event\n",
    "    for i in range(NUMEVENTS):\n",
    "        print(\"event {}:\".format(i))\n",
    "        rangeall(i, 0, 0)\n",
    "        print(\"outs:\\n    {}\".format(\"\\n    \".join(repr(out[outoffsets[i]:outoffsets[i + 1]].tolist()) for out in outs)))\n",
    "\n",
    "    # we need to get out the offsets for the outs arrays and the outs arrays\n",
    "    return outoffsets, outs"
   ]
  },
  {
   "cell_type": "code",
   "execution_count": 8,
   "metadata": {},
   "outputs": [
    {
     "name": "stdout",
     "output_type": "stream",
     "text": [
      "counts     = [2, 0, 2, 0, 2, 3, 2, 3, 1, 0]\n",
      "counts     = [2, 3, 4, 1, 3, 1, 3, 0, 3, 2]\n",
      "outcounts  = [4, 0, 8, 0, 6, 3, 6, 0, 3, 0]\n",
      "outoffsets = [0, 4, 4, 12, 12, 18, 21, 27, 27, 30, 30]\n",
      "event 0:\n",
      "outs:\n",
      "    [0, 0, 1, 1]\n",
      "    [0, 1, 0, 1]\n",
      "event 1:\n",
      "outs:\n",
      "    []\n",
      "    []\n",
      "event 2:\n",
      "outs:\n",
      "    [2, 2, 2, 2, 3, 3, 3, 3]\n",
      "    [5, 6, 7, 8, 5, 6, 7, 8]\n",
      "event 3:\n",
      "outs:\n",
      "    []\n",
      "    []\n",
      "event 4:\n",
      "outs:\n",
      "    [4, 4, 4, 5, 5, 5]\n",
      "    [10, 11, 12, 10, 11, 12]\n",
      "event 5:\n",
      "outs:\n",
      "    [6, 7, 8]\n",
      "    [13, 13, 13]\n",
      "event 6:\n",
      "outs:\n",
      "    [9, 9, 9, 10, 10, 10]\n",
      "    [14, 15, 16, 14, 15, 16]\n",
      "event 7:\n",
      "outs:\n",
      "    []\n",
      "    []\n",
      "event 8:\n",
      "outs:\n",
      "    [14, 14, 14]\n",
      "    [17, 18, 19]\n",
      "event 9:\n",
      "outs:\n",
      "    []\n",
      "    []\n"
     ]
    }
   ],
   "source": [
    "# compute it\n",
    "outoffsets, outs = product(offsets1, offsets2)"
   ]
  },
  {
   "cell_type": "code",
   "execution_count": 9,
   "metadata": {},
   "outputs": [
    {
     "name": "stdout",
     "output_type": "stream",
     "text": [
      "event 0    event 0   \n",
      "0 0        0 0       \n",
      "0 1        0 1       \n",
      "1 0        1 0       \n",
      "1 1        1 1       \n",
      "event 1    event 1   \n",
      "event 2    event 2   \n",
      "2 5        2 5       \n",
      "2 6        2 6       \n",
      "2 7        2 7       \n",
      "2 8        2 8       \n",
      "3 5        3 5       \n",
      "3 6        3 6       \n",
      "3 7        3 7       \n",
      "3 8        3 8       \n",
      "event 3    event 3   \n",
      "event 4    event 4   \n",
      "4 10       4 10      \n",
      "4 11       4 11      \n",
      "4 12       4 12      \n",
      "5 10       5 10      \n",
      "5 11       5 11      \n",
      "5 12       5 12      \n",
      "event 5    event 5   \n",
      "6 13       6 13      \n",
      "7 13       7 13      \n",
      "8 13       8 13      \n",
      "event 6    event 6   \n",
      "9 14       9 14      \n",
      "9 15       9 15      \n",
      "9 16       9 16      \n",
      "10 14      10 14     \n",
      "10 15      10 15     \n",
      "10 16      10 16     \n",
      "event 7    event 7   \n",
      "event 8    event 8   \n",
      "14 17      14 17     \n",
      "14 18      14 18     \n",
      "14 19      14 19     \n"
     ]
    }
   ],
   "source": [
    "# and demonstrate that the output is what we want (equivalent to nested for loops)\n",
    "\n",
    "def demonstrate(offsets1, offsets2, outoffsets, outs):\n",
    "    leftcolumn = []\n",
    "    for i in range(NUMEVENTS):\n",
    "        leftcolumn.append(\"event {}\".format(i))\n",
    "        for j1 in range(offsets1[i], offsets1[i + 1]):\n",
    "            for j2 in range(offsets2[i], offsets2[i + 1]):\n",
    "                leftcolumn.append(\"{} {}\".format(j1, j2))\n",
    "\n",
    "    rightcolumn = []\n",
    "    for outindex, (j1, j2) in enumerate(zip(outs[0], outs[1])):\n",
    "        for i, offset in enumerate(outoffsets):\n",
    "            if outindex == offset:\n",
    "                rightcolumn.append(\"event {}\".format(i))\n",
    "        rightcolumn.append(\"{} {}\".format(j1, j2))\n",
    "\n",
    "    for left, right in zip(leftcolumn, rightcolumn):\n",
    "        print(\"{:10s} {:10s}\".format(left, right))\n",
    "\n",
    "    for i, (left, right) in enumerate(zip(leftcolumn, rightcolumn)):\n",
    "        assert left == right, \"fails on line {}: {} != {}\".format(i, left, right)\n",
    "\n",
    "# print out what you get from for loops on the left, what you get from the outoffsets and outs on the right\n",
    "demonstrate(offsets1, offsets2, outoffsets, outs)"
   ]
  },
  {
   "cell_type": "markdown",
   "metadata": {},
   "source": [
    "# Implementation 2: with itertools.product\n",
    "\n",
    "That was a little hard to read because of the recursion. So let's put `itertools.product` back in. It's still useful to look at the algorithm this way because it makes a distinction between what is the event-handling and what is the cartesian product."
   ]
  },
  {
   "cell_type": "code",
   "execution_count": 10,
   "metadata": {},
   "outputs": [],
   "source": [
    "def product_itertools(*offsets):\n",
    "    assert len(offsets) >= 2\n",
    "\n",
    "    outcounts = numpy.ones(NUMEVENTS, dtype=int)\n",
    "    for offset in offsets:\n",
    "        counts = offset[1:] - offset[:-1]   # this is stops - starts\n",
    "        outcounts *= counts\n",
    "        print(\"counts     = {}\".format(counts.tolist()))\n",
    "    print(\"outcounts  = {}\".format(outcounts.tolist()))\n",
    "\n",
    "    outoffsets = numpy.empty(NUMEVENTS + 1, dtype=int)\n",
    "    outoffsets[0] = 0\n",
    "    outoffsets[1:] = numpy.cumsum(outcounts)\n",
    "\n",
    "    print(\"outoffsets = {}\".format(outoffsets.tolist()))\n",
    "\n",
    "    totalcount = outcounts.sum()\n",
    "    outs = [numpy.empty(totalcount, dtype=int) for offset in offsets]\n",
    "\n",
    "    where = 0\n",
    "    for i in range(NUMEVENTS):\n",
    "        print(\"event {}:\".format(i))\n",
    "        for indexes in itertools.product(*[range(offset[i], offset[i + 1]) for offset in offsets]):\n",
    "            for index, out in zip(indexes, outs):\n",
    "                out[where] = index\n",
    "            where += 1\n",
    "        print(\"outs:\\n    {}\".format(\"\\n    \".join(repr(out[outoffsets[i]:outoffsets[i + 1]].tolist()) for out in outs)))\n",
    "\n",
    "    return outoffsets, outs"
   ]
  },
  {
   "cell_type": "code",
   "execution_count": 11,
   "metadata": {},
   "outputs": [
    {
     "name": "stdout",
     "output_type": "stream",
     "text": [
      "counts     = [2, 0, 2, 0, 2, 3, 2, 3, 1, 0]\n",
      "counts     = [2, 3, 4, 1, 3, 1, 3, 0, 3, 2]\n",
      "outcounts  = [4, 0, 8, 0, 6, 3, 6, 0, 3, 0]\n",
      "outoffsets = [0, 4, 4, 12, 12, 18, 21, 27, 27, 30, 30]\n",
      "event 0:\n",
      "outs:\n",
      "    [0, 0, 1, 1]\n",
      "    [0, 1, 0, 1]\n",
      "event 1:\n",
      "outs:\n",
      "    []\n",
      "    []\n",
      "event 2:\n",
      "outs:\n",
      "    [2, 2, 2, 2, 3, 3, 3, 3]\n",
      "    [5, 6, 7, 8, 5, 6, 7, 8]\n",
      "event 3:\n",
      "outs:\n",
      "    []\n",
      "    []\n",
      "event 4:\n",
      "outs:\n",
      "    [4, 4, 4, 5, 5, 5]\n",
      "    [10, 11, 12, 10, 11, 12]\n",
      "event 5:\n",
      "outs:\n",
      "    [6, 7, 8]\n",
      "    [13, 13, 13]\n",
      "event 6:\n",
      "outs:\n",
      "    [9, 9, 9, 10, 10, 10]\n",
      "    [14, 15, 16, 14, 15, 16]\n",
      "event 7:\n",
      "outs:\n",
      "    []\n",
      "    []\n",
      "event 8:\n",
      "outs:\n",
      "    [14, 14, 14]\n",
      "    [17, 18, 19]\n",
      "event 9:\n",
      "outs:\n",
      "    []\n",
      "    []\n"
     ]
    }
   ],
   "source": [
    "# compute it\n",
    "outoffsets, outs = product_itertools(offsets1, offsets2)"
   ]
  },
  {
   "cell_type": "code",
   "execution_count": 12,
   "metadata": {},
   "outputs": [
    {
     "name": "stdout",
     "output_type": "stream",
     "text": [
      "event 0    event 0   \n",
      "0 0        0 0       \n",
      "0 1        0 1       \n",
      "1 0        1 0       \n",
      "1 1        1 1       \n",
      "event 1    event 1   \n",
      "event 2    event 2   \n",
      "2 5        2 5       \n",
      "2 6        2 6       \n",
      "2 7        2 7       \n",
      "2 8        2 8       \n",
      "3 5        3 5       \n",
      "3 6        3 6       \n",
      "3 7        3 7       \n",
      "3 8        3 8       \n",
      "event 3    event 3   \n",
      "event 4    event 4   \n",
      "4 10       4 10      \n",
      "4 11       4 11      \n",
      "4 12       4 12      \n",
      "5 10       5 10      \n",
      "5 11       5 11      \n",
      "5 12       5 12      \n",
      "event 5    event 5   \n",
      "6 13       6 13      \n",
      "7 13       7 13      \n",
      "8 13       8 13      \n",
      "event 6    event 6   \n",
      "9 14       9 14      \n",
      "9 15       9 15      \n",
      "9 16       9 16      \n",
      "10 14      10 14     \n",
      "10 15      10 15     \n",
      "10 16      10 16     \n",
      "event 7    event 7   \n",
      "event 8    event 8   \n",
      "14 17      14 17     \n",
      "14 18      14 18     \n",
      "14 19      14 19     \n"
     ]
    }
   ],
   "source": [
    "# and demonstrate that the output is what we want\n",
    "demonstrate(offsets1, offsets2, outoffsets, outs)"
   ]
  },
  {
   "cell_type": "markdown",
   "metadata": {},
   "source": [
    "# Implementation 3: only two inputs\n",
    "\n",
    "To further simplify the algorithm, suppose there are only two inputs. Then we can put explicit for loops in the generation of the output."
   ]
  },
  {
   "cell_type": "code",
   "execution_count": 13,
   "metadata": {},
   "outputs": [],
   "source": [
    "def product_two(offsets1, offsets2):\n",
    "    counts1 = offsets1[1:] - offsets1[:-1]\n",
    "    print(\"counts     = {}\".format(counts1.tolist()))\n",
    "    counts2 = offsets2[1:] - offsets2[:-1]\n",
    "    print(\"counts     = {}\".format(counts2.tolist()))\n",
    "\n",
    "    outcounts = counts1 * counts2\n",
    "    print(\"outcounts  = {}\".format(outcounts.tolist()))\n",
    "\n",
    "    outoffsets = numpy.empty(NUMEVENTS + 1, dtype=int)\n",
    "    outoffsets[0] = 0\n",
    "    outoffsets[1:] = numpy.cumsum(outcounts)\n",
    "\n",
    "    print(\"outoffsets = {}\".format(outoffsets.tolist()))\n",
    "\n",
    "    totalcount = outcounts.sum()\n",
    "    outs1 = numpy.empty(totalcount, dtype=int)\n",
    "    outs2 = numpy.empty(totalcount, dtype=int)\n",
    "\n",
    "    where = 0\n",
    "    for i in range(NUMEVENTS):\n",
    "        print(\"event {}\".format(i))\n",
    "        for index1 in range(offsets1[i], offsets1[i + 1]):\n",
    "            for index2 in range(offsets2[i], offsets2[i + 1]):\n",
    "                outs1[where] = index1\n",
    "                outs2[where] = index2\n",
    "                where += 1\n",
    "        print(\"outs:\\n    {}\\n    {}\".format(outs1[outoffsets[i]:outoffsets[i + 1]], outs2[outoffsets[i]:outoffsets[i + 1]]))\n",
    "\n",
    "    return outoffsets, [outs1, outs2]"
   ]
  },
  {
   "cell_type": "code",
   "execution_count": 14,
   "metadata": {},
   "outputs": [
    {
     "name": "stdout",
     "output_type": "stream",
     "text": [
      "counts     = [2, 0, 2, 0, 2, 3, 2, 3, 1, 0]\n",
      "counts     = [2, 3, 4, 1, 3, 1, 3, 0, 3, 2]\n",
      "outcounts  = [4, 0, 8, 0, 6, 3, 6, 0, 3, 0]\n",
      "outoffsets = [0, 4, 4, 12, 12, 18, 21, 27, 27, 30, 30]\n",
      "event 0\n",
      "outs:\n",
      "    [0 0 1 1]\n",
      "    [0 1 0 1]\n",
      "event 1\n",
      "outs:\n",
      "    []\n",
      "    []\n",
      "event 2\n",
      "outs:\n",
      "    [2 2 2 2 3 3 3 3]\n",
      "    [5 6 7 8 5 6 7 8]\n",
      "event 3\n",
      "outs:\n",
      "    []\n",
      "    []\n",
      "event 4\n",
      "outs:\n",
      "    [4 4 4 5 5 5]\n",
      "    [10 11 12 10 11 12]\n",
      "event 5\n",
      "outs:\n",
      "    [6 7 8]\n",
      "    [13 13 13]\n",
      "event 6\n",
      "outs:\n",
      "    [ 9  9  9 10 10 10]\n",
      "    [14 15 16 14 15 16]\n",
      "event 7\n",
      "outs:\n",
      "    []\n",
      "    []\n",
      "event 8\n",
      "outs:\n",
      "    [14 14 14]\n",
      "    [17 18 19]\n",
      "event 9\n",
      "outs:\n",
      "    []\n",
      "    []\n"
     ]
    }
   ],
   "source": [
    "# compute it\n",
    "outoffsets, outs = product_two(offsets1, offsets2)"
   ]
  },
  {
   "cell_type": "code",
   "execution_count": 15,
   "metadata": {},
   "outputs": [
    {
     "name": "stdout",
     "output_type": "stream",
     "text": [
      "event 0    event 0   \n",
      "0 0        0 0       \n",
      "0 1        0 1       \n",
      "1 0        1 0       \n",
      "1 1        1 1       \n",
      "event 1    event 1   \n",
      "event 2    event 2   \n",
      "2 5        2 5       \n",
      "2 6        2 6       \n",
      "2 7        2 7       \n",
      "2 8        2 8       \n",
      "3 5        3 5       \n",
      "3 6        3 6       \n",
      "3 7        3 7       \n",
      "3 8        3 8       \n",
      "event 3    event 3   \n",
      "event 4    event 4   \n",
      "4 10       4 10      \n",
      "4 11       4 11      \n",
      "4 12       4 12      \n",
      "5 10       5 10      \n",
      "5 11       5 11      \n",
      "5 12       5 12      \n",
      "event 5    event 5   \n",
      "6 13       6 13      \n",
      "7 13       7 13      \n",
      "8 13       8 13      \n",
      "event 6    event 6   \n",
      "9 14       9 14      \n",
      "9 15       9 15      \n",
      "9 16       9 16      \n",
      "10 14      10 14     \n",
      "10 15      10 15     \n",
      "10 16      10 16     \n",
      "event 7    event 7   \n",
      "event 8    event 8   \n",
      "14 17      14 17     \n",
      "14 18      14 18     \n",
      "14 19      14 19     \n"
     ]
    }
   ],
   "source": [
    "# and demonstrate that the output is what we want\n",
    "demonstrate(offsets1, offsets2, outoffsets, outs)"
   ]
  },
  {
   "cell_type": "markdown",
   "metadata": {},
   "source": [
    "# Pairs from product\n",
    "\n",
    "I said at a meeting that the `pairs` algorithm is easily derivable from the `product` algorithm (which I was calling \"combinations\" at that time). The `pairs` algorithm takes one collection as input, passes it to `product` twice, and masks out cases in which `index1 <= index2`."
   ]
  },
  {
   "cell_type": "code",
   "execution_count": 16,
   "metadata": {},
   "outputs": [
    {
     "name": "stdout",
     "output_type": "stream",
     "text": [
      "counts     = [2, 0, 2, 0, 2, 3, 2, 3, 1, 0]\n",
      "counts     = [2, 0, 2, 0, 2, 3, 2, 3, 1, 0]\n",
      "outcounts  = [4, 0, 4, 0, 4, 9, 4, 9, 1, 0]\n",
      "outoffsets = [0, 4, 4, 8, 8, 12, 21, 25, 34, 35, 35]\n",
      "event 0\n",
      "outs:\n",
      "    [0 0 1 1]\n",
      "    [0 1 0 1]\n",
      "event 1\n",
      "outs:\n",
      "    []\n",
      "    []\n",
      "event 2\n",
      "outs:\n",
      "    [2 2 3 3]\n",
      "    [2 3 2 3]\n",
      "event 3\n",
      "outs:\n",
      "    []\n",
      "    []\n",
      "event 4\n",
      "outs:\n",
      "    [4 4 5 5]\n",
      "    [4 5 4 5]\n",
      "event 5\n",
      "outs:\n",
      "    [6 6 6 7 7 7 8 8 8]\n",
      "    [6 7 8 6 7 8 6 7 8]\n",
      "event 6\n",
      "outs:\n",
      "    [ 9  9 10 10]\n",
      "    [ 9 10  9 10]\n",
      "event 7\n",
      "outs:\n",
      "    [11 11 11 12 12 12 13 13 13]\n",
      "    [11 12 13 11 12 13 11 12 13]\n",
      "event 8\n",
      "outs:\n",
      "    [14]\n",
      "    [14]\n",
      "event 9\n",
      "outs:\n",
      "    []\n",
      "    []\n"
     ]
    }
   ],
   "source": [
    "def pairs(offsets):\n",
    "    outoffsets, outs = product_two(offsets, offsets)\n",
    "    mask = outs[1] > outs[0]    # excludes diagonal of matrix; a useful variant keeps the diagonal\n",
    "    return outoffsets, outs[0], outs[1], mask\n",
    "\n",
    "outoffsets, outs1, outs2, mask = pairs(offsets1)"
   ]
  },
  {
   "cell_type": "code",
   "execution_count": 17,
   "metadata": {},
   "outputs": [
    {
     "name": "stdout",
     "output_type": "stream",
     "text": [
      "event 0    event 0   \n",
      "0 1        0 1       \n",
      "event 1    event 1   \n",
      "event 2    event 2   \n",
      "2 3        2 3       \n",
      "event 3    event 3   \n",
      "event 4    event 4   \n",
      "4 5        4 5       \n",
      "event 5    event 5   \n",
      "6 7        6 7       \n",
      "6 8        6 8       \n",
      "7 8        7 8       \n",
      "event 6    event 6   \n",
      "9 10       9 10      \n",
      "event 7    event 7   \n",
      "11 12      11 12     \n",
      "11 13      11 13     \n",
      "12 13      12 13     \n",
      "event 8    event 8   \n"
     ]
    }
   ],
   "source": [
    "# and demonstrate that it's what we want\n",
    "\n",
    "def demonstrate_pairs(offsets, outoffsets, outs1, outs2, mask):\n",
    "    leftcolumn = []\n",
    "    for i in range(NUMEVENTS):\n",
    "        leftcolumn.append(\"event {}\".format(i))\n",
    "        for j1 in range(offsets[i], offsets[i + 1]):\n",
    "            for j2 in range(j1 + 1, offsets[i + 1]):\n",
    "                leftcolumn.append(\"{} {}\".format(j1, j2))\n",
    "\n",
    "    rightcolumn = []\n",
    "    for outindex, (j1, j2, m) in enumerate(zip(outs1, outs2, mask)):\n",
    "        for i, offset in enumerate(outoffsets):\n",
    "            if outindex == offset:\n",
    "                rightcolumn.append(\"event {}\".format(i))\n",
    "        if m:\n",
    "            rightcolumn.append(\"{} {}\".format(j1, j2))\n",
    "\n",
    "    for left, right in zip(leftcolumn, rightcolumn):\n",
    "        print(\"{:10s} {:10s}\".format(left, right))\n",
    "\n",
    "    for i, (left, right) in enumerate(zip(leftcolumn, rightcolumn)):\n",
    "        assert left == right, \"fails on line {}: {} != {}\".format(i, left, right)\n",
    "\n",
    "demonstrate_pairs(offsets1, outoffsets, outs1, outs2, mask)"
   ]
  }
 ],
 "metadata": {
  "kernelspec": {
   "display_name": "Python 2",
   "language": "python",
   "name": "python2"
  },
  "language_info": {
   "codemirror_mode": {
    "name": "ipython",
    "version": 2
   },
   "file_extension": ".py",
   "mimetype": "text/x-python",
   "name": "python",
   "nbconvert_exporter": "python",
   "pygments_lexer": "ipython2",
   "version": "2.7.12"
  }
 },
 "nbformat": 4,
 "nbformat_minor": 2
}
