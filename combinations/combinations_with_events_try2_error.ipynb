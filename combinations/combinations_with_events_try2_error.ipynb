{
 "cells": [
  {
   "cell_type": "markdown",
   "metadata": {},
   "source": [
    "#### Testing combinations with starts and stops as indices\n",
    "\n",
    "This is intended to be used with oamap version ( I know we don't intend to finally use it, but let's go with it for now).\n",
    "\n",
    "##### Idea for calculation\n",
    "\n",
    "Using the kernel structure used in test_combinations, we can  generate combinations arrays for every event. \n",
    "\n",
    "For that, each event is assigned a block ( i.e. each block in the grid serves as an event), and the combinations is calculated for each block using the `starts[block_index]` and event length.\n",
    "This is appended to `left` and `right` arrays. "
   ]
  },
  {
   "cell_type": "code",
   "execution_count": 1,
   "metadata": {},
   "outputs": [],
   "source": [
    "import pycuda.autoinit\n",
    "import pycuda\n",
    "import pycuda.driver as cuda\n",
    "import pycuda.gpuarray as gpuarray\n",
    "from pycuda.compiler import *\n",
    "import numpy"
   ]
  },
  {
   "cell_type": "code",
   "execution_count": 2,
   "metadata": {},
   "outputs": [],
   "source": [
    "# Tha generation step. Let's form a random integer array, from which we will form starts \n",
    "# and stops arrays\n",
    "base_len = 32\n",
    "base_arr = numpy.random.randint(4, size=base_len)"
   ]
  },
  {
   "cell_type": "code",
   "execution_count": 3,
   "metadata": {},
   "outputs": [],
   "source": [
    "cumul_arr = numpy.cumsum(base_arr)"
   ]
  },
  {
   "cell_type": "code",
   "execution_count": 4,
   "metadata": {},
   "outputs": [],
   "source": [
    "start = cumul_arr[:-1]\n",
    "stop = cumul_arr[1:]"
   ]
  },
  {
   "cell_type": "code",
   "execution_count": 5,
   "metadata": {},
   "outputs": [
    {
     "data": {
      "text/plain": [
       "array([0, 0, 2, 5, 8], dtype=int32)"
      ]
     },
     "execution_count": 5,
     "metadata": {},
     "output_type": "execute_result"
    }
   ],
   "source": [
    "start[:5]"
   ]
  },
  {
   "cell_type": "code",
   "execution_count": 6,
   "metadata": {},
   "outputs": [
    {
     "data": {
      "text/plain": [
       "array([ 0,  2,  5,  8, 10], dtype=int32)"
      ]
     },
     "execution_count": 6,
     "metadata": {},
     "output_type": "execute_result"
    }
   ],
   "source": [
    "stop[:5]"
   ]
  },
  {
   "cell_type": "code",
   "execution_count": 7,
   "metadata": {},
   "outputs": [],
   "source": [
    "lengths = stop-start\n",
    "cumul_lengths = numpy.cumsum(lengths)\n",
    "pairs_lengths = lengths*lengths\n",
    "pairs_lengths = pairs_lengths.astype(numpy.int32)\n",
    "lengths_arr = numpy.array([base_len]).astype(numpy.int32)\n",
    "lengths = lengths.astype(numpy.int32)"
   ]
  },
  {
   "cell_type": "code",
   "execution_count": 8,
   "metadata": {},
   "outputs": [
    {
     "data": {
      "text/plain": [
       "array([0, 2, 3, 3, 2, 3, 1, 2, 2, 1, 3, 3, 0, 0, 1, 1, 1, 3, 2, 2, 3, 2, 2,\n",
       "       2, 1, 3, 3, 0, 0, 0, 0])"
      ]
     },
     "execution_count": 8,
     "metadata": {},
     "output_type": "execute_result"
    }
   ],
   "source": [
    "lengths"
   ]
  },
  {
   "cell_type": "code",
   "execution_count": 9,
   "metadata": {},
   "outputs": [
    {
     "data": {
      "text/plain": [
       "array([ 0,  0,  2,  5,  8, 10, 13, 14, 16, 18, 19, 22, 25, 25, 25, 26, 27,\n",
       "       28, 31, 33, 35, 38, 40, 42, 44, 45, 48, 51, 51, 51, 51], dtype=int32)"
      ]
     },
     "execution_count": 9,
     "metadata": {},
     "output_type": "execute_result"
    }
   ],
   "source": [
    "start"
   ]
  },
  {
   "cell_type": "markdown",
   "metadata": {},
   "source": [
    "##### Error \n",
    "\n",
    "The left and right arrays aren't changing at all, they remain as zeroes. Can't figure out why this is happening."
   ]
  },
  {
   "cell_type": "code",
   "execution_count": 32,
   "metadata": {},
   "outputs": [
    {
     "name": "stderr",
     "output_type": "stream",
     "text": [
      "C:\\Users\\Jaydeep\\Anaconda3\\lib\\site-packages\\ipykernel_launcher.py:18: UserWarning: The CUDA compiler succeeded, but said the following:\n",
      "kernel.cu\r\n",
      "\n"
     ]
    }
   ],
   "source": [
    "# Now let's form the cuda function\n",
    "\n",
    "mod = SourceModule('''\n",
    "__global__ void comb_events(int* left,int* right,int* start,int* length,int* lengths, int* pairs_lengths)\n",
    "{\n",
    "    unsigned int block_id = blockIdx.x;\n",
    "    unsigned int thread_idx = threadIdx.x + blockIdx.x*blockDim.x;\n",
    "    unsigned int thread_idy = threadIdx.y + blockIdx.y*blockDim.y;\n",
    "    if (block_id <length[0] && thread_idx<lengths[block_id] && thread_idy<lengths[block_id])\n",
    "    {\n",
    "        //left[block_id*lengths[0]+thread_idx*pairs_lengths[block_id]+thread_idy] = thread_idx + start[block_id];\n",
    "        //right[block_id*lengths[0]+thread_idx*pairs_lengths[block_id]+thread_idy] = thread_idy + start[block_id];\n",
    "        \n",
    "        // At this step, we ought to get the thread indices in *left. But we get all zeros instead. Why??\n",
    "        left[block_id*pairs_lengths[block_id] + thread_idx*lengths[block_id] + thread_idy] = start[block_id];\n",
    "    }\n",
    "}\n",
    "''')"
   ]
  },
  {
   "cell_type": "code",
   "execution_count": 33,
   "metadata": {},
   "outputs": [],
   "source": [
    "func = mod.get_function(\"comb_events\")"
   ]
  },
  {
   "cell_type": "code",
   "execution_count": 34,
   "metadata": {},
   "outputs": [],
   "source": [
    "left = numpy.zeros(sum(pairs_lengths).astype(numpy.int32))\n",
    "right = numpy.zeros(sum(pairs_lengths).astype(numpy.int32))"
   ]
  },
  {
   "cell_type": "code",
   "execution_count": 35,
   "metadata": {},
   "outputs": [],
   "source": [
    "func(cuda.InOut(left), cuda.InOut(right), cuda.In(start), cuda.In(lengths_arr),\n",
    "    cuda.In(lengths),cuda.In(pairs_lengths), block=(4, 4, 1), grid=(base_len, 1))"
   ]
  },
  {
   "cell_type": "code",
   "execution_count": 36,
   "metadata": {},
   "outputs": [
    {
     "data": {
      "text/plain": [
       "array([ 0.,  0.,  0.,  0.,  0.,  0.,  0.,  0.,  0.,  0.,  0.,  0.,  0.,\n",
       "        0.,  0.,  0.,  0.,  0.,  0.,  0.,  0.,  0.,  0.,  0.,  0.,  0.,\n",
       "        0.,  0.,  0.,  0.,  0.,  0.,  0.,  0.,  0.,  0.,  0.,  0.,  0.,\n",
       "        0.,  0.,  0.,  0.,  0.,  0.,  0.,  0.,  0.,  0.,  0.,  0.,  0.,\n",
       "        0.,  0.,  0.,  0.,  0.,  0.,  0.,  0.,  0.,  0.,  0.,  0.,  0.,\n",
       "        0.,  0.,  0.,  0.,  0.,  0.,  0.,  0.,  0.,  0.,  0.,  0.,  0.,\n",
       "        0.,  0.,  0.,  0.,  0.,  0.,  0.,  0.,  0.,  0.,  0.,  0.,  0.,\n",
       "        0.,  0.,  0.,  0.,  0.,  0.,  0.,  0.,  0.,  0.,  0.,  0.,  0.,\n",
       "        0.,  0.,  0.,  0.,  0.,  0.,  0.,  0.,  0.,  0.,  0.,  0.,  0.,\n",
       "        0.,  0.,  0.,  0.,  0.,  0.])"
      ]
     },
     "execution_count": 36,
     "metadata": {},
     "output_type": "execute_result"
    }
   ],
   "source": [
    "# Why all zeros?\n",
    "left"
   ]
  },
  {
   "cell_type": "code",
   "execution_count": null,
   "metadata": {},
   "outputs": [],
   "source": []
  }
 ],
 "metadata": {
  "kernelspec": {
   "display_name": "Python 3",
   "language": "python",
   "name": "python3"
  },
  "language_info": {
   "codemirror_mode": {
    "name": "ipython",
    "version": 3
   },
   "file_extension": ".py",
   "mimetype": "text/x-python",
   "name": "python",
   "nbconvert_exporter": "python",
   "pygments_lexer": "ipython3",
   "version": "3.6.5"
  }
 },
 "nbformat": 4,
 "nbformat_minor": 2
}
