{
 "cells": [
  {
   "cell_type": "markdown",
   "metadata": {},
   "source": [
    "#### Testing parallelized combination indices generation with pycuda\n",
    "\n",
    "This indices will form the inner loop in combinations "
   ]
  },
  {
   "cell_type": "code",
   "execution_count": 1,
   "metadata": {},
   "outputs": [],
   "source": [
    "import pycuda.autoinit\n",
    "import pycuda\n",
    "import pycuda.driver as cuda\n",
    "import pycuda.gpuarray as gpuarray\n",
    "from pycuda.compiler import *\n",
    "import numpy"
   ]
  },
  {
   "cell_type": "code",
   "execution_count": 2,
   "metadata": {},
   "outputs": [],
   "source": [
    "mod = SourceModule('''\n",
    "__global__ void comb_indices(int* left,int* right, int* start, int* stop)\n",
    "{\n",
    "    int len = stop[0]-start[0];\n",
    "    int i = threadIdx.x + blockDim.x*blockIdx.x;\n",
    "    int j = threadIdx.y + blockDim.y*blockIdx.y;\n",
    "    if ( i<len && j< len) \n",
    "    {\n",
    "        left[i*(len) + j] = i + start[0];\n",
    "        right[i*(len)+j] = j;\n",
    "    }\n",
    "}\n",
    "''')\n",
    "func = mod.get_function(\"comb_indices\")"
   ]
  },
  {
   "cell_type": "code",
   "execution_count": 3,
   "metadata": {},
   "outputs": [],
   "source": [
    "start = numpy.array([0]).astype(numpy.int32)\n",
    "stop = numpy.array([8]).astype(numpy.int32)\n",
    "length = (stop-start)**2\n",
    "left = numpy.zeros(length).astype(numpy.int32)\n",
    "right = numpy.zeros(length).astype(numpy.int32)"
   ]
  },
  {
   "cell_type": "code",
   "execution_count": 4,
   "metadata": {},
   "outputs": [],
   "source": [
    "d_start = cuda.mem_alloc(start.nbytes)\n",
    "d_stop = cuda.mem_alloc(stop.nbytes)\n",
    "d_left = cuda.mem_alloc(left.nbytes)\n",
    "d_right = cuda.mem_alloc(right.nbytes)\n",
    "cuda.memcpy_htod(d_start, start)\n",
    "cuda.memcpy_htod(d_stop, stop)\n",
    "cuda.memcpy_htod(d_left, left)\n",
    "cuda.memcpy_htod(d_right, right)"
   ]
  },
  {
   "cell_type": "code",
   "execution_count": 5,
   "metadata": {},
   "outputs": [],
   "source": [
    "func(cuda.InOut(left), cuda.InOut(right), cuda.In(start),cuda.In(stop), \n",
    "     block=(8,8,1), grid=(1,1))"
   ]
  },
  {
   "cell_type": "code",
   "execution_count": 6,
   "metadata": {},
   "outputs": [
    {
     "name": "stdout",
     "output_type": "stream",
     "text": [
      "[0 1 2 3 4 5 6 7 0 1 2 3 4 5 6 7 0 1 2 3 4 5 6 7 0 1 2 3 4 5 6 7 0 1 2 3 4\n",
      " 5 6 7 0 1 2 3 4 5 6 7 0 1 2 3 4 5 6 7 0 1 2 3 4 5 6 7]\n"
     ]
    }
   ],
   "source": [
    "print(right)"
   ]
  },
  {
   "cell_type": "code",
   "execution_count": 7,
   "metadata": {},
   "outputs": [
    {
     "name": "stdout",
     "output_type": "stream",
     "text": [
      "[0 0 0 0 0 0 0 0 1 1 1 1 1 1 1 1 2 2 2 2 2 2 2 2 3 3 3 3 3 3 3 3 4 4 4 4 4\n",
      " 4 4 4 5 5 5 5 5 5 5 5 6 6 6 6 6 6 6 6 7 7 7 7 7 7 7 7]\n"
     ]
    }
   ],
   "source": [
    "print(left)"
   ]
  }
 ],
 "metadata": {
  "kernelspec": {
   "display_name": "Python [conda env:anaconda3]",
   "language": "python",
   "name": "conda-env-anaconda3-py"
  },
  "language_info": {
   "codemirror_mode": {
    "name": "ipython",
    "version": 3
   },
   "file_extension": ".py",
   "mimetype": "text/x-python",
   "name": "python",
   "nbconvert_exporter": "python",
   "pygments_lexer": "ipython3",
   "version": "3.6.5"
  }
 },
 "nbformat": 4,
 "nbformat_minor": 2
}
