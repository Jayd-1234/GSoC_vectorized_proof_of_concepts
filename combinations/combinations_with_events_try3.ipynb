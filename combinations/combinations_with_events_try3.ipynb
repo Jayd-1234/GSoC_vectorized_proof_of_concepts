{
 "cells": [
  {
   "cell_type": "markdown",
   "metadata": {},
   "source": [
    "#### Testing combinations with starts and stops as indices\n",
    "\n",
    "This is intended to be used with oamap version ( I know we don't intend to finally use it, but let's go with it for now).\n",
    "\n",
    "##### Idea for calculation\n",
    "\n",
    "Using the kernel structure used in test_combinations, we can  generate combinations arrays for every event. \n",
    "\n",
    "For that, each event is assigned a block ( i.e. each block in the grid serves as an event), and the combinations is calculated for each block using the `starts[block_index]` and event length.\n",
    "This is appended to `left` and `right` arrays. "
   ]
  },
  {
   "cell_type": "code",
   "execution_count": 1,
   "metadata": {},
   "outputs": [],
   "source": [
    "import pycuda.autoinit\n",
    "import pycuda\n",
    "import pycuda.driver as cuda\n",
    "import pycuda.gpuarray as gpuarray\n",
    "from pycuda.compiler import *\n",
    "import numpy"
   ]
  },
  {
   "cell_type": "code",
   "execution_count": 2,
   "metadata": {},
   "outputs": [],
   "source": [
    "# The generation step. Let's form a random integer array, from which we will form starts \n",
    "# and stops arrays\n",
    "base_len = 32\n",
    "base_arr = numpy.random.randint(6, size=base_len)"
   ]
  },
  {
   "cell_type": "code",
   "execution_count": 3,
   "metadata": {},
   "outputs": [],
   "source": [
    "cumul_arr = numpy.cumsum(base_arr)"
   ]
  },
  {
   "cell_type": "code",
   "execution_count": 4,
   "metadata": {},
   "outputs": [],
   "source": [
    "start = cumul_arr[:-1]\n",
    "stop = cumul_arr[1:]"
   ]
  },
  {
   "cell_type": "code",
   "execution_count": 5,
   "metadata": {},
   "outputs": [
    {
     "data": {
      "text/plain": [
       "array([ 5,  7, 10, 11, 13, 16, 21, 26, 26, 30, 31, 33, 37, 39, 39, 39, 44,\n",
       "       49, 50, 55, 60, 65, 65, 70, 70, 70, 74, 79, 82, 83, 84])"
      ]
     },
     "execution_count": 5,
     "metadata": {},
     "output_type": "execute_result"
    }
   ],
   "source": [
    "start"
   ]
  },
  {
   "cell_type": "code",
   "execution_count": 6,
   "metadata": {},
   "outputs": [
    {
     "data": {
      "text/plain": [
       "array([ 7, 10, 11, 13, 16])"
      ]
     },
     "execution_count": 6,
     "metadata": {},
     "output_type": "execute_result"
    }
   ],
   "source": [
    "stop[:5]"
   ]
  },
  {
   "cell_type": "code",
   "execution_count": 7,
   "metadata": {},
   "outputs": [],
   "source": [
    "lengths = stop-start\n",
    "pairs_lengths = numpy.zeros(len(lengths)+1, dtype=numpy.int32)\n",
    "pairs_lengths[1:] = numpy.cumsum(lengths*lengths)\n",
    "lengths_arr = numpy.array([base_len]).astype(numpy.int32)\n",
    "lengths = lengths.astype(numpy.int32)"
   ]
  },
  {
   "cell_type": "code",
   "execution_count": 8,
   "metadata": {},
   "outputs": [
    {
     "data": {
      "text/plain": [
       "array([  0,   4,  13,  14,  18,  27,  52,  77,  77,  93,  94,  98, 114,\n",
       "       118, 118, 118, 143, 168, 169, 194, 219, 244, 244, 269, 269, 269,\n",
       "       285, 310, 319, 320, 321, 346], dtype=int32)"
      ]
     },
     "execution_count": 8,
     "metadata": {},
     "output_type": "execute_result"
    }
   ],
   "source": [
    "pairs_lengths"
   ]
  },
  {
   "cell_type": "code",
   "execution_count": 9,
   "metadata": {},
   "outputs": [
    {
     "data": {
      "text/plain": [
       "array([2, 3, 1, 2, 3, 5, 5, 0, 4, 1, 2, 4, 2, 0, 0, 5, 5, 1, 5, 5, 5, 0, 5,\n",
       "       0, 0, 4, 5, 3, 1, 1, 5], dtype=int32)"
      ]
     },
     "execution_count": 9,
     "metadata": {},
     "output_type": "execute_result"
    }
   ],
   "source": [
    "lengths"
   ]
  },
  {
   "cell_type": "markdown",
   "metadata": {},
   "source": [
    "##### Error \n",
    "\n",
    "The left and right arrays aren't changing at all, they remain as zeroes. Can't figure out why this is happening."
   ]
  },
  {
   "cell_type": "code",
   "execution_count": 10,
   "metadata": {},
   "outputs": [],
   "source": [
    "# Now let's form the cuda function\n",
    "\n",
    "mod = SourceModule('''\n",
    "__global__ void comb_events(int* left,int* right,int* start,int* length,int* lengths,int* pairs_lengths)\n",
    "{\n",
    "    int i = blockIdx.x*blockDim.x + threadIdx.x;\n",
    "    int j =  blockIdx.y*blockDim.y+threadIdx.y;\n",
    "    int k =  blockIdx.z*blockDim.z+threadIdx.z;\n",
    "    if (i <length[0] && j< lengths[i] && k<lengths[i])\n",
    "    {\n",
    "        left[pairs_lengths[i] + j*lengths[i] + k] = j + start[i];\n",
    "        right[pairs_lengths[i] + j*lengths[i] + k] = k + start[i];\n",
    "    }\n",
    "}\n",
    "''')"
   ]
  },
  {
   "cell_type": "code",
   "execution_count": 11,
   "metadata": {},
   "outputs": [],
   "source": [
    "func = mod.get_function(\"comb_events\")"
   ]
  },
  {
   "cell_type": "code",
   "execution_count": 12,
   "metadata": {},
   "outputs": [],
   "source": [
    "left = numpy.zeros(pairs_lengths[-1]).astype(numpy.int32)\n",
    "right = numpy.zeros(pairs_lengths[-1]).astype(numpy.int32)"
   ]
  },
  {
   "cell_type": "code",
   "execution_count": 13,
   "metadata": {},
   "outputs": [],
   "source": [
    "func(cuda.InOut(left), cuda.InOut(right), cuda.In(start), cuda.In(lengths_arr),\n",
    "    cuda.In(lengths), cuda.In(pairs_lengths), block=(1, 8, 8), grid=(base_len, 1))"
   ]
  },
  {
   "cell_type": "code",
   "execution_count": 14,
   "metadata": {},
   "outputs": [
    {
     "data": {
      "text/plain": [
       "array([ 5,  5,  6,  6,  0,  0,  0,  1,  1,  1,  2,  2,  2,  7,  0,  0,  1,\n",
       "        1, 10, 10, 10, 11, 11, 11, 12, 12, 12,  0,  0,  0,  0,  0,  1,  1,\n",
       "        1,  1,  1,  2,  2,  2,  2,  2,  3,  3,  3,  3,  3,  4,  4,  4,  4,\n",
       "        4, 11, 11, 11, 11, 11, 12, 12, 12, 12, 12, 13, 13, 13, 13, 13, 14,\n",
       "       14, 14, 14, 14, 15, 15, 15, 15, 15, 13, 13, 13, 13, 14, 14, 14, 14,\n",
       "       15, 15, 15, 15, 16, 16, 16, 16,  0, 16, 16, 17, 17,  0,  0,  0,  0,\n",
       "        1,  1,  1,  1,  2,  2,  2,  2,  3,  3,  3,  3, 21, 21, 22, 22,  0,\n",
       "        0,  0,  0,  0,  1,  1,  1,  1,  1,  2,  2,  2,  2,  2,  3,  3,  3,\n",
       "        3,  3,  4,  4,  4,  4,  4, 26, 26, 26, 26, 26, 27, 27, 27, 27, 27,\n",
       "       28, 28, 28, 28, 28, 29, 29, 29, 29, 29, 30, 30, 30, 30, 30,  0, 30,\n",
       "       30, 30, 30, 30, 31, 31, 31, 31, 31, 32, 32, 32, 32, 32, 33, 33, 33,\n",
       "       33, 33, 34, 34, 34, 34, 34,  0,  0,  0,  0,  0,  1,  1,  1,  1,  1,\n",
       "        2,  2,  2,  2,  2,  3,  3,  3,  3,  3,  4,  4,  4,  4,  4, 31, 31,\n",
       "       31, 31, 31, 32, 32, 32, 32, 32, 33, 33, 33, 33, 33, 34, 34, 34, 34,\n",
       "       34, 35, 35, 35, 35, 35, 33, 33, 33, 33, 33, 34, 34, 34, 34, 34, 35,\n",
       "       35, 35, 35, 35, 36, 36, 36, 36, 36, 37, 37, 37, 37, 37,  0,  0,  0,\n",
       "        0,  1,  1,  1,  1,  2,  2,  2,  2,  3,  3,  3,  3, 39, 39, 39, 39,\n",
       "       39, 40, 40, 40, 40, 40, 41, 41, 41, 41, 41, 42, 42, 42, 42, 42, 43,\n",
       "       43, 43, 43, 43,  0,  0,  0,  1,  1,  1,  2,  2,  2, 39,  0, 39, 39,\n",
       "       39, 39, 39, 40, 40, 40, 40, 40, 41, 41, 41, 41, 41, 42, 42, 42, 42,\n",
       "       42, 43, 43, 43, 43, 43], dtype=int32)"
      ]
     },
     "execution_count": 14,
     "metadata": {},
     "output_type": "execute_result"
    }
   ],
   "source": [
    "left"
   ]
  },
  {
   "cell_type": "code",
   "execution_count": 15,
   "metadata": {},
   "outputs": [
    {
     "data": {
      "text/plain": [
       "array([ 5,  6,  5,  6,  0,  1,  2,  0,  1,  2,  0,  1,  2,  7,  0,  1,  0,\n",
       "        1, 10, 11, 12, 10, 11, 12, 10, 11, 12,  0,  1,  2,  3,  4,  0,  1,\n",
       "        2,  3,  4,  0,  1,  2,  3,  4,  0,  1,  2,  3,  4,  0,  1,  2,  3,\n",
       "        4, 11, 12, 13, 14, 15, 11, 12, 13, 14, 15, 11, 12, 13, 14, 15, 11,\n",
       "       12, 13, 14, 15, 11, 12, 13, 14, 15, 13, 14, 15, 16, 13, 14, 15, 16,\n",
       "       13, 14, 15, 16, 13, 14, 15, 16,  0, 16, 17, 16, 17,  0,  1,  2,  3,\n",
       "        0,  1,  2,  3,  0,  1,  2,  3,  0,  1,  2,  3, 21, 22, 21, 22,  0,\n",
       "        1,  2,  3,  4,  0,  1,  2,  3,  4,  0,  1,  2,  3,  4,  0,  1,  2,\n",
       "        3,  4,  0,  1,  2,  3,  4, 26, 27, 28, 29, 30, 26, 27, 28, 29, 30,\n",
       "       26, 27, 28, 29, 30, 26, 27, 28, 29, 30, 26, 27, 28, 29, 30,  0, 30,\n",
       "       31, 32, 33, 34, 30, 31, 32, 33, 34, 30, 31, 32, 33, 34, 30, 31, 32,\n",
       "       33, 34, 30, 31, 32, 33, 34,  0,  1,  2,  3,  4,  0,  1,  2,  3,  4,\n",
       "        0,  1,  2,  3,  4,  0,  1,  2,  3,  4,  0,  1,  2,  3,  4, 31, 32,\n",
       "       33, 34, 35, 31, 32, 33, 34, 35, 31, 32, 33, 34, 35, 31, 32, 33, 34,\n",
       "       35, 31, 32, 33, 34, 35, 33, 34, 35, 36, 37, 33, 34, 35, 36, 37, 33,\n",
       "       34, 35, 36, 37, 33, 34, 35, 36, 37, 33, 34, 35, 36, 37,  0,  1,  2,\n",
       "        3,  0,  1,  2,  3,  0,  1,  2,  3,  0,  1,  2,  3, 39, 40, 41, 42,\n",
       "       43, 39, 40, 41, 42, 43, 39, 40, 41, 42, 43, 39, 40, 41, 42, 43, 39,\n",
       "       40, 41, 42, 43,  0,  1,  2,  0,  1,  2,  0,  1,  2, 39,  0, 39, 40,\n",
       "       41, 42, 43, 39, 40, 41, 42, 43, 39, 40, 41, 42, 43, 39, 40, 41, 42,\n",
       "       43, 39, 40, 41, 42, 43], dtype=int32)"
      ]
     },
     "execution_count": 15,
     "metadata": {},
     "output_type": "execute_result"
    }
   ],
   "source": [
    "right"
   ]
  }
 ],
 "metadata": {
  "kernelspec": {
   "display_name": "Python [default]",
   "language": "python",
   "name": "python3"
  },
  "language_info": {
   "codemirror_mode": {
    "name": "ipython",
    "version": 3
   },
   "file_extension": ".py",
   "mimetype": "text/x-python",
   "name": "python",
   "nbconvert_exporter": "python",
   "pygments_lexer": "ipython3",
   "version": "3.6.5"
  }
 },
 "nbformat": 4,
 "nbformat_minor": 2
}
