{
 "cells": [
  {
   "cell_type": "markdown",
   "metadata": {},
   "source": [
    "#### Testing combinations(x,y) with starts and stops as indices\n",
    "\n",
    "This is intended to be used with oamap version ( I know we don't intend to finally use it, but let's go with it for now).\n",
    "\n",
    "##### Idea for calculation\n",
    "\n",
    "Using the kernel structure used in test_combinations, we can  generate combinations arrays for every event. \n",
    "\n",
    "For that, each event is assigned a block ( i.e. each block in the grid serves as an event), and the combinations is calculated for each block using the `starts[block_index]` and event length.\n",
    "This is appended to `left` and `right` arrays. "
   ]
  },
  {
   "cell_type": "code",
   "execution_count": 46,
   "metadata": {},
   "outputs": [],
   "source": [
    "import pycuda.autoinit\n",
    "import pycuda\n",
    "import pycuda.driver as cuda\n",
    "import pycuda.gpuarray as gpuarray\n",
    "from pycuda.compiler import *\n",
    "import numpy"
   ]
  },
  {
   "cell_type": "code",
   "execution_count": 47,
   "metadata": {},
   "outputs": [],
   "source": [
    "# The generation step. Let's form a random integer array, from which we will form starts \n",
    "# and stops arrays\n",
    "base_len = 32\n",
    "base_arr1 = numpy.random.randint(6, size=base_len)\n",
    "base_arr2 = numpy.random.randint(4, size=base_len)"
   ]
  },
  {
   "cell_type": "code",
   "execution_count": 48,
   "metadata": {},
   "outputs": [],
   "source": [
    "cumul_arr1 = numpy.zeros(base_len+1)\n",
    "cumul_arr1[0] = 0\n",
    "cumul_arr1[1:] = numpy.cumsum(base_arr1)\n",
    "\n",
    "cumul_arr2 = numpy.zeros(base_len+1)\n",
    "cumul_arr2[0] = 0\n",
    "cumul_arr2[1:] = numpy.cumsum(base_arr2)"
   ]
  },
  {
   "cell_type": "code",
   "execution_count": 49,
   "metadata": {},
   "outputs": [],
   "source": [
    "start1 = cumul_arr1[:-2]\n",
    "stop1 = cumul_arr1[1:-1]\n",
    "start2 = cumul_arr2[:-2]\n",
    "stop2 = cumul_arr2[1:-1]"
   ]
  },
  {
   "cell_type": "code",
   "execution_count": 50,
   "metadata": {},
   "outputs": [],
   "source": [
    "lengths1 = stop1-start1\n",
    "lengths2 = stop2-start2\n",
    "pairs_lengths = numpy.zeros(len(lengths1)+1, dtype=numpy.int32)\n",
    "pairs_lengths[1:] = numpy.cumsum(lengths1*lengths2)\n",
    "lengths_arr = numpy.array([base_len-1]).astype(numpy.int32)\n",
    "lengths1 = lengths1.astype(numpy.int32)\n",
    "start1 = start1.astype(numpy.int32)\n",
    "lengths2 = lengths2.astype(numpy.int32)\n",
    "start2 = start2.astype(numpy.int32)"
   ]
  },
  {
   "cell_type": "code",
   "execution_count": 52,
   "metadata": {},
   "outputs": [
    {
     "name": "stderr",
     "output_type": "stream",
     "text": [
      "C:\\Users\\Jaydeep\\Anaconda3\\lib\\site-packages\\ipykernel_launcher.py:20: UserWarning: The CUDA compiler succeeded, but said the following:\n",
      "kernel.cu\r\n",
      "\n"
     ]
    }
   ],
   "source": [
    "# Now let's form the cuda function\n",
    "\n",
    "mod = SourceModule('''\n",
    "__global__ void comb_events(int* left,int* right,int* start1,int* start2,int* length,int* lengths1,int* lengths2,int* pairs_lengths)\n",
    "{\n",
    "    int i = blockIdx.x*blockDim.x + threadIdx.x;\n",
    "    int j =  blockIdx.y*blockDim.y+threadIdx.y;\n",
    "    int k =  blockIdx.z*blockDim.z+threadIdx.z;\n",
    "    if (i <length[0])\n",
    "    {\n",
    "    if (j< lengths1[i] && k<lengths2[i])\n",
    "        {\n",
    "            left[pairs_lengths[i] + j*lengths2[i] + k] = j + start1[i];\n",
    "            right[pairs_lengths[i] + j*lengths2[i] + k] = k + start2[i];\n",
    "        }\n",
    "    }\n",
    "}\n",
    "''')"
   ]
  },
  {
   "cell_type": "code",
   "execution_count": 53,
   "metadata": {},
   "outputs": [],
   "source": [
    "func = mod.get_function(\"comb_events\")"
   ]
  },
  {
   "cell_type": "code",
   "execution_count": 54,
   "metadata": {},
   "outputs": [],
   "source": [
    "left = numpy.empty(pairs_lengths[-1]).astype(numpy.int32)\n",
    "right = numpy.empty(pairs_lengths[-1]).astype(numpy.int32)"
   ]
  },
  {
   "cell_type": "code",
   "execution_count": 55,
   "metadata": {},
   "outputs": [],
   "source": [
    "func(cuda.InOut(left), cuda.InOut(right), cuda.In(start1),cuda.In(start2), cuda.In(lengths_arr),\n",
    "    cuda.In(lengths1),cuda.In(lengths2), cuda.In(pairs_lengths), block=(1, 8, 8), grid=(base_len-1, 1))"
   ]
  },
  {
   "cell_type": "code",
   "execution_count": 56,
   "metadata": {},
   "outputs": [
    {
     "data": {
      "text/plain": [
       "array([ 6,  6,  6,  7,  7,  7,  8,  8,  8,  9,  9,  9, 10, 10, 10, 11, 11,\n",
       "       11, 12, 12, 12, 13, 13, 13, 21, 21, 21, 32, 32, 32, 33, 33, 33, 37,\n",
       "       37, 37, 38, 38, 38, 39, 39, 39, 40, 40, 40, 41, 41, 41, 42, 42, 42,\n",
       "       43, 43, 43, 44, 44, 44, 45, 45, 45, 46, 46, 46, 52, 52, 53, 53, 54,\n",
       "       54, 55, 55, 56, 56, 57, 58])"
      ]
     },
     "execution_count": 56,
     "metadata": {},
     "output_type": "execute_result"
    }
   ],
   "source": [
    "left"
   ]
  },
  {
   "cell_type": "code",
   "execution_count": 57,
   "metadata": {},
   "outputs": [
    {
     "name": "stdout",
     "output_type": "stream",
     "text": [
      "Event: 0 \n",
      " Left:[] \n",
      " Right:[] \n",
      "\n",
      "Event: 1 \n",
      " Left:[] \n",
      " Right:[] \n",
      "\n",
      "Event: 2 \n",
      " Left:[] \n",
      " Right:[] \n",
      "\n",
      "Event: 3 \n",
      " Left:[6 6 6 7 7 7 8 8 8] \n",
      " Right:[0 1 2 0 1 2 0 1 2] \n",
      "\n",
      "Event: 4 \n",
      " Left:[9 9 9] \n",
      " Right:[3 4 5] \n",
      "\n",
      "Event: 5 \n",
      " Left:[10 10 10 11 11 11 12 12 12 13 13 13] \n",
      " Right:[6 7 8 6 7 8 6 7 8 6 7 8] \n",
      "\n"
     ]
    }
   ],
   "source": [
    "#Let's reshape it\n",
    "for i in range(6):\n",
    "    print(\"Event: {} \\n Left:{} \\n Right:{} \\n\".format(i, left[pairs_lengths[i]:pairs_lengths[i+1]], right[pairs_lengths[i]:pairs_lengths[i+1]]))"
   ]
  },
  {
   "cell_type": "code",
   "execution_count": null,
   "metadata": {},
   "outputs": [],
   "source": []
  },
  {
   "cell_type": "code",
   "execution_count": null,
   "metadata": {},
   "outputs": [],
   "source": []
  }
 ],
 "metadata": {
  "kernelspec": {
   "display_name": "Python [default]",
   "language": "python",
   "name": "python3"
  },
  "language_info": {
   "codemirror_mode": {
    "name": "ipython",
    "version": 3
   },
   "file_extension": ".py",
   "mimetype": "text/x-python",
   "name": "python",
   "nbconvert_exporter": "python",
   "pygments_lexer": "ipython3",
   "version": "3.6.5"
  }
 },
 "nbformat": 4,
 "nbformat_minor": 2
}
