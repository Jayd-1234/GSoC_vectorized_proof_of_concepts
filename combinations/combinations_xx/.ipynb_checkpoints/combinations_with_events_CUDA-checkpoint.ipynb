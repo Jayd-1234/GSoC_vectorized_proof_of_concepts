{
 "cells": [
  {
   "cell_type": "markdown",
   "metadata": {},
   "source": [
    "#### Testing combinations(x,x) with starts and stops as indices\n",
    "\n",
    "This is intended to be used with oamap version ( I know we don't intend to finally use it, but let's go with it for now).\n",
    "\n",
    "##### Idea for calculation\n",
    "\n",
    "Using the kernel structure used in test_combinations, we can  generate combinations arrays for every event. \n",
    "\n",
    "For that, each event is assigned a block ( i.e. each block in the grid serves as an event), and the combinations is calculated for each block using the `starts[block_index]` and event length.\n",
    "This is appended to `left` and `right` arrays. "
   ]
  },
  {
   "cell_type": "code",
   "execution_count": 8,
   "metadata": {},
   "outputs": [],
   "source": [
    "import pycuda.autoinit\n",
    "import pycuda\n",
    "import pycuda.driver as cuda\n",
    "import pycuda.gpuarray as gpuarray\n",
    "from pycuda.compiler import *\n",
    "import numpy"
   ]
  },
  {
   "cell_type": "code",
   "execution_count": 9,
   "metadata": {},
   "outputs": [],
   "source": [
    "# The generation step. Let's form a random integer array, from which we will form starts \n",
    "# and stops arrays\n",
    "base_len = 32\n",
    "base_arr = numpy.random.randint(6, size=base_len)"
   ]
  },
  {
   "cell_type": "code",
   "execution_count": 10,
   "metadata": {},
   "outputs": [],
   "source": [
    "cumul_arr = numpy.zeros(base_len+1)\n",
    "cumul_arr[0] = 0\n",
    "cumul_arr[1:] = numpy.cumsum(base_arr)"
   ]
  },
  {
   "cell_type": "code",
   "execution_count": 11,
   "metadata": {},
   "outputs": [],
   "source": [
    "start = cumul_arr[:-2]\n",
    "stop = cumul_arr[1:-1]"
   ]
  },
  {
   "cell_type": "code",
   "execution_count": 14,
   "metadata": {},
   "outputs": [],
   "source": [
    "lengths = stop-start\n",
    "pairs_lengths = numpy.zeros(len(lengths)+1, dtype=numpy.int32)\n",
    "pairs_lengths[1:] = numpy.cumsum(lengths*lengths)\n",
    "start = start.astype(numpy.int32)\n",
    "lengths_arr = numpy.array([base_len]).astype(numpy.int32)\n",
    "lengths = lengths.astype(numpy.int32)"
   ]
  },
  {
   "cell_type": "code",
   "execution_count": 17,
   "metadata": {},
   "outputs": [],
   "source": [
    "# Now let's form the cuda function\n",
    "\n",
    "mod = SourceModule('''\n",
    "__global__ void comb_events(int* left,int* right,int* start,int* length,int* lengths,int* pairs_lengths)\n",
    "{\n",
    "    int i = blockIdx.x*blockDim.x + threadIdx.x;\n",
    "    int j =  blockIdx.y*blockDim.y+threadIdx.y;\n",
    "    int k =  blockIdx.z*blockDim.z+threadIdx.z;\n",
    "    if (i <length[0] && j< lengths[i] && k<lengths[i])\n",
    "    {\n",
    "        left[pairs_lengths[i] + j*lengths[i] + k] = j + start[i];\n",
    "        right[pairs_lengths[i] + j*lengths[i] + k] = k + start[i];\n",
    "    }\n",
    "}\n",
    "''')"
   ]
  },
  {
   "cell_type": "code",
   "execution_count": 18,
   "metadata": {},
   "outputs": [],
   "source": [
    "func = mod.get_function(\"comb_events\")"
   ]
  },
  {
   "cell_type": "code",
   "execution_count": 19,
   "metadata": {},
   "outputs": [],
   "source": [
    "left = numpy.zeros(pairs_lengths[-1]).astype(numpy.int32)\n",
    "right = numpy.zeros(pairs_lengths[-1]).astype(numpy.int32)"
   ]
  },
  {
   "cell_type": "code",
   "execution_count": 20,
   "metadata": {},
   "outputs": [],
   "source": [
    "func(cuda.InOut(left), cuda.InOut(right), cuda.In(start), cuda.In(lengths_arr),\n",
    "    cuda.In(lengths), cuda.In(pairs_lengths), block=(1, 8, 8), grid=(base_len, 1))"
   ]
  },
  {
   "cell_type": "code",
   "execution_count": 21,
   "metadata": {},
   "outputs": [
    {
     "data": {
      "text/plain": [
       "array([ 0,  0,  0,  0,  0,  1,  1,  1,  1,  1,  2,  2,  2,  2,  2,  3,  3,\n",
       "        3,  3,  3,  4,  4,  4,  4,  4,  5,  5,  6,  6,  7,  7,  7,  7,  8,\n",
       "        8,  8,  8,  9,  9,  9,  9, 10, 10, 10, 10, 11, 11, 12, 12, 13, 13,\n",
       "       13, 13, 13, 14, 14, 14, 14, 14, 15, 15, 15, 15, 15, 16, 16, 16, 16,\n",
       "       16, 17, 17, 17, 17, 17, 18, 18, 19, 19, 20, 20, 20, 21, 21, 21, 22,\n",
       "       22, 22, 23, 23, 24, 24, 25, 25, 26, 26, 27, 27, 27, 27, 27, 28, 28,\n",
       "       28, 28, 28, 29, 29, 29, 29, 29, 30, 30, 30, 30, 30, 31, 31, 31, 31,\n",
       "       31, 32, 32, 32, 32, 32, 33, 33, 33, 33, 33, 34, 34, 34, 34, 34, 35,\n",
       "       35, 35, 35, 35, 36, 36, 36, 36, 36, 37, 37, 38, 38, 39, 39, 39, 39,\n",
       "       39, 40, 40, 40, 40, 40, 41, 41, 41, 41, 41, 42, 42, 42, 42, 42, 43,\n",
       "       43, 43, 43, 43, 44, 44, 45, 45, 46, 46, 46, 46, 47, 47, 47, 47, 48,\n",
       "       48, 48, 48, 49, 49, 49, 49, 50, 50, 50, 50, 51, 51, 51, 51, 52, 52,\n",
       "       52, 52, 53, 53, 53, 53, 54, 54, 54, 55, 55, 55, 56, 56, 56, 57, 57,\n",
       "       58, 58, 59, 60, 60, 60, 60, 60, 61, 61, 61, 61, 61, 62, 62, 62, 62,\n",
       "       62, 63, 63, 63, 63, 63, 64, 64, 64, 64, 64, 65, 65, 65, 65, 65, 66,\n",
       "       66, 66, 66, 66, 67, 67, 67, 67, 67, 68, 68, 68, 68, 68, 69, 69, 69,\n",
       "       69, 69, 70, 70, 70, 70, 71, 71, 71, 71, 72, 72, 72, 72, 73, 73, 73,\n",
       "       73, 74, 74, 75, 75, 76, 76, 76, 76, 76, 77, 77, 77, 77, 77, 78, 78,\n",
       "       78, 78, 78, 79, 79, 79, 79, 79, 80, 80, 80, 80, 80, 81, 81, 81, 81,\n",
       "       82, 82, 82, 82, 83, 83, 83, 83, 84, 84, 84, 84], dtype=int32)"
      ]
     },
     "execution_count": 21,
     "metadata": {},
     "output_type": "execute_result"
    }
   ],
   "source": [
    "left"
   ]
  },
  {
   "cell_type": "code",
   "execution_count": 22,
   "metadata": {},
   "outputs": [
    {
     "data": {
      "text/plain": [
       "array([ 0,  1,  2,  3,  4,  0,  1,  2,  3,  4,  0,  1,  2,  3,  4,  0,  1,\n",
       "        2,  3,  4,  0,  1,  2,  3,  4,  5,  6,  5,  6,  7,  8,  9, 10,  7,\n",
       "        8,  9, 10,  7,  8,  9, 10,  7,  8,  9, 10, 11, 12, 11, 12, 13, 14,\n",
       "       15, 16, 17, 13, 14, 15, 16, 17, 13, 14, 15, 16, 17, 13, 14, 15, 16,\n",
       "       17, 13, 14, 15, 16, 17, 18, 19, 18, 19, 20, 21, 22, 20, 21, 22, 20,\n",
       "       21, 22, 23, 24, 23, 24, 25, 26, 25, 26, 27, 28, 29, 30, 31, 27, 28,\n",
       "       29, 30, 31, 27, 28, 29, 30, 31, 27, 28, 29, 30, 31, 27, 28, 29, 30,\n",
       "       31, 32, 33, 34, 35, 36, 32, 33, 34, 35, 36, 32, 33, 34, 35, 36, 32,\n",
       "       33, 34, 35, 36, 32, 33, 34, 35, 36, 37, 38, 37, 38, 39, 40, 41, 42,\n",
       "       43, 39, 40, 41, 42, 43, 39, 40, 41, 42, 43, 39, 40, 41, 42, 43, 39,\n",
       "       40, 41, 42, 43, 44, 45, 44, 45, 46, 47, 48, 49, 46, 47, 48, 49, 46,\n",
       "       47, 48, 49, 46, 47, 48, 49, 50, 51, 52, 53, 50, 51, 52, 53, 50, 51,\n",
       "       52, 53, 50, 51, 52, 53, 54, 55, 56, 54, 55, 56, 54, 55, 56, 57, 58,\n",
       "       57, 58, 59, 60, 61, 62, 63, 64, 60, 61, 62, 63, 64, 60, 61, 62, 63,\n",
       "       64, 60, 61, 62, 63, 64, 60, 61, 62, 63, 64, 65, 66, 67, 68, 69, 65,\n",
       "       66, 67, 68, 69, 65, 66, 67, 68, 69, 65, 66, 67, 68, 69, 65, 66, 67,\n",
       "       68, 69, 70, 71, 72, 73, 70, 71, 72, 73, 70, 71, 72, 73, 70, 71, 72,\n",
       "       73, 74, 75, 74, 75, 76, 77, 78, 79, 80, 76, 77, 78, 79, 80, 76, 77,\n",
       "       78, 79, 80, 76, 77, 78, 79, 80, 76, 77, 78, 79, 80, 81, 82, 83, 84,\n",
       "       81, 82, 83, 84, 81, 82, 83, 84, 81, 82, 83, 84], dtype=int32)"
      ]
     },
     "execution_count": 22,
     "metadata": {},
     "output_type": "execute_result"
    }
   ],
   "source": [
    "right"
   ]
  },
  {
   "cell_type": "code",
   "execution_count": 42,
   "metadata": {},
   "outputs": [
    {
     "name": "stdout",
     "output_type": "stream",
     "text": [
      "Event: 0\n",
      "Left Index: [0 0 0 0 0 1 1 1 1 1 2 2 2 2 2 3 3 3 3 3 4 4 4 4 4]\n",
      "Right Index: [0 1 2 3 4 0 1 2 3 4 0 1 2 3 4 0 1 2 3 4 0 1 2 3 4]\n",
      "Event: 1\n",
      "Left Index: [5 5 6 6]\n",
      "Right Index: [5 6 5 6]\n",
      "Event: 2\n",
      "Left Index: [ 7  7  7  7  8  8  8  8  9  9  9  9 10 10 10 10]\n",
      "Right Index: [ 7  8  9 10  7  8  9 10  7  8  9 10  7  8  9 10]\n",
      "Event: 3\n",
      "Left Index: [11 11 12 12]\n",
      "Right Index: [11 12 11 12]\n",
      "Event: 4\n",
      "Left Index: [13 13 13 13 13 14 14 14 14 14 15 15 15 15 15 16 16 16 16 16 17 17 17 17 17]\n",
      "Right Index: [13 14 15 16 17 13 14 15 16 17 13 14 15 16 17 13 14 15 16 17 13 14 15 16 17]\n"
     ]
    }
   ],
   "source": [
    "# Print indices for each event\n",
    "for i in range(5):\n",
    "    print(\"Event: {}\".format(i))\n",
    "    print (\"Left Index: {}\".format(left[pairs_lengths[i]:pairs_lengths[i+1]]))\n",
    "    print(\"Right Index: {}\".format(right[pairs_lengths[i]:pairs_lengths[i+1]]))"
   ]
  }
 ],
 "metadata": {
  "kernelspec": {
   "display_name": "Python 3",
   "language": "python",
   "name": "python3"
  },
  "language_info": {
   "codemirror_mode": {
    "name": "ipython",
    "version": 3
   },
   "file_extension": ".py",
   "mimetype": "text/x-python",
   "name": "python",
   "nbconvert_exporter": "python",
   "pygments_lexer": "ipython3",
   "version": "3.6.5"
  }
 },
 "nbformat": 4,
 "nbformat_minor": 2
}
