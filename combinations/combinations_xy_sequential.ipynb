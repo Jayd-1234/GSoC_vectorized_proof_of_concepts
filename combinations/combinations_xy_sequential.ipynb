{
 "cells": [
  {
   "cell_type": "markdown",
   "metadata": {},
   "source": [
    "#### Sequential version of combinations(x,y)"
   ]
  },
  {
   "cell_type": "code",
   "execution_count": 16,
   "metadata": {},
   "outputs": [],
   "source": [
    "import numpy"
   ]
  },
  {
   "cell_type": "code",
   "execution_count": 17,
   "metadata": {},
   "outputs": [],
   "source": [
    "# The generation step. Let's form a random integer array, from which we will form starts \n",
    "# and stops arrays\n",
    "base_len = 32\n",
    "base_arr1 = numpy.random.randint(6, size=base_len)\n",
    "base_arr2 = numpy.random.randint(4, size=base_len)\n",
    "\n",
    "cumul_arr1 = numpy.zeros(base_len+1)\n",
    "cumul_arr1[0] = 0\n",
    "cumul_arr1[1:] = numpy.cumsum(base_arr1)\n",
    "\n",
    "cumul_arr2 = numpy.zeros(base_len+1)\n",
    "cumul_arr2[0] = 0\n",
    "cumul_arr2[1:] = numpy.cumsum(base_arr2)\n",
    "\n",
    "start1 = cumul_arr1[:-2]\n",
    "stop1 = cumul_arr1[1:-1]\n",
    "start2 = cumul_arr2[:-2]\n",
    "stop2 = cumul_arr2[1:-1]"
   ]
  },
  {
   "cell_type": "code",
   "execution_count": 18,
   "metadata": {},
   "outputs": [],
   "source": [
    "# lengths1 and lengths2 give the counts for particles 1 and 2\n",
    "lengths1 = stop1-start1\n",
    "lengths2 = stop2-start2\n",
    "\n",
    "# Combinations offsets\n",
    "pairs_lengths = numpy.zeros(len(lengths1)+1, dtype=numpy.int32)\n",
    "pairs_lengths[1:] = numpy.cumsum(lengths1*lengths2)\n",
    "\n",
    "# Some type changing, not strictly needed, but kept anyway to maintain compatibility with CUDA\n",
    "lengths1 = lengths1.astype(numpy.int32)\n",
    "start1 = start1.astype(numpy.int32)\n",
    "lengths2 = lengths2.astype(numpy.int32)\n",
    "start2 = start2.astype(numpy.int32)\n",
    "pairs_lengths = pairs_lengths.astype(numpy.int32)\n",
    "stop1 = stop1.astype(numpy.int32)\n",
    "stop2 = stop2.astype(numpy.int32)"
   ]
  },
  {
   "cell_type": "code",
   "execution_count": 19,
   "metadata": {},
   "outputs": [],
   "source": [
    "# Arrays to store indices from particle 1->left; particle 2-> right.\n",
    "left = numpy.empty(pairs_lengths[-1]).astype(numpy.int32)\n",
    "right = numpy.empty(pairs_lengths[-1]).astype(numpy.int32)"
   ]
  },
  {
   "cell_type": "code",
   "execution_count": 20,
   "metadata": {},
   "outputs": [],
   "source": [
    "# Sequential combinations.\n",
    "\n",
    "for i in range(base_len-1):\n",
    "    pairs_i = pairs_lengths[i]\n",
    "    for j in range(start1[i], stop1[i]):\n",
    "        for k in range(start2[i], stop2[i]):\n",
    "            left[pairs_i] = j\n",
    "            right[pairs_i] = k\n",
    "            pairs_i +=1"
   ]
  },
  {
   "cell_type": "code",
   "execution_count": 21,
   "metadata": {},
   "outputs": [
    {
     "name": "stdout",
     "output_type": "stream",
     "text": [
      "Event: 0 \n",
      " Left:[] \n",
      " Right:[] \n",
      "\n",
      "Event: 1 \n",
      " Left:[3 3 3 4 4 4] \n",
      " Right:[0 1 2 0 1 2] \n",
      "\n",
      "Event: 2 \n",
      " Left:[5 5 5 6 6 6 7 7 7 8 8 8 9 9 9] \n",
      " Right:[3 4 5 3 4 5 3 4 5 3 4 5 3 4 5] \n",
      "\n",
      "Event: 3 \n",
      " Left:[] \n",
      " Right:[] \n",
      "\n",
      "Event: 4 \n",
      " Left:[] \n",
      " Right:[] \n",
      "\n",
      "Event: 5 \n",
      " Left:[13 13 14 14] \n",
      " Right:[6 7 6 7] \n",
      "\n"
     ]
    }
   ],
   "source": [
    "# Let's print the output for 6 events\n",
    "\n",
    "for i in range(6):\n",
    "    print(\"Event: {} \\n Left:{} \\n Right:{} \\n\".format(i, left[pairs_lengths[i]:pairs_lengths[i+1]], right[pairs_lengths[i]:pairs_lengths[i+1]]))"
   ]
  }
 ],
 "metadata": {
  "kernelspec": {
   "display_name": "Python 3",
   "language": "python",
   "name": "python3"
  },
  "language_info": {
   "codemirror_mode": {
    "name": "ipython",
    "version": 3
   },
   "file_extension": ".py",
   "mimetype": "text/x-python",
   "name": "python",
   "nbconvert_exporter": "python",
   "pygments_lexer": "ipython3",
   "version": "3.6.5"
  }
 },
 "nbformat": 4,
 "nbformat_minor": 2
}
