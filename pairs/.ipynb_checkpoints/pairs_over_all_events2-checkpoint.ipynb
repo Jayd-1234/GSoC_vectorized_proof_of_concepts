{
 "cells": [
  {
   "cell_type": "markdown",
   "metadata": {},
   "source": [
    "#### Testing parallelized pairs indices generation with pycuda\n",
    "\n",
    "Pairs generation for all events following combinations"
   ]
  },
  {
   "cell_type": "code",
   "execution_count": 40,
   "metadata": {},
   "outputs": [],
   "source": [
    "import pycuda.autoinit\n",
    "import pycuda\n",
    "import pycuda.driver as cuda\n",
    "import pycuda.gpuarray as gpuarray\n",
    "from pycuda.compiler import *\n",
    "import numpy"
   ]
  },
  {
   "cell_type": "code",
   "execution_count": 41,
   "metadata": {},
   "outputs": [],
   "source": [
    "base_len = 32\n",
    "base_arr = numpy.random.randint(6, size=base_len)\n",
    "cumul_arr = numpy.zeros(base_len+1)\n",
    "cumul_arr[0] = 0\n",
    "cumul_arr[1:] = numpy.cumsum(base_arr)\n",
    "start = cumul_arr[:-2]\n",
    "stop = cumul_arr[1:-1]\n",
    "lengths = stop-start\n",
    "pairs_lengths = numpy.zeros(len(lengths)+1, dtype=numpy.int32)\n",
    "pairs_lengths[1:] = numpy.cumsum(lengths*(lengths+1)/2)\n",
    "lengths_arr = numpy.array([base_len-1]).astype(numpy.int32)\n",
    "lengths = lengths.astype(numpy.int32)\n",
    "start = start.astype(numpy.int32)"
   ]
  },
  {
   "cell_type": "code",
   "execution_count": 42,
   "metadata": {},
   "outputs": [
    {
     "data": {
      "text/plain": [
       "(32,)"
      ]
     },
     "execution_count": 42,
     "metadata": {},
     "output_type": "execute_result"
    }
   ],
   "source": [
    "pairs_lengths.shape"
   ]
  },
  {
   "cell_type": "markdown",
   "metadata": {},
   "source": [
    "# Explanation of pairs code indexing \n",
    "\n",
    "A good way to explain pairs is to consider that it is a special case of combinations. In combinations, we iterate over the entire length of the array for both the `left` and `right` arrays. So, if we consider the iteration indices `i` and `j` as the two dimensions of a matrix, then we are iterating over all elements of the matrix $C = \\{c_{ij}\\} \\quad \\forall \\: i,j \\in [0,len]$. So `left[i*len+j] = i` and `right[i*len+j] = j`.\n",
    "\n",
    "### Pairs as upper triangular version of combinations\n",
    "\n",
    "In pairs, we change that. We remove redundant pairs of values. This amounts to considering the upper triangular matrix $C_{u}$ of $C$. If we now manage to iterate `i` and `j` following the upper triangular construct, we will form the pairs index. This exactly what the sequential algorithm for pairs is doing:\n",
    "\n",
    "```python\n",
    "for i in range(base_len-1):\n",
    "    pairs_i = pairs_lengths[i]\n",
    "    for j in range(start[i], stop[i]):\n",
    "        for k in range(j+1, stop[i]):\n",
    "            left[pairs_i] = j\n",
    "            right[pairs_i] = k\n",
    "            pairs_i +=1\n",
    "```\n",
    "Note that how k is iterating from `j+1` to `stop`, not from `start` to `stop`. This affirms the notion of upper triangular matrix.\n",
    "\n",
    "But in CUDA, we cannot just iterate over so easily. We need a procedure to allow us to generate the indices parallely. For simplicity, consider the single event case in **test_pairs_indices** notebook. Let `j` denote the rows, and `k` denote the columns of the matrix $C$. We want to eliminate the lower half of the matrix. \n",
    "\n",
    "For this part, let me first write out the index of left and right arrays: \n",
    "\n",
    "```cpp\n",
    "len*(len+1)/2-(j*(j+1)/2)-k-1\n",
    "```\n",
    "\n",
    "Note that the pairs arrays `left` and `right` will have $ \\frac{len*(len+1)}{2}$ elements,  if we are starting from 0. This explains the first element in index above.\n",
    "\n",
    "### Lower triangular matrix indices \n",
    "\n",
    "We shall now relate the particle index with it's row index j and column index k in lower triangular matrix. Well, that's easy. The particle index at row j and column k if given by $\\frac{j*(j+1)}{2} + k +1$. It can also be derived as follows:\n",
    "\n",
    "For any row j>1, we have already counted $ 1+2+3+ \\ldots + j = \\frac{j*(j+1)}{2}$ particles ( lower triangular matrix elements). So the element at row `j` starts at index $\\frac{j*(j+1)}{2}+1$. So, an element at column k of that row will be at index $\\frac{j*(j+1)}{2}+1+k$.\n",
    "\n",
    "### Generation of upper traingular matrix indices\n",
    "\n",
    "However, our aim is to index upper traingular matrix way. To do that, we now proceed bottom up from last element in the upper-triangular matrix. The last element will have index $ \\frac{len*(len+1)}{2}-1$. The element previous to that will have $ \\frac{len*(len+1)}{2}-2$ and so on. So an element at row `k` and column `j` ( note the inversion of j and k) will have index $ \\frac{len*(len+1)}{2} -(\\frac{j*(j+1)}{2}+1+k) $. Note the second term is the particle index in lower triangular matrix. This is what leads us to index as given above.\n",
    "\n",
    "### Values of arrays `left` and `right`\n",
    "Now as for the values of left and right arrays, we note that we would have normally assigned j and to them. However, as we are proceeding bottom up, so, we instead assign them the values len-j-1 and len-k-1,if you want right to start from 0 and not 1.\n",
    "\n",
    "Thus, combining all above\n",
    "\n",
    "```cpp\n",
    "left[len*(len+1)/2-(j*(j+1)/2)-k-1] = len-1-j;\n",
    "right[len*(len+1)/2-(j*(j+1)/2)-k-1] = len-k;\n",
    "```\n",
    "\n",
    "The full code is:\n",
    "```cpp\n",
    "int i = threadIdx.x + blockDim.x*blockIdx.x;\n",
    "int j = threadIdx.y + blockDim.y*blockIdx.y;\n",
    "int k =  blockIdx.z*blockDim.z+threadIdx.z;\n",
    "if ( i<length[0] && j< lengths[i] && k<=j) \n",
    "{\n",
    "     left[pairs_lengths[i]+lengths[i]*(lengths[i]+1)/2-(j*(j+1)/2)-k-1] = lengths[i]-1-j+start[i];\n",
    "     right[pairs_lengths[i]+lengths[i]*(lengths[i]+1)/2 - (j*(j+1)/2) -k -1] = lengths[i]-k-1 + start[i];\n",
    "    }\n",
    "```\n",
    "\n",
    "The `pairs_lengths[i]` and `start[i]` just add offsets to the arrays for different events `i`."
   ]
  },
  {
   "cell_type": "code",
   "execution_count": 43,
   "metadata": {},
   "outputs": [
    {
     "name": "stderr",
     "output_type": "stream",
     "text": [
      "C:\\Users\\Jaydeep\\Anaconda3\\lib\\site-packages\\ipykernel_launcher.py:13: UserWarning: The CUDA compiler succeeded, but said the following:\n",
      "kernel.cu\r\n",
      "\n",
      "  del sys.path[0]\n"
     ]
    }
   ],
   "source": [
    "mod = SourceModule('''\n",
    "__global__ void comb_indices(int* left,int* right,int* start,int* length,int* lengths,int* pairs_lengths)\n",
    "{\n",
    "    int i = threadIdx.x + blockDim.x*blockIdx.x;\n",
    "    int j = threadIdx.y + blockDim.y*blockIdx.y;\n",
    "    int k =  blockIdx.z*blockDim.z+threadIdx.z;\n",
    "    if ( i<length[0] && j< lengths[i] && k<=j) \n",
    "    {\n",
    "        left[pairs_lengths[i]+lengths[i]*(lengths[i]+1)/2-(j*(j+1)/2)-k-1] = lengths[i]-1-j + start[i];\n",
    "        right[pairs_lengths[i]+lengths[i]*(lengths[i]+1)/2 - (j*(j+1)/2) -k -1] = lengths[i]-k-1 + start[i];\n",
    "    }\n",
    "}\n",
    "''')\n",
    "func = mod.get_function(\"comb_indices\")"
   ]
  },
  {
   "cell_type": "code",
   "execution_count": 44,
   "metadata": {},
   "outputs": [],
   "source": [
    "left = numpy.empty(pairs_lengths[-1]).astype(numpy.int32)\n",
    "right = numpy.empty(pairs_lengths[-1]).astype(numpy.int32)"
   ]
  },
  {
   "cell_type": "code",
   "execution_count": 45,
   "metadata": {},
   "outputs": [],
   "source": [
    "func(cuda.InOut(left), cuda.InOut(right), cuda.In(start), cuda.In(lengths_arr),\n",
    "    cuda.In(lengths), cuda.In(pairs_lengths), block=(1, 16, 16), grid=(base_len-1, 1))"
   ]
  },
  {
   "cell_type": "code",
   "execution_count": 46,
   "metadata": {},
   "outputs": [
    {
     "name": "stdout",
     "output_type": "stream",
     "text": [
      "[ 0  1  2  3  2  3  3  4  5  6  7  8  5  6  7  8  6  7  8  7  8  8  9 10 10\n",
      " 11 12 13 14 15 12 13 14 15 13 14 15 14 15 15 16 17 18 19 20 20 21 22 22 23\n",
      " 24 25 26 27 25 26 27 26 27 27 28 29 30 31 29 30 31 30 31 31 32 33 34 35 34\n",
      " 35 35 36 37 38 39 40 41 38 39 40 41 39 40 41 40 41 41 42 43 44 45 43 44 45\n",
      " 44 45 45 46 47 47 48 49 50 51 52 49 50 51 52 50 51 52 51 52 52 53 54 55 56\n",
      " 57 58 55 56 57 58 56 57 58 57 58 58 59 60 60 61 62 63 62 63 63 64 65 66 65\n",
      " 66 66 67 68 69 70 71 68 69 70 71 69 70 71 70 71 71 72 73 74 73 74 74]\n"
     ]
    }
   ],
   "source": [
    "print(right)"
   ]
  },
  {
   "cell_type": "code",
   "execution_count": 47,
   "metadata": {},
   "outputs": [
    {
     "name": "stdout",
     "output_type": "stream",
     "text": [
      "Event: 0 \n",
      " Left:[0] \n",
      " Right:[0] \n",
      "\n",
      "Event: 1 \n",
      " Left:[1 1 1 2 2 3] \n",
      " Right:[1 2 3 2 3 3] \n",
      "\n",
      "Event: 2 \n",
      " Left:[4 4 4 4 4 5 5 5 5 6 6 6 7 7 8] \n",
      " Right:[4 5 6 7 8 5 6 7 8 6 7 8 7 8 8] \n",
      "\n",
      "Event: 3 \n",
      " Left:[ 9  9 10] \n",
      " Right:[ 9 10 10] \n",
      "\n",
      "Event: 4 \n",
      " Left:[] \n",
      " Right:[] \n",
      "\n",
      "Event: 5 \n",
      " Left:[11 11 11 11 11 12 12 12 12 13 13 13 14 14 15] \n",
      " Right:[11 12 13 14 15 12 13 14 15 13 14 15 14 15 15] \n",
      "\n"
     ]
    }
   ],
   "source": [
    "for i in range(6):\n",
    "    print(\"Event: {} \\n Left:{} \\n Right:{} \\n\".format(i, left[pairs_lengths[i]:pairs_lengths[i+1]], right[pairs_lengths[i]:pairs_lengths[i+1]]))"
   ]
  },
  {
   "cell_type": "code",
   "execution_count": 48,
   "metadata": {},
   "outputs": [
    {
     "name": "stdout",
     "output_type": "stream",
     "text": [
      "[ 0  1  1  1  2  2  3  4  4  4  4  4  5  5  5  5  6  6  6  7  7  8  9  9 10\n",
      " 11 11 11 11 11 12 12 12 12 13 13 13 14 14 15 16 17 18 19 19 20 21 21 22 23\n",
      " 24 24 24 24 25 25 25 26 26 27 28 28 28 28 29 29 29 30 30 31 32 33 33 33 34\n",
      " 34 35 36 37 37 37 37 37 38 38 38 38 39 39 39 40 40 41 42 42 42 42 43 43 43\n",
      " 44 44 45 46 46 47 48 48 48 48 48 49 49 49 49 50 50 50 51 51 52 53 54 54 54\n",
      " 54 54 55 55 55 55 56 56 56 57 57 58 59 59 60 61 61 61 62 62 63 64 64 64 65\n",
      " 65 66 67 67 67 67 67 68 68 68 68 69 69 69 70 70 71 72 72 72 73 73 74]\n"
     ]
    }
   ],
   "source": [
    "print(left)"
   ]
  }
 ],
 "metadata": {
  "kernelspec": {
   "display_name": "Python 3",
   "language": "python",
   "name": "python3"
  },
  "language_info": {
   "codemirror_mode": {
    "name": "ipython",
    "version": 3
   },
   "file_extension": ".py",
   "mimetype": "text/x-python",
   "name": "python",
   "nbconvert_exporter": "python",
   "pygments_lexer": "ipython3",
   "version": "3.6.5"
  }
 },
 "nbformat": 4,
 "nbformat_minor": 2
}
