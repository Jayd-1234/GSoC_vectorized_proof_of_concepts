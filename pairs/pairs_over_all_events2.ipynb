{
 "cells": [
  {
   "cell_type": "markdown",
   "metadata": {},
   "source": [
    "#### Testing parallelized pairs indices generation with pycuda\n",
    "\n",
    "Pairs generation for all events following combinations"
   ]
  },
  {
   "cell_type": "code",
   "execution_count": 40,
   "metadata": {},
   "outputs": [],
   "source": [
    "import pycuda.autoinit\n",
    "import pycuda\n",
    "import pycuda.driver as cuda\n",
    "import pycuda.gpuarray as gpuarray\n",
    "from pycuda.compiler import *\n",
    "import numpy"
   ]
  },
  {
   "cell_type": "code",
   "execution_count": 41,
   "metadata": {},
   "outputs": [],
   "source": [
    "base_len = 32\n",
    "base_arr = numpy.random.randint(6, size=base_len)\n",
    "cumul_arr = numpy.zeros(base_len+1)\n",
    "cumul_arr[0] = 0\n",
    "cumul_arr[1:] = numpy.cumsum(base_arr)\n",
    "start = cumul_arr[:-2]\n",
    "stop = cumul_arr[1:-1]\n",
    "lengths = stop-start\n",
    "pairs_lengths = numpy.zeros(len(lengths)+1, dtype=numpy.int32)\n",
    "pairs_lengths[1:] = numpy.cumsum(lengths*(lengths+1)/2)\n",
    "lengths_arr = numpy.array([base_len-1]).astype(numpy.int32)\n",
    "lengths = lengths.astype(numpy.int32)\n",
    "start = start.astype(numpy.int32)"
   ]
  },
  {
   "cell_type": "code",
   "execution_count": 42,
   "metadata": {},
   "outputs": [
    {
     "data": {
      "text/plain": [
       "(32,)"
      ]
     },
     "execution_count": 42,
     "metadata": {},
     "output_type": "execute_result"
    }
   ],
   "source": [
    "pairs_lengths.shape"
   ]
  },
  {
   "cell_type": "code",
   "execution_count": 43,
   "metadata": {},
   "outputs": [
    {
     "name": "stderr",
     "output_type": "stream",
     "text": [
      "C:\\Users\\Jaydeep\\Anaconda3\\lib\\site-packages\\ipykernel_launcher.py:13: UserWarning: The CUDA compiler succeeded, but said the following:\n",
      "kernel.cu\r\n",
      "\n",
      "  del sys.path[0]\n"
     ]
    }
   ],
   "source": [
    "mod = SourceModule('''\n",
    "__global__ void comb_indices(int* left,int* right,int* start,int* length,int* lengths,int* pairs_lengths)\n",
    "{\n",
    "    int i = threadIdx.x + blockDim.x*blockIdx.x;\n",
    "    int j = threadIdx.y + blockDim.y*blockIdx.y;\n",
    "    int k =  blockIdx.z*blockDim.z+threadIdx.z;\n",
    "    if ( i<length[0] && j< lengths[i] && k<=j) \n",
    "    {\n",
    "        left[pairs_lengths[i]+lengths[i]*(lengths[i]+1)/2-(j*(j+1)/2)-k-1] = lengths[i]-1-j + start[i];\n",
    "        right[pairs_lengths[i]+lengths[i]*(lengths[i]+1)/2 - (j*(j+1)/2) -k -1] = lengths[i]-k-1 + start[i];\n",
    "    }\n",
    "}\n",
    "''')\n",
    "func = mod.get_function(\"comb_indices\")"
   ]
  },
  {
   "cell_type": "code",
   "execution_count": 44,
   "metadata": {},
   "outputs": [],
   "source": [
    "left = numpy.empty(pairs_lengths[-1]).astype(numpy.int32)\n",
    "right = numpy.empty(pairs_lengths[-1]).astype(numpy.int32)"
   ]
  },
  {
   "cell_type": "code",
   "execution_count": 45,
   "metadata": {},
   "outputs": [],
   "source": [
    "func(cuda.InOut(left), cuda.InOut(right), cuda.In(start), cuda.In(lengths_arr),\n",
    "    cuda.In(lengths), cuda.In(pairs_lengths), block=(1, 16, 16), grid=(base_len-1, 1))"
   ]
  },
  {
   "cell_type": "code",
   "execution_count": 46,
   "metadata": {},
   "outputs": [
    {
     "name": "stdout",
     "output_type": "stream",
     "text": [
      "[ 0  1  2  3  2  3  3  4  5  6  7  8  5  6  7  8  6  7  8  7  8  8  9 10 10\n",
      " 11 12 13 14 15 12 13 14 15 13 14 15 14 15 15 16 17 18 19 20 20 21 22 22 23\n",
      " 24 25 26 27 25 26 27 26 27 27 28 29 30 31 29 30 31 30 31 31 32 33 34 35 34\n",
      " 35 35 36 37 38 39 40 41 38 39 40 41 39 40 41 40 41 41 42 43 44 45 43 44 45\n",
      " 44 45 45 46 47 47 48 49 50 51 52 49 50 51 52 50 51 52 51 52 52 53 54 55 56\n",
      " 57 58 55 56 57 58 56 57 58 57 58 58 59 60 60 61 62 63 62 63 63 64 65 66 65\n",
      " 66 66 67 68 69 70 71 68 69 70 71 69 70 71 70 71 71 72 73 74 73 74 74]\n"
     ]
    }
   ],
   "source": [
    "print(right)"
   ]
  },
  {
   "cell_type": "code",
   "execution_count": 47,
   "metadata": {},
   "outputs": [
    {
     "name": "stdout",
     "output_type": "stream",
     "text": [
      "Event: 0 \n",
      " Left:[0] \n",
      " Right:[0] \n",
      "\n",
      "Event: 1 \n",
      " Left:[1 1 1 2 2 3] \n",
      " Right:[1 2 3 2 3 3] \n",
      "\n",
      "Event: 2 \n",
      " Left:[4 4 4 4 4 5 5 5 5 6 6 6 7 7 8] \n",
      " Right:[4 5 6 7 8 5 6 7 8 6 7 8 7 8 8] \n",
      "\n",
      "Event: 3 \n",
      " Left:[ 9  9 10] \n",
      " Right:[ 9 10 10] \n",
      "\n",
      "Event: 4 \n",
      " Left:[] \n",
      " Right:[] \n",
      "\n",
      "Event: 5 \n",
      " Left:[11 11 11 11 11 12 12 12 12 13 13 13 14 14 15] \n",
      " Right:[11 12 13 14 15 12 13 14 15 13 14 15 14 15 15] \n",
      "\n"
     ]
    }
   ],
   "source": [
    "for i in range(6):\n",
    "    print(\"Event: {} \\n Left:{} \\n Right:{} \\n\".format(i, left[pairs_lengths[i]:pairs_lengths[i+1]], right[pairs_lengths[i]:pairs_lengths[i+1]]))"
   ]
  },
  {
   "cell_type": "code",
   "execution_count": 48,
   "metadata": {},
   "outputs": [
    {
     "name": "stdout",
     "output_type": "stream",
     "text": [
      "[ 0  1  1  1  2  2  3  4  4  4  4  4  5  5  5  5  6  6  6  7  7  8  9  9 10\n",
      " 11 11 11 11 11 12 12 12 12 13 13 13 14 14 15 16 17 18 19 19 20 21 21 22 23\n",
      " 24 24 24 24 25 25 25 26 26 27 28 28 28 28 29 29 29 30 30 31 32 33 33 33 34\n",
      " 34 35 36 37 37 37 37 37 38 38 38 38 39 39 39 40 40 41 42 42 42 42 43 43 43\n",
      " 44 44 45 46 46 47 48 48 48 48 48 49 49 49 49 50 50 50 51 51 52 53 54 54 54\n",
      " 54 54 55 55 55 55 56 56 56 57 57 58 59 59 60 61 61 61 62 62 63 64 64 64 65\n",
      " 65 66 67 67 67 67 67 68 68 68 68 69 69 69 70 70 71 72 72 72 73 73 74]\n"
     ]
    }
   ],
   "source": [
    "print(left)"
   ]
  }
 ],
 "metadata": {
  "kernelspec": {
   "display_name": "Python 3",
   "language": "python",
   "name": "python3"
  },
  "language_info": {
   "codemirror_mode": {
    "name": "ipython",
    "version": 3
   },
   "file_extension": ".py",
   "mimetype": "text/x-python",
   "name": "python",
   "nbconvert_exporter": "python",
   "pygments_lexer": "ipython3",
   "version": "3.6.5"
  }
 },
 "nbformat": 4,
 "nbformat_minor": 2
}
