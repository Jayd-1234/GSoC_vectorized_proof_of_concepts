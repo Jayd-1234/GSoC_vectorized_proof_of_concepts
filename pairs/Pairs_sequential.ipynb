{
 "cells": [
  {
   "cell_type": "markdown",
   "metadata": {},
   "source": [
    "# Sequential version of pairs\n",
    "\n",
    "The sequential implementation of pairs, where $j\\neq k$ . "
   ]
  },
  {
   "cell_type": "code",
   "execution_count": 14,
   "metadata": {},
   "outputs": [],
   "source": [
    "import numpy"
   ]
  },
  {
   "cell_type": "code",
   "execution_count": 20,
   "metadata": {},
   "outputs": [],
   "source": [
    "# Some initial data loading stuff\n",
    "\n",
    "base_len = 32\n",
    "base_arr = numpy.random.randint(6, size=base_len)\n",
    "cumul_arr = numpy.zeros(base_len+1)\n",
    "cumul_arr[0] = 0\n",
    "cumul_arr[1:] = numpy.cumsum(base_arr).astype(numpy.int32)\n",
    "start = cumul_arr[:-2]\n",
    "stop = cumul_arr[1:-1]\n",
    "lengths = stop-start\n",
    "pairs_lengths = numpy.zeros(len(lengths)+1, dtype=numpy.int32)\n",
    "pairs_lengths[1:] = numpy.cumsum(lengths*(lengths-1)/2)\n",
    "lengths_arr = numpy.array([base_len-1]).astype(numpy.int32)\n",
    "lengths = lengths.astype(numpy.int32)\n",
    "start = start.astype(numpy.int32)\n",
    "stop = stop.astype(numpy.int32)"
   ]
  },
  {
   "cell_type": "code",
   "execution_count": 21,
   "metadata": {},
   "outputs": [],
   "source": [
    "# Arrays to store the indices\n",
    "\n",
    "left = numpy.empty(pairs_lengths[-1]).astype(numpy.int32)\n",
    "right = numpy.empty(pairs_lengths[-1]).astype(numpy.int32)"
   ]
  },
  {
   "cell_type": "code",
   "execution_count": 22,
   "metadata": {},
   "outputs": [],
   "source": [
    "# Sequentially find pairs indices\n",
    "\n",
    "for i in range(base_len-1):\n",
    "    pairs_i = pairs_lengths[i]\n",
    "    for j in range(start[i], stop[i]):\n",
    "        for k in range(j+1, stop[i]):\n",
    "            left[pairs_i] = j\n",
    "            right[pairs_i] = k\n",
    "            pairs_i +=1"
   ]
  },
  {
   "cell_type": "code",
   "execution_count": 23,
   "metadata": {},
   "outputs": [
    {
     "name": "stdout",
     "output_type": "stream",
     "text": [
      "Event: 0\n",
      " left: [0 0 0 1 1 2]\n",
      " right: [1 2 3 2 3 3]\n",
      "Event: 1\n",
      " left: [4]\n",
      " right: [5]\n",
      "Event: 2\n",
      " left: []\n",
      " right: []\n",
      "Event: 3\n",
      " left: [7]\n",
      " right: [8]\n",
      "Event: 4\n",
      " left: []\n",
      " right: []\n",
      "Event: 5\n",
      " left: []\n",
      " right: []\n"
     ]
    }
   ],
   "source": [
    "# Print out the result\n",
    "\n",
    "for i in range(6):\n",
    "    print(\"Event: {}\\n left: {}\\n right: {}\".format(i, left[pairs_lengths[i]:pairs_lengths[i+1]]\n",
    "                                                   ,right[pairs_lengths[i]:pairs_lengths[i+1]]))"
   ]
  },
  {
   "cell_type": "code",
   "execution_count": null,
   "metadata": {},
   "outputs": [],
   "source": []
  }
 ],
 "metadata": {
  "kernelspec": {
   "display_name": "Python [default]",
   "language": "python",
   "name": "python3"
  },
  "language_info": {
   "codemirror_mode": {
    "name": "ipython",
    "version": 3
   },
   "file_extension": ".py",
   "mimetype": "text/x-python",
   "name": "python",
   "nbconvert_exporter": "python",
   "pygments_lexer": "ipython3",
   "version": "3.6.5"
  }
 },
 "nbformat": 4,
 "nbformat_minor": 2
}
