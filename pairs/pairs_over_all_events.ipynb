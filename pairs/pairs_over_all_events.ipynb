{
 "cells": [
  {
   "cell_type": "markdown",
   "metadata": {},
   "source": [
    "#### Testing parallelized pairs indices generation with pycuda\n",
    "\n",
    "Pairs generation for all events following combinations"
   ]
  },
  {
   "cell_type": "code",
   "execution_count": 31,
   "metadata": {},
   "outputs": [],
   "source": [
    "import pycuda.autoinit\n",
    "import pycuda\n",
    "import pycuda.driver as cuda\n",
    "import pycuda.gpuarray as gpuarray\n",
    "from pycuda.compiler import *\n",
    "import numpy"
   ]
  },
  {
   "cell_type": "code",
   "execution_count": 32,
   "metadata": {},
   "outputs": [],
   "source": [
    "base_len = 32\n",
    "base_arr = numpy.random.randint(6, size=base_len)\n",
    "cumul_arr = numpy.zeros(base_len+1)\n",
    "cumul_arr[0] = 0\n",
    "cumul_arr[1:] = numpy.cumsum(base_arr)\n",
    "start = cumul_arr[:-2]\n",
    "stop = cumul_arr[1:-1]\n",
    "lengths = stop-start\n",
    "pairs_lengths = numpy.zeros(len(lengths)+1, dtype=numpy.int32)\n",
    "pairs_lengths[1:] = numpy.cumsum(lengths*(lengths+1)/2)\n",
    "lengths_arr = numpy.array([base_len-1]).astype(numpy.int32)\n",
    "lengths = lengths.astype(numpy.int32)\n",
    "start = start.astype(numpy.int32)"
   ]
  },
  {
   "cell_type": "code",
   "execution_count": 33,
   "metadata": {},
   "outputs": [
    {
     "data": {
      "text/plain": [
       "(32,)"
      ]
     },
     "execution_count": 33,
     "metadata": {},
     "output_type": "execute_result"
    }
   ],
   "source": [
    "pairs_lengths.shape"
   ]
  },
  {
   "cell_type": "code",
   "execution_count": 34,
   "metadata": {},
   "outputs": [
    {
     "name": "stderr",
     "output_type": "stream",
     "text": [
      "C:\\Users\\Jaydeep\\Anaconda3\\lib\\site-packages\\ipykernel_launcher.py:13: UserWarning: The CUDA compiler succeeded, but said the following:\n",
      "kernel.cu\r\n",
      "\n",
      "  del sys.path[0]\n"
     ]
    }
   ],
   "source": [
    "mod = SourceModule('''\n",
    "__global__ void comb_indices(int* left,int* right,int* start,int* length,int* lengths,int* pairs_lengths)\n",
    "{\n",
    "    int i = threadIdx.x + blockDim.x*blockIdx.x;\n",
    "    int j = threadIdx.y + blockDim.y*blockIdx.y;\n",
    "    int k =  blockIdx.z*blockDim.z+threadIdx.z;\n",
    "    if ( i<length[0] && j< lengths[i] && k<=j) \n",
    "    {\n",
    "        left[pairs_lengths[i]+lengths[i]*(lengths[i]+1)/2-(j*(j+1)/2)-k-1] = lengths[i]-1-j + start[i];\n",
    "        right[pairs_lengths[i]+lengths[i]*(lengths[i]+1)/2 - (j*(j+1)/2) -k -1] = lengths[i]-k + start[i];\n",
    "    }\n",
    "}\n",
    "''')\n",
    "func = mod.get_function(\"comb_indices\")"
   ]
  },
  {
   "cell_type": "code",
   "execution_count": 35,
   "metadata": {},
   "outputs": [],
   "source": [
    "left = numpy.empty(pairs_lengths[-1]).astype(numpy.int32)\n",
    "right = numpy.empty(pairs_lengths[-1]).astype(numpy.int32)"
   ]
  },
  {
   "cell_type": "code",
   "execution_count": 36,
   "metadata": {},
   "outputs": [],
   "source": [
    "func(cuda.InOut(left), cuda.InOut(right), cuda.In(start), cuda.In(lengths_arr),\n",
    "    cuda.In(lengths), cuda.In(pairs_lengths), block=(1, 16, 16), grid=(base_len-1, 1))"
   ]
  },
  {
   "cell_type": "code",
   "execution_count": 37,
   "metadata": {},
   "outputs": [
    {
     "name": "stdout",
     "output_type": "stream",
     "text": [
      "[ 1  2  3  4  3  4  4  5  6  6  7  8  8  9 10 11 10 11 11 12 13 14 15 16 13\n",
      " 14 15 16 14 15 16 15 16 16 17 18 19 20 21 18 19 20 21 19 20 21 20 21 21 22\n",
      " 23 24 25 26 23 24 25 26 24 25 26 25 26 26 27 28 28 29 30 31 32 33 32 33 33\n",
      " 34 35 36 37 38 35 36 37 38 36 37 38 37 38 38 39 40 41 40 41 41 42 43 44 45\n",
      " 43 44 45 44 45 45 46 47 48 49 50 47 48 49 50 48 49 50 49 50 50 51 52 53 52\n",
      " 53 53 54 55 56 55 56 56 57 58 59 59 60 61 62 61 62 62 63 64 65 66 67 68 69\n",
      " 66 67 68 69 67 68 69 68 69 69 70 71 72 73 71 72 73 72 73 73 74 75 76 75 76\n",
      " 76 77 78 79 80 81 78 79 80 81 79 80 81 80 81 81 82 83 83 84]\n"
     ]
    }
   ],
   "source": [
    "print(right)"
   ]
  },
  {
   "cell_type": "code",
   "execution_count": 38,
   "metadata": {},
   "outputs": [
    {
     "name": "stdout",
     "output_type": "stream",
     "text": [
      "Event: 0 \n",
      " Left:[] \n",
      " Right:[] \n",
      "\n",
      "Event: 1 \n",
      " Left:[0] \n",
      " Right:[1] \n",
      "\n",
      "Event: 2 \n",
      " Left:[] \n",
      " Right:[] \n",
      "\n",
      "Event: 3 \n",
      " Left:[1 1 1 2 2 3] \n",
      " Right:[2 3 4 3 4 4] \n",
      "\n",
      "Event: 4 \n",
      " Left:[4 4 5] \n",
      " Right:[5 6 6] \n",
      "\n",
      "Event: 5 \n",
      " Left:[6 6 7] \n",
      " Right:[7 8 8] \n",
      "\n"
     ]
    }
   ],
   "source": [
    "for i in range(6):\n",
    "    print(\"Event: {} \\n Left:{} \\n Right:{} \\n\".format(i, left[pairs_lengths[i]:pairs_lengths[i+1]], right[pairs_lengths[i]:pairs_lengths[i+1]]))"
   ]
  },
  {
   "cell_type": "code",
   "execution_count": 39,
   "metadata": {},
   "outputs": [
    {
     "name": "stdout",
     "output_type": "stream",
     "text": [
      "[ 0  1  1  1  2  2  3  4  4  5  6  6  7  8  8  8  9  9 10 11 11 11 11 11 12\n",
      " 12 12 12 13 13 13 14 14 15 16 16 16 16 16 17 17 17 17 18 18 18 19 19 20 21\n",
      " 21 21 21 21 22 22 22 22 23 23 23 24 24 25 26 26 27 28 29 30 30 30 31 31 32\n",
      " 33 33 33 33 33 34 34 34 34 35 35 35 36 36 37 38 38 38 39 39 40 41 41 41 41\n",
      " 42 42 42 43 43 44 45 45 45 45 45 46 46 46 46 47 47 47 48 48 49 50 50 50 51\n",
      " 51 52 53 53 53 54 54 55 56 57 57 58 59 59 59 60 60 61 62 63 64 64 64 64 64\n",
      " 65 65 65 65 66 66 66 67 67 68 69 69 69 69 70 70 70 71 71 72 73 73 73 74 74\n",
      " 75 76 76 76 76 76 77 77 77 77 78 78 78 79 79 80 81 81 82 83]\n"
     ]
    }
   ],
   "source": [
    "print(left)"
   ]
  }
 ],
 "metadata": {
  "kernelspec": {
   "display_name": "Python 3",
   "language": "python",
   "name": "python3"
  },
  "language_info": {
   "codemirror_mode": {
    "name": "ipython",
    "version": 3
   },
   "file_extension": ".py",
   "mimetype": "text/x-python",
   "name": "python",
   "nbconvert_exporter": "python",
   "pygments_lexer": "ipython3",
   "version": "3.6.5"
  }
 },
 "nbformat": 4,
 "nbformat_minor": 2
}
