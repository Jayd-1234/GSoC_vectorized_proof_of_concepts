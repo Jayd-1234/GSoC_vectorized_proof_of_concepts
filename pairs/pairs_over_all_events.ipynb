{
 "cells": [
  {
   "cell_type": "markdown",
   "metadata": {},
   "source": [
    "#### Testing parallelized combination indices generation with pycuda\n",
    "\n",
    "This indices will form the inner loop in combinations "
   ]
  },
  {
   "cell_type": "code",
   "execution_count": 22,
   "metadata": {},
   "outputs": [],
   "source": [
    "import pycuda.autoinit\n",
    "import pycuda\n",
    "import pycuda.driver as cuda\n",
    "import pycuda.gpuarray as gpuarray\n",
    "from pycuda.compiler import *\n",
    "import numpy"
   ]
  },
  {
   "cell_type": "code",
   "execution_count": 23,
   "metadata": {},
   "outputs": [],
   "source": [
    "base_len = 32\n",
    "base_arr = numpy.random.randint(6, size=base_len)\n",
    "cumul_arr = numpy.zeros(base_len+1)\n",
    "cumul_arr[0] = 0\n",
    "cumul_arr[1:] = numpy.cumsum(base_arr)\n",
    "start = cumul_arr[:-2]\n",
    "stop = cumul_arr[1:-1]\n",
    "lengths = stop-start\n",
    "pairs_lengths = numpy.zeros(len(lengths)+1, dtype=numpy.int32)\n",
    "pairs_lengths[1:] = numpy.cumsum(lengths*(lengths+1)/2)\n",
    "lengths_arr = numpy.array([base_len-1]).astype(numpy.int32)\n",
    "lengths = lengths.astype(numpy.int32)\n",
    "start = start.astype(numpy.int32)"
   ]
  },
  {
   "cell_type": "code",
   "execution_count": 24,
   "metadata": {},
   "outputs": [
    {
     "data": {
      "text/plain": [
       "(32,)"
      ]
     },
     "execution_count": 24,
     "metadata": {},
     "output_type": "execute_result"
    }
   ],
   "source": [
    "pairs_lengths.shape"
   ]
  },
  {
   "cell_type": "code",
   "execution_count": 25,
   "metadata": {},
   "outputs": [
    {
     "name": "stderr",
     "output_type": "stream",
     "text": [
      "C:\\Users\\Jaydeep\\Anaconda3\\lib\\site-packages\\ipykernel_launcher.py:13: UserWarning: The CUDA compiler succeeded, but said the following:\n",
      "kernel.cu\r\n",
      "\n",
      "  del sys.path[0]\n"
     ]
    }
   ],
   "source": [
    "mod = SourceModule('''\n",
    "__global__ void comb_indices(int* left,int* right,int* start,int* length,int* lengths,int* pairs_lengths)\n",
    "{\n",
    "    int i = threadIdx.x + blockDim.x*blockIdx.x;\n",
    "    int j = threadIdx.y + blockDim.y*blockIdx.y;\n",
    "    int k =  blockIdx.z*blockDim.z+threadIdx.z;\n",
    "    if ( i<length[0] && j< lengths[i] && k<=j) \n",
    "    {\n",
    "        left[pairs_lengths[i]+lengths[i]*(lengths[i]+1)/2-(j*(j+1)/2)-k-1] = lengths[i]-1-j + start[i];\n",
    "        right[pairs_lengths[i]+lengths[i]*(lengths[i]+1)/2 - (j*(j+1)/2) -k -1] = lengths[i]-1-k + start[i];\n",
    "    }\n",
    "}\n",
    "''')\n",
    "func = mod.get_function(\"comb_indices\")"
   ]
  },
  {
   "cell_type": "code",
   "execution_count": 26,
   "metadata": {},
   "outputs": [],
   "source": [
    "left = numpy.empty(pairs_lengths[-1]).astype(numpy.int32)\n",
    "right = numpy.empty(pairs_lengths[-1]).astype(numpy.int32)"
   ]
  },
  {
   "cell_type": "code",
   "execution_count": 27,
   "metadata": {},
   "outputs": [],
   "source": [
    "func(cuda.InOut(left), cuda.InOut(right), cuda.In(start), cuda.In(lengths_arr),\n",
    "    cuda.In(lengths), cuda.In(pairs_lengths), block=(1, 16, 16), grid=(base_len-1, 1))"
   ]
  },
  {
   "cell_type": "code",
   "execution_count": 28,
   "metadata": {},
   "outputs": [
    {
     "name": "stdout",
     "output_type": "stream",
     "text": [
      "[ 0  1  2  1  2  2  3  4  5  6  7  5  6  7  6  7  7  8  9 10  9 10 10 11 12\n",
      " 13 14 15 12 13 14 15 13 14 15 14 15 15 16 17 17 18 19 20 19 20 20 21 22 23\n",
      " 24 22 23 24 23 24 24 25 26 26 27 28 29 30 28 29 30 29 30 30 31 32 33 32 33\n",
      " 33 34 35 35 36 37 38 39 40 41 38 39 40 41 39 40 41 40 41 41 42 43 44 43 44\n",
      " 44 45 46 47 48 46 47 48 47 48 48 49 50 51 52 53 50 51 52 53 51 52 53 52 53\n",
      " 53 54 55 56 55 56 56 57 58 59 58 59 59 60 61 62 63 61 62 63 62 63 63 64 65\n",
      " 66 65 66 66 67 68 69 68 69 69 70 71 71 72 73 74 75 76 74 75 76 75 76 76]\n"
     ]
    }
   ],
   "source": [
    "print(right)"
   ]
  },
  {
   "cell_type": "code",
   "execution_count": 29,
   "metadata": {},
   "outputs": [
    {
     "name": "stdout",
     "output_type": "stream",
     "text": [
      "Event: 0 \n",
      " Left:[0 0 0 1 1 2] \n",
      " Right:[0 1 2 1 2 2] \n",
      "\n",
      "Event: 1 \n",
      " Left:[3] \n",
      " Right:[3] \n",
      "\n",
      "Event: 2 \n",
      " Left:[4 4 4 4 5 5 5 6 6 7] \n",
      " Right:[4 5 6 7 5 6 7 6 7 7] \n",
      "\n",
      "Event: 3 \n",
      " Left:[ 8  8  8  9  9 10] \n",
      " Right:[ 8  9 10  9 10 10] \n",
      "\n",
      "Event: 4 \n",
      " Left:[11 11 11 11 11 12 12 12 12 13 13 13 14 14 15] \n",
      " Right:[11 12 13 14 15 12 13 14 15 13 14 15 14 15 15] \n",
      "\n",
      "Event: 5 \n",
      " Left:[16 16 17] \n",
      " Right:[16 17 17] \n",
      "\n"
     ]
    }
   ],
   "source": [
    "for i in range(6):\n",
    "    print(\"Event: {} \\n Left:{} \\n Right:{} \\n\".format(i, left[pairs_lengths[i]:pairs_lengths[i+1]], right[pairs_lengths[i]:pairs_lengths[i+1]]))"
   ]
  },
  {
   "cell_type": "code",
   "execution_count": 30,
   "metadata": {},
   "outputs": [
    {
     "name": "stdout",
     "output_type": "stream",
     "text": [
      "[ 0  0  0  1  1  2  3  4  4  4  4  5  5  5  6  6  7  8  8  8  9  9 10 11 11\n",
      " 11 11 11 12 12 12 12 13 13 13 14 14 15 16 16 17 18 18 18 19 19 20 21 21 21\n",
      " 21 22 22 22 23 23 24 25 25 26 27 27 27 27 28 28 28 29 29 30 31 31 31 32 32\n",
      " 33 34 34 35 36 37 37 37 37 37 38 38 38 38 39 39 39 40 40 41 42 42 42 43 43\n",
      " 44 45 45 45 45 46 46 46 47 47 48 49 49 49 49 49 50 50 50 50 51 51 51 52 52\n",
      " 53 54 54 54 55 55 56 57 57 57 58 58 59 60 60 60 60 61 61 61 62 62 63 64 64\n",
      " 64 65 65 66 67 67 67 68 68 69 70 70 71 72 73 73 73 73 74 74 74 75 75 76]\n"
     ]
    }
   ],
   "source": [
    "print(left)"
   ]
  }
 ],
 "metadata": {
  "kernelspec": {
   "display_name": "Python 3",
   "language": "python",
   "name": "python3"
  },
  "language_info": {
   "codemirror_mode": {
    "name": "ipython",
    "version": 3
   },
   "file_extension": ".py",
   "mimetype": "text/x-python",
   "name": "python",
   "nbconvert_exporter": "python",
   "pygments_lexer": "ipython3",
   "version": "3.6.5"
  }
 },
 "nbformat": 4,
 "nbformat_minor": 2
}
