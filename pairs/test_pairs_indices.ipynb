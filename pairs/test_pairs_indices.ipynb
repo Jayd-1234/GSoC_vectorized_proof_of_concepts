{
 "cells": [
  {
   "cell_type": "markdown",
   "metadata": {},
   "source": [
    "#### Testing parallelized combination indices generation with pycuda\n",
    "\n",
    "This indices will form the inner loop in combinations "
   ]
  },
  {
   "cell_type": "code",
   "execution_count": 49,
   "metadata": {},
   "outputs": [],
   "source": [
    "import pycuda.autoinit\n",
    "import pycuda\n",
    "import pycuda.driver as cuda\n",
    "import pycuda.gpuarray as gpuarray\n",
    "from pycuda.compiler import *\n",
    "import numpy"
   ]
  },
  {
   "cell_type": "code",
   "execution_count": 50,
   "metadata": {},
   "outputs": [],
   "source": [
    "mod = SourceModule('''\n",
    "__global__ void comb_indices(int* left,int* right, int* start, int* stop)\n",
    "{\n",
    "    int len = stop[0]-start[0];\n",
    "    int i = threadIdx.x + blockDim.x*blockIdx.x;\n",
    "    int j = threadIdx.y + blockDim.y*blockIdx.y;\n",
    "    if ( i<len && j<=i) \n",
    "    {\n",
    "        left[len*(len+1)/2-(i*(i+1)/2)-j-1] = len-1-i;\n",
    "        right[len*(len+1)/2 - (i*(i+1)/2) -j -1] = len-1-j;\n",
    "    }\n",
    "}\n",
    "''')\n",
    "func = mod.get_function(\"comb_indices\")"
   ]
  },
  {
   "cell_type": "code",
   "execution_count": 51,
   "metadata": {},
   "outputs": [],
   "source": [
    "start = numpy.array([0]).astype(numpy.int32)\n",
    "stop = numpy.array([8]).astype(numpy.int32)\n",
    "length = (stop-start)*(stop-start+1)/2\n",
    "length = length.astype(numpy.int32)\n",
    "left = numpy.empty(length).astype(numpy.int32)\n",
    "right = numpy.empty(length).astype(numpy.int32)"
   ]
  },
  {
   "cell_type": "code",
   "execution_count": 52,
   "metadata": {},
   "outputs": [],
   "source": [
    "func(cuda.InOut(left), cuda.InOut(right), cuda.In(start),cuda.In(stop), \n",
    "     block=(16,16,1), grid=(1,1))"
   ]
  },
  {
   "cell_type": "code",
   "execution_count": 53,
   "metadata": {},
   "outputs": [
    {
     "name": "stdout",
     "output_type": "stream",
     "text": [
      "[0 1 2 3 4 5 6 7 1 2 3 4 5 6 7 2 3 4 5 6 7 3 4 5 6 7 4 5 6 7 5 6 7 6 7 7]\n"
     ]
    }
   ],
   "source": [
    "print(right)"
   ]
  },
  {
   "cell_type": "code",
   "execution_count": 54,
   "metadata": {},
   "outputs": [
    {
     "name": "stdout",
     "output_type": "stream",
     "text": [
      "[0 0 0 0 0 0 0 0 1 1 1 1 1 1 1 2 2 2 2 2 2 3 3 3 3 3 4 4 4 4 5 5 5 6 6 7]\n"
     ]
    }
   ],
   "source": [
    "print(left)"
   ]
  }
 ],
 "metadata": {
  "kernelspec": {
   "display_name": "Python [conda env:anaconda3]",
   "language": "python",
   "name": "conda-env-anaconda3-py"
  },
  "language_info": {
   "codemirror_mode": {
    "name": "ipython",
    "version": 3
   },
   "file_extension": ".py",
   "mimetype": "text/x-python",
   "name": "python",
   "nbconvert_exporter": "python",
   "pygments_lexer": "ipython3",
   "version": "3.6.5"
  }
 },
 "nbformat": 4,
 "nbformat_minor": 2
}
