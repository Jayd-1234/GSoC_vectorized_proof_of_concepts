{
 "cells": [
  {
   "cell_type": "code",
   "execution_count": 1,
   "metadata": {},
   "outputs": [],
   "source": [
    "import numpy"
   ]
  },
  {
   "cell_type": "code",
   "execution_count": 2,
   "metadata": {},
   "outputs": [],
   "source": [
    "import sys\n",
    "import subprocess\n",
    "import ctypes\n",
    "import time\n",
    "import numpy\n",
    "\n",
    "from oamap.schema import *"
   ]
  },
  {
   "cell_type": "code",
   "execution_count": 3,
   "metadata": {},
   "outputs": [],
   "source": [
    "pydata = [{\"particles\": [{\"x\": numpy.random.normal(), \"y\": numpy.random.normal()} for particle in range(numpy.random.poisson(2))]} for event in range(10000)]\n",
    "oadata = List(Record({\"particles\": List(Record({\"x\": \"f8\", \"y\": \"f8\"}, name=\"Particle\"))}, name=\"Event\")).fromdata(pydata)\n",
    "arrays = dict(oadata._arrays)\n",
    "schema = oadata._generator.namedschema()\n",
    "schema.content[\"pairs\"] = List(\n",
    "    Tuple([Pointer(schema.content[\"particles\"].content, positions=\"left\"),\n",
    "           Pointer(schema.content[\"particles\"].content, positions=\"right\")]),\n",
    "    starts=\"starts\", stops=\"stops\")\n",
    "    #schema.show()\n",
    "\n",
    "particlestarts = arrays[\"object-L-NEvent-Fparticles-B\"]\n",
    "particlestops  = arrays[\"object-L-NEvent-Fparticles-E\"]\n",
    "particlecounts = particlestops - particlestarts\n",
    "pairscounts    = (particlecounts)*(particlecounts - 1) / 2   # N*(N-1)/2\n",
    "\n",
    "pairsoffsets = numpy.empty(len(pairscounts) + 1, int)\n",
    "pairsoffsets[0] = 0\n",
    "pairsoffsets[1:] = numpy.cumsum(pairscounts)                 # cumulative sum\n",
    "arrays[\"starts\"], arrays[\"stops\"] = pairsoffsets[:-1], pairsoffsets[1:]\n",
    "\n",
    "left  = arrays[\"left\"]  = numpy.empty(pairsoffsets[-1], int)\n",
    "right = arrays[\"right\"] = numpy.empty(pairsoffsets[-1], int)"
   ]
  },
  {
   "cell_type": "code",
   "execution_count": 4,
   "metadata": {},
   "outputs": [],
   "source": [
    "'''This is the original triple nested loop'''\n",
    "\n",
    "for event in range(len(oadata)):\n",
    "    pairs_i = pairsoffsets[event]\n",
    "    for particle_i1 in range(particlestarts[event], particlestops[event]):\n",
    "        for particle_i2 in range(particle_i1 + 1, particlestops[event]):\n",
    "            left[pairs_i]  = particle_i1\n",
    "            right[pairs_i] = particle_i2\n",
    "            pairs_i += 1\n"
   ]
  },
  {
   "cell_type": "code",
   "execution_count": 5,
   "metadata": {},
   "outputs": [],
   "source": [
    "'''This is with one loop and numpy'''\n",
    "\n",
    "start_mask = particlestarts[particlecounts>1]\n",
    "count_offset_mask = particlecounts[particlecounts>1]\n",
    "left_n = numpy.empty(1)\n",
    "right_n = numpy.empty(1)\n",
    "#How to reduce this loop??\n",
    "for event in numpy.arange(len(count_offset_mask)): \n",
    "    left1, right1 = numpy.triu_indices(count_offset_mask[event], 1)+start_mask[event]\n",
    "    #print(left1)\n",
    "    left_n = numpy.hstack((left_n, left1))\n",
    "    right_n = numpy.hstack((right_n, right1))\n",
    "\n",
    "left_n = left_n[1:]\n",
    "right_n = right_n[1:]"
   ]
  },
  {
   "cell_type": "code",
   "execution_count": 6,
   "metadata": {},
   "outputs": [
    {
     "name": "stdout",
     "output_type": "stream",
     "text": [
      "0.0\n"
     ]
    }
   ],
   "source": [
    "'''Proof that it works'''\n",
    "print(sum(left_n-left))"
   ]
  },
  {
   "cell_type": "code",
   "execution_count": null,
   "metadata": {},
   "outputs": [],
   "source": []
  },
  {
   "cell_type": "code",
   "execution_count": null,
   "metadata": {},
   "outputs": [],
   "source": []
  }
 ],
 "metadata": {
  "kernelspec": {
   "display_name": "Python [conda env:anaconda3]",
   "language": "python",
   "name": "conda-env-anaconda3-py"
  },
  "language_info": {
   "codemirror_mode": {
    "name": "ipython",
    "version": 3
   },
   "file_extension": ".py",
   "mimetype": "text/x-python",
   "name": "python",
   "nbconvert_exporter": "python",
   "pygments_lexer": "ipython3",
   "version": "3.6.3"
  }
 },
 "nbformat": 4,
 "nbformat_minor": 2
}
