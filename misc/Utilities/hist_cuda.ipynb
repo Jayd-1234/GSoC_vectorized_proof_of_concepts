{
 "cells": [
  {
   "cell_type": "markdown",
   "metadata": {},
   "source": [
    "# PyCUDA Histogram"
   ]
  },
  {
   "cell_type": "code",
   "execution_count": 35,
   "metadata": {},
   "outputs": [],
   "source": [
    "import numpy as np\n",
    "import pycuda.autoinit\n",
    "import pycuda.driver as cuda\n",
    "from pycuda.compiler import SourceModule\n",
    "from pycuda.reduction import ReductionKernel"
   ]
  },
  {
   "cell_type": "code",
   "execution_count": 36,
   "metadata": {},
   "outputs": [],
   "source": [
    "arr_min = 2.0\n",
    "arr_max = 10.0\n",
    "arr_size = 20\n",
    "arr = np.random.randint(arr_min, arr_max,size=arr_size, dtype=np.int32)\n",
    "bins = 5\n",
    "numpy_hist = np.histogram(arr, bins,range=(arr_min, arr_max))"
   ]
  },
  {
   "cell_type": "code",
   "execution_count": 37,
   "metadata": {},
   "outputs": [
    {
     "data": {
      "text/plain": [
       "(array([2, 4, 1, 8, 5], dtype=int64),\n",
       " array([  2. ,   3.6,   5.2,   6.8,   8.4,  10. ]))"
      ]
     },
     "execution_count": 37,
     "metadata": {},
     "output_type": "execute_result"
    }
   ],
   "source": [
    "numpy_hist"
   ]
  },
  {
   "cell_type": "code",
   "execution_count": 38,
   "metadata": {},
   "outputs": [],
   "source": [
    "mod = SourceModule('''\n",
    "__global__ void hist(float* arr,int* counts, int* size, int* bins,float* min,float* max)\n",
    "{\n",
    "    // i -> arr elements; j -> bins;\n",
    "    \n",
    "    size_t i = blockIdx.x*blockDim.x + threadIdx.x;\n",
    "    size_t j = blockIdx.y*blockDim.y + threadIdx.y;\n",
    "    \n",
    "    \n",
    "    if (i < size[0])\n",
    "    {\n",
    "        if (j<bins[0])\n",
    "        {\n",
    "            if (arr[i] > (float)(min[0]+(j-1)*(max[0]-min[0])/bins[0]) && arr[i] < (float)(min[0]+j*(max[0]-min[0])/bins[0]))\n",
    "            {\n",
    "                counts[j] = counts[j] + 1;\n",
    "            }\n",
    "        }\n",
    "    }\n",
    "}\n",
    "''')\n",
    "\n",
    "func = mod.get_function(\"hist\")"
   ]
  },
  {
   "cell_type": "code",
   "execution_count": 39,
   "metadata": {},
   "outputs": [],
   "source": [
    "count = np.zeros(bins+1, dtype=np.int32)\n",
    "min_arr = np.array([arr_min]).astype(np.float32)\n",
    "max_arr = np.array([arr_max]).astype(np.float32)\n",
    "size_arr = np.array([arr_size]).astype(np.int32)\n",
    "bins_arr = np.array([bins]).astype(np.int32)"
   ]
  },
  {
   "cell_type": "code",
   "execution_count": 40,
   "metadata": {},
   "outputs": [],
   "source": [
    "func(cuda.In(arr), cuda.InOut(count), cuda.In(size_arr), cuda.In(bins_arr), cuda.In(min_arr), cuda.In(max_arr),\n",
    "    block=(1, 8, 1), grid=(arr_size, 1, 1) \n",
    "    )"
   ]
  },
  {
   "cell_type": "code",
   "execution_count": 41,
   "metadata": {},
   "outputs": [],
   "source": [
    "#count"
   ]
  },
  {
   "cell_type": "code",
   "execution_count": null,
   "metadata": {},
   "outputs": [],
   "source": []
  }
 ],
 "metadata": {
  "kernelspec": {
   "display_name": "Python 3",
   "language": "python",
   "name": "python3"
  },
  "language_info": {
   "codemirror_mode": {
    "name": "ipython",
    "version": 3
   },
   "file_extension": ".py",
   "mimetype": "text/x-python",
   "name": "python",
   "nbconvert_exporter": "python",
   "pygments_lexer": "ipython3",
   "version": "3.6.5"
  }
 },
 "nbformat": 4,
 "nbformat_minor": 2
}
