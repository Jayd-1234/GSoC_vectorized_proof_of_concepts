{
 "cells": [
  {
   "cell_type": "markdown",
   "metadata": {},
   "source": [
    "# Vectorization of offsets from parents\n",
    "\n",
    "This will change the two unvectorized parts in original awkward array version to make it fully vectorized. \n",
    "\n",
    "Here, the data has been generated as usual, and we use the parents algorithm to generate the parents from the starts and stops. Finally, from parents, we again derive the offsets and compare the two versions for proof."
   ]
  },
  {
   "cell_type": "code",
   "execution_count": 1,
   "metadata": {},
   "outputs": [],
   "source": [
    "import numpy\n",
    "import numba"
   ]
  },
  {
   "cell_type": "code",
   "execution_count": 2,
   "metadata": {},
   "outputs": [],
   "source": [
    "NUMEVENTS = 320            # Number of evenets to simulate the data for.\n",
    "AVENUMJETS = 32             # Average number of jets per event.\n",
    "\n",
    "numjets = numpy.random.poisson(AVENUMJETS, NUMEVENTS).astype(numpy.int32) # Number of jets in each event\n",
    "jets_stops = numpy.cumsum(numjets).astype(numpy.int32)                                      # Stops array\n",
    "jets_starts = numpy.zeros_like(jets_stops)                              # Starts array\n",
    "jets_starts[1:] = jets_stops[:-1]"
   ]
  },
  {
   "cell_type": "code",
   "execution_count": 3,
   "metadata": {},
   "outputs": [],
   "source": [
    "NUMPARTICLES = jets_stops[-1]"
   ]
  },
  {
   "cell_type": "code",
   "execution_count": 4,
   "metadata": {},
   "outputs": [],
   "source": [
    "parents = numpy.empty(jets_stops[-1], dtype=numpy.int32)\n",
    "# Sequential evaluation\n",
    "@numba.jit()\n",
    "def parent(starts, stops, pointers):\n",
    "    for i in range(len(starts)):\n",
    "        pointers[starts[i]:stops[i]] = i\n",
    "parent(jets_starts, jets_stops, parents)"
   ]
  },
  {
   "cell_type": "code",
   "execution_count": 5,
   "metadata": {},
   "outputs": [],
   "source": [
    "# Offsets from parents: original awkward array version\n",
    "\n",
    "def fromparents(parents, content):\n",
    "        if len(parents) != len(content):\n",
    "            raise ValueError(\"parents array must have the same length as content\")\n",
    "\n",
    "        tmp = numpy.nonzero(parents[1:] != parents[:-1])[0] + 1\n",
    "\n",
    "        changes = numpy.empty(len(tmp) + 2, dtype=numpy.int)\n",
    "        changes[0] = 0\n",
    "        changes[-1] = len(parents)\n",
    "        changes[1:-1] = tmp\n",
    "\n",
    "        length = parents.max() + 1\n",
    "        starts = numpy.zeros(length, dtype=numpy.int)\n",
    "        counts = numpy.zeros(length, dtype=numpy.int)\n",
    "\n",
    "        where = parents[changes[:-1]]\n",
    "        real = (where >= 0)\n",
    "\n",
    "        starts[where[real]] = (changes[:-1])[real]\n",
    "        counts[where[real]] = (changes[1:] - changes[:-1])[real]\n",
    "\n",
    "        return [starts, counts]"
   ]
  },
  {
   "cell_type": "code",
   "execution_count": 6,
   "metadata": {},
   "outputs": [],
   "source": [
    "content = numpy.random.randn(jets_stops[-1])\n",
    "starts_awk, counts_awk = fromparents(parents, content)"
   ]
  },
  {
   "cell_type": "markdown",
   "metadata": {},
   "source": [
    "### Parts that might be unvectorized \n",
    "\n",
    "1. `numpy.nonzero`\n",
    "2. `parents.max()`\n",
    "\n",
    "**Solutions**\n",
    "\n",
    "1. `numpy.nonzero()` can be replaced with a combination of `numpy.where` with a boolean mask.\n",
    "2. `numpy.max()` is s sequential evaluation ( atleast I think, as the source is all over the place ). A simpler log() reduction can be applied to calculate this."
   ]
  },
  {
   "cell_type": "code",
   "execution_count": 8,
   "metadata": {},
   "outputs": [],
   "source": [
    "# Vectorized max()\n",
    "# Based on parallel reduction in bisection search spirit.\n",
    "\n",
    "def arr_max(arr):\n",
    "    index = numpy.arange(len(arr))  \n",
    "    i = (len(arr))//2\n",
    "    temp_data = numpy.copy(arr)\n",
    "    while(i>=1):\n",
    "        mask = numpy.array(index<i)\n",
    "        temp_data[index[mask]] = numpy.maximum(temp_data[index[mask]], temp_data[(index[mask]+i).astype(numpy.int)])\n",
    "        if (i%2!=0and i!=1):\n",
    "            i = i//2+1\n",
    "        else: \n",
    "            i = i//2\n",
    "    return max(temp_data[0], temp_data[-1])\n",
    "\n"
   ]
  },
  {
   "cell_type": "code",
   "execution_count": 9,
   "metadata": {},
   "outputs": [],
   "source": [
    "# modified version\n",
    "\n",
    "def from_parents_modified(parents, content):\n",
    "        if len(parents) != len(content):\n",
    "                raise ValueError(\"parents array must have the same length as content\")\n",
    "\n",
    "        # Change 1\n",
    "        mask = parents[1:] != parents[:-1]\n",
    "        tmp = numpy.where(mask)[0] + 1\n",
    "\n",
    "        changes = numpy.empty(len(tmp) + 2, dtype=numpy.int)\n",
    "        changes[0] = 0\n",
    "        changes[-1] = len(parents)\n",
    "        changes[1:-1] = tmp\n",
    "\n",
    "        # Change 2\n",
    "        length = arr_max(parents) + 1\n",
    "        starts = numpy.zeros(length, dtype=numpy.int)\n",
    "        counts = numpy.zeros(length, dtype=numpy.int)\n",
    "\n",
    "        where = parents[changes[:-1]]\n",
    "        real = (where >= 0)\n",
    "\n",
    "        starts[where[real]] = (changes[:-1])[real]\n",
    "        counts[where[real]] = (changes[1:] - changes[:-1])[real]\n",
    "\n",
    "        return [starts, counts]"
   ]
  },
  {
   "cell_type": "code",
   "execution_count": 10,
   "metadata": {},
   "outputs": [],
   "source": [
    "starts_mod, counts_mod = from_parents_modified(parents, content)"
   ]
  },
  {
   "cell_type": "code",
   "execution_count": 13,
   "metadata": {},
   "outputs": [],
   "source": [
    "# Compare the two outputs\n",
    "assert((starts_mod==starts_awk).all())"
   ]
  },
  {
   "cell_type": "code",
   "execution_count": null,
   "metadata": {},
   "outputs": [],
   "source": []
  }
 ],
 "metadata": {
  "kernelspec": {
   "display_name": "Python 3",
   "language": "python",
   "name": "python3"
  },
  "language_info": {
   "codemirror_mode": {
    "name": "ipython",
    "version": 3
   },
   "file_extension": ".py",
   "mimetype": "text/x-python",
   "name": "python",
   "nbconvert_exporter": "python",
   "pygments_lexer": "ipython3",
   "version": "3.6.5"
  }
 },
 "nbformat": 4,
 "nbformat_minor": 2
}
