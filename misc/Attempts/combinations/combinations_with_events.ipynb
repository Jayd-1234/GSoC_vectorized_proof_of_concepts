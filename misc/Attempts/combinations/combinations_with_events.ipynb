{
 "cells": [
  {
   "cell_type": "markdown",
   "metadata": {},
   "source": [
    "#### Testing combinations with starts and stops as indices\n",
    "\n",
    "This is intended to be used with oamap version ( I know we don't intend to finally use it, but let's go with it for now)"
   ]
  },
  {
   "cell_type": "code",
   "execution_count": 13,
   "metadata": {},
   "outputs": [],
   "source": [
    "import pycuda.autoinit\n",
    "import pycuda\n",
    "import pycuda.driver as cuda\n",
    "import pycuda.gpuarray as gpuarray\n",
    "from pycuda.compiler import *\n",
    "import numpy"
   ]
  },
  {
   "cell_type": "code",
   "execution_count": 14,
   "metadata": {},
   "outputs": [],
   "source": [
    "# Tha generation step. Let's form a random integer array, from which we will form starts \n",
    "# and stops arrays\n",
    "base_len = 256\n",
    "base_arr = numpy.random.randint(10, size=base_len)"
   ]
  },
  {
   "cell_type": "code",
   "execution_count": 15,
   "metadata": {},
   "outputs": [],
   "source": [
    "cumul_arr = numpy.cumsum(base_arr)"
   ]
  },
  {
   "cell_type": "code",
   "execution_count": 16,
   "metadata": {},
   "outputs": [],
   "source": [
    "start = cumul_arr[:-1]\n",
    "stop = cumul_arr[1:]"
   ]
  },
  {
   "cell_type": "code",
   "execution_count": 17,
   "metadata": {},
   "outputs": [
    {
     "data": {
      "text/plain": [
       "array([ 3,  7,  9, 17, 26])"
      ]
     },
     "execution_count": 17,
     "metadata": {},
     "output_type": "execute_result"
    }
   ],
   "source": [
    "start[:5]"
   ]
  },
  {
   "cell_type": "code",
   "execution_count": 18,
   "metadata": {},
   "outputs": [
    {
     "data": {
      "text/plain": [
       "array([ 7,  9, 17, 26, 26])"
      ]
     },
     "execution_count": 18,
     "metadata": {},
     "output_type": "execute_result"
    }
   ],
   "source": [
    "stop[:5]"
   ]
  },
  {
   "cell_type": "code",
   "execution_count": 19,
   "metadata": {},
   "outputs": [],
   "source": [
    "lengths = stop-start\n",
    "cumul_lengths = numpy.cumsum(lengths)\n",
    "pairs_lengths = lengths*lengths\n",
    "pairs_lengths = pairs_lengths.astype(numpy.int32)\n",
    "lengths_arr = numpy.array([base_len]).astype(numpy.int32)"
   ]
  },
  {
   "cell_type": "code",
   "execution_count": 20,
   "metadata": {},
   "outputs": [
    {
     "data": {
      "text/plain": [
       "81"
      ]
     },
     "execution_count": 20,
     "metadata": {},
     "output_type": "execute_result"
    }
   ],
   "source": [
    "max(pairs_lengths)"
   ]
  },
  {
   "cell_type": "code",
   "execution_count": 21,
   "metadata": {},
   "outputs": [],
   "source": [
    "left = numpy.zeros(sum(pairs_lengths).astype(numpy.int32))\n",
    "right = numpy.zeros(sum(pairs_lengths).astype(numpy.int32))"
   ]
  },
  {
   "cell_type": "code",
   "execution_count": 22,
   "metadata": {},
   "outputs": [],
   "source": [
    "# Now let's form the cuda function\n",
    "\n",
    "mod = SourceModule('''\n",
    "__global__ void comb_events(int* left,int* right,int* start,int* stop,int* lengths,int* pairs_lengths)\n",
    "{\n",
    "    int i = threadIdx.x + blockIdx.x*blockDim.x;\n",
    "    int j = threadIdx.y + blockIdx.y*blockDim.y;\n",
    "    int k = threadIdx.z + blockIdx.z*blockDim.z;\n",
    "    \n",
    "    if (i<lengths[0] && j<pairs_lengths[i] && k<pairs_lengths[i])\n",
    "    {\n",
    "        left[i*lengths[0]+j*pairs_lengths[i]+k] = j + start[i];\n",
    "        right[i*lengths[0]+j*pairs_lengths[i]+k] = k + start[i];\n",
    "    }\n",
    "}\n",
    "''')"
   ]
  },
  {
   "cell_type": "code",
   "execution_count": 23,
   "metadata": {},
   "outputs": [],
   "source": [
    "func = mod.get_function(\"comb_events\")"
   ]
  },
  {
   "cell_type": "code",
   "execution_count": 24,
   "metadata": {},
   "outputs": [
    {
     "ename": "LogicError",
     "evalue": "cuFuncSetBlockShape failed: invalid argument",
     "output_type": "error",
     "traceback": [
      "\u001b[0;31m---------------------------------------------------------------------------\u001b[0m",
      "\u001b[0;31mLogicError\u001b[0m                                Traceback (most recent call last)",
      "\u001b[0;32m<ipython-input-24-cb97f34880fd>\u001b[0m in \u001b[0;36m<module>\u001b[0;34m()\u001b[0m\n\u001b[1;32m      1\u001b[0m func(cuda.InOut(left), cuda.InOut(right), cuda.In(start), cuda.In(stop), cuda.In(lengths_arr),\n\u001b[0;32m----> 2\u001b[0;31m     cuda.In(pairs_lengths), block=(256, 81, 81), grid=(1,1))\n\u001b[0m",
      "\u001b[0;32m~/anaconda3/lib/python3.6/site-packages/pycuda/driver.py\u001b[0m in \u001b[0;36mfunction_call\u001b[0;34m(func, *args, **kwargs)\u001b[0m\n\u001b[1;32m    380\u001b[0m             \u001b[0;32mraise\u001b[0m \u001b[0mValueError\u001b[0m\u001b[0;34m(\u001b[0m\u001b[0;34m\"must specify block size\"\u001b[0m\u001b[0;34m)\u001b[0m\u001b[0;34m\u001b[0m\u001b[0m\n\u001b[1;32m    381\u001b[0m \u001b[0;34m\u001b[0m\u001b[0m\n\u001b[0;32m--> 382\u001b[0;31m         \u001b[0mfunc\u001b[0m\u001b[0;34m.\u001b[0m\u001b[0m_set_block_shape\u001b[0m\u001b[0;34m(\u001b[0m\u001b[0;34m*\u001b[0m\u001b[0mblock\u001b[0m\u001b[0;34m)\u001b[0m\u001b[0;34m\u001b[0m\u001b[0m\n\u001b[0m\u001b[1;32m    383\u001b[0m         \u001b[0mhandlers\u001b[0m\u001b[0;34m,\u001b[0m \u001b[0marg_buf\u001b[0m \u001b[0;34m=\u001b[0m \u001b[0m_build_arg_buf\u001b[0m\u001b[0;34m(\u001b[0m\u001b[0margs\u001b[0m\u001b[0;34m)\u001b[0m\u001b[0;34m\u001b[0m\u001b[0m\n\u001b[1;32m    384\u001b[0m \u001b[0;34m\u001b[0m\u001b[0m\n",
      "\u001b[0;31mLogicError\u001b[0m: cuFuncSetBlockShape failed: invalid argument"
     ]
    }
   ],
   "source": [
    "func(cuda.InOut(left), cuda.InOut(right), cuda.In(start), cuda.In(stop), cuda.In(lengths_arr),\n",
    "    cuda.In(pairs_lengths), block=(256, 81, 81), grid=(1,1))"
   ]
  },
  {
   "cell_type": "code",
   "execution_count": null,
   "metadata": {},
   "outputs": [],
   "source": []
  }
 ],
 "metadata": {
  "kernelspec": {
   "display_name": "Python [conda env:anaconda3]",
   "language": "python",
   "name": "conda-env-anaconda3-py"
  }
 },
 "nbformat": 4,
 "nbformat_minor": 2
}
