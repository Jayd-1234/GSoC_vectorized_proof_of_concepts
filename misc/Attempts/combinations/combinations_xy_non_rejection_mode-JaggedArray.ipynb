{
 "cells": [
  {
   "cell_type": "markdown",
   "metadata": {},
   "source": [
    "# Combinations vectorized\n",
    "\n",
    "#### Uses the following information:\n",
    "- parents of pairs\n",
    "- pairs indices\n",
    "- Usual starts,stops,counts etc.\n",
    "\n",
    "#### Basic idea:\n",
    "\n",
    "We can note that `left` is the quotient of division between `pairs_index-pairs_start[event]` and `counts[event]`. `right` on the other hand, is the result of modulus of the abovementioned factors. We can use it to form the result.\n"
   ]
  },
  {
   "cell_type": "code",
   "execution_count": 4,
   "metadata": {},
   "outputs": [],
   "source": [
    "import numpy as np\n",
    "import sys\n",
    "import numba\n",
    "from awkward import *"
   ]
  },
  {
   "cell_type": "code",
   "execution_count": 5,
   "metadata": {},
   "outputs": [],
   "source": [
    "NUMEVENTS = 50\n",
    "AVENUMJETS = 2\n",
    "\n",
    "numjets1 = np.random.poisson(AVENUMJETS, NUMEVENTS).astype(np.int)\n",
    "stops1 = np.cumsum(numjets1).astype(np.int)\n",
    "starts1 = np.zeros_like(stops1)\n",
    "starts1[1:] = stops1[:-1]\n",
    "\n",
    "counts1 = stops1-starts1\n",
    "offsets1 = np.zeros(len(numjets1)+1)\n",
    "offsets1[1:] = stops1[:]\n",
    "\n",
    "numjets2 = np.random.poisson(AVENUMJETS, NUMEVENTS).astype(np.int)\n",
    "stops2 = np.cumsum(numjets2).astype(np.int)\n",
    "starts2 = np.zeros_like(stops2)\n",
    "starts2[1:] = stops2[:-1]\n",
    "\n",
    "\n",
    "counts2 = stops2-starts2\n",
    "offsets2 = np.zeros(len(numjets2)+1)\n",
    "offsets2[1:] = stops2[:]"
   ]
  },
  {
   "cell_type": "code",
   "execution_count": 6,
   "metadata": {},
   "outputs": [],
   "source": [
    "\n",
    "@numba.jit()\n",
    "def vectorized_search(offsets, content):\n",
    "    index = np.arange(len(content), dtype=int)                     # threadIdx.x on CUDA\n",
    "    below = np.zeros(len(content), dtype=int)                      # just below = 0 on CUDA\n",
    "    above = np.ones(len(content), dtype=int) * (len(offsets) - 1)  # same for above\n",
    "    while True:\n",
    "        middle = (below + above) // 2\n",
    "\n",
    "        change_below = offsets[middle + 1] <= index                   # which \"belows\" must we change?\n",
    "        change_above = offsets[middle] > index                        # which \"aboves\"?\n",
    "\n",
    "        if not np.bitwise_or(change_below, change_above).any():    # neither? great! we're done!\n",
    "            break\n",
    "        else:\n",
    "            below = np.where(change_below, middle + 1, below)      # vectorized \"if\" statement\n",
    "            above = np.where(change_above, middle - 1, above)      # this is the only branch\n",
    "\n",
    "    return middle"
   ]
  },
  {
   "cell_type": "code",
   "execution_count": 7,
   "metadata": {},
   "outputs": [],
   "source": [
    "# pairs_indices should properly be called pairs_counts\n",
    "pairs_indices = np.zeros(NUMEVENTS+1)\n",
    "pairs_indices[1:] = np.cumsum(counts1*counts2)\n",
    "pairs_indices = pairs_indices.astype(np.int)"
   ]
  },
  {
   "cell_type": "code",
   "execution_count": 8,
   "metadata": {},
   "outputs": [],
   "source": [
    "# pairs_contents should be called pairs_indices\n",
    "pairs_contents = np.arange(pairs_indices[-1]).astype(np.int)\n",
    "pairs_parents = vectorized_search(pairs_indices, pairs_contents)\n",
    "pairs_parents = pairs_parents.astype(np.int)"
   ]
  },
  {
   "cell_type": "code",
   "execution_count": 9,
   "metadata": {},
   "outputs": [],
   "source": [
    "left = np.empty_like(pairs_contents)\n",
    "right = np.empty_like(pairs_contents)"
   ]
  },
  {
   "cell_type": "code",
   "execution_count": 10,
   "metadata": {},
   "outputs": [],
   "source": [
    "left[pairs_contents] = starts1[pairs_parents[pairs_contents]] + np.floor((pairs_contents-pairs_indices[pairs_parents[pairs_contents]])/counts2[pairs_parents[pairs_contents]]).astype(np.int)\n",
    "right[pairs_contents] = starts2[pairs_parents[pairs_contents]]+(pairs_contents-pairs_indices[pairs_parents[pairs_contents]])-counts2[pairs_parents[pairs_contents]]*np.floor((pairs_contents-pairs_indices[pairs_parents[pairs_contents]])/counts2[pairs_parents[pairs_contents]])"
   ]
  },
  {
   "cell_type": "code",
   "execution_count": 11,
   "metadata": {},
   "outputs": [
    {
     "name": "stdout",
     "output_type": "stream",
     "text": [
      "Event 0\n",
      " Left []\n",
      "Right []\n",
      "\n",
      "\n",
      "Event 1\n",
      " Left []\n",
      "Right []\n",
      "\n",
      "\n",
      "Event 2\n",
      " Left [3 3 4 4]\n",
      "Right [0 1 0 1]\n",
      "\n",
      "\n",
      "Event 3\n",
      " Left [5 5 5 6 6 6]\n",
      "Right [2 3 4 2 3 4]\n",
      "\n",
      "\n",
      "Event 4\n",
      " Left []\n",
      "Right []\n",
      "\n",
      "\n",
      "Event 5\n",
      " Left [ 9 10]\n",
      "Right [5 5]\n",
      "\n",
      "\n"
     ]
    }
   ],
   "source": [
    "# Randdom Content\n",
    "for i in range(6):\n",
    "    print(\"Event {}\\n Left {}\\nRight {}\\n\\n\".format(i, left[pairs_indices[i]:pairs_indices[i+1]], right[pairs_indices[i]:pairs_indices[i+1]]))"
   ]
  },
  {
   "cell_type": "code",
   "execution_count": 13,
   "metadata": {},
   "outputs": [],
   "source": [
    "# Contents\n",
    "content1 = np.random.randn(stops1[-1])\n",
    "content2 = np.random.randn(stops2[-1])"
   ]
  },
  {
   "cell_type": "code",
   "execution_count": 14,
   "metadata": {},
   "outputs": [],
   "source": [
    "# JaggedArrays\n",
    "arr = JaggedArray(pairs_indices[:-1],pairs_indices[1:], Table(pairs_indices[-1], left, right))"
   ]
  },
  {
   "cell_type": "code",
   "execution_count": 22,
   "metadata": {},
   "outputs": [
    {
     "data": {
      "text/plain": [
       "[{'f0': 3, 'f1': 0},\n",
       " {'f0': 3, 'f1': 1},\n",
       " {'f0': 4, 'f1': 0},\n",
       " {'f0': 4, 'f1': 1}]"
      ]
     },
     "execution_count": 22,
     "metadata": {},
     "output_type": "execute_result"
    }
   ],
   "source": [
    "# Print values\n",
    "arr[2].tolist()"
   ]
  }
 ],
 "metadata": {
  "kernelspec": {
   "display_name": "Python 3",
   "language": "python",
   "name": "python3"
  },
  "language_info": {
   "codemirror_mode": {
    "name": "ipython",
    "version": 3
   },
   "file_extension": ".py",
   "mimetype": "text/x-python",
   "name": "python",
   "nbconvert_exporter": "python",
   "pygments_lexer": "ipython3",
   "version": "3.6.5"
  }
 },
 "nbformat": 4,
 "nbformat_minor": 2
}
