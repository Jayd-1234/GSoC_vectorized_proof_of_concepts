{
 "cells": [
  {
   "cell_type": "markdown",
   "metadata": {},
   "source": [
    "# Combinations vectorized\n",
    "\n",
    "#### Uses the following information:\n",
    "- parents of pairs\n",
    "- pairs indices\n",
    "- Usual starts,stops,counts etc.\n",
    "\n",
    "#### Basic idea:\n",
    "\n",
    "We can note that `left` is the quotient of division between `pairs_index-pairs_start[event]` and `counts[event]`. `right` on the other hand, is the result of modulus of the abovementioned factors. We can use it to form the result.\n"
   ]
  },
  {
   "cell_type": "code",
   "execution_count": 30,
   "metadata": {},
   "outputs": [],
   "source": [
    "import numpy as np\n",
    "import sys\n",
    "import numba\n",
    "from awkward import *"
   ]
  },
  {
   "cell_type": "code",
   "execution_count": 31,
   "metadata": {},
   "outputs": [],
   "source": [
    "NUMEVENTS = 50\n",
    "AVENUMJETS = 2\n",
    "\n",
    "numjets1 = np.random.poisson(AVENUMJETS, NUMEVENTS).astype(np.int)\n",
    "stops1 = np.cumsum(numjets1).astype(np.int)\n",
    "starts1 = np.zeros_like(stops1)\n",
    "starts1[1:] = stops1[:-1]\n",
    "\n",
    "counts1 = stops1-starts1\n",
    "offsets1 = np.zeros(len(numjets1)+1)\n",
    "offsets1[1:] = stops1[:]\n",
    "\n",
    "numjets2 = np.random.poisson(AVENUMJETS, NUMEVENTS).astype(np.int)\n",
    "stops2 = np.cumsum(numjets2).astype(np.int)\n",
    "starts2 = np.zeros_like(stops2)\n",
    "starts2[1:] = stops2[:-1]\n",
    "\n",
    "\n",
    "counts2 = stops2-starts2\n",
    "offsets2 = np.zeros(len(numjets2)+1)\n",
    "offsets2[1:] = stops2[:]"
   ]
  },
  {
   "cell_type": "code",
   "execution_count": 32,
   "metadata": {},
   "outputs": [],
   "source": [
    "parents = np.empty(stops[-1], dtype=np.int)\n",
    "\n",
    "@numba.jit()\n",
    "def vectorized_search(offsets, content):\n",
    "    index = np.arange(len(content), dtype=int)                     # threadIdx.x on CUDA\n",
    "    below = np.zeros(len(content), dtype=int)                      # just below = 0 on CUDA\n",
    "    above = np.ones(len(content), dtype=int) * (len(offsets) - 1)  # same for above\n",
    "    while True:\n",
    "        middle = (below + above) // 2\n",
    "\n",
    "        change_below = offsets[middle + 1] <= index                   # which \"belows\" must we change?\n",
    "        change_above = offsets[middle] > index                        # which \"aboves\"?\n",
    "\n",
    "        if not np.bitwise_or(change_below, change_above).any():    # neither? great! we're done!\n",
    "            break\n",
    "        else:\n",
    "            below = np.where(change_below, middle + 1, below)      # vectorized \"if\" statement\n",
    "            above = np.where(change_above, middle - 1, above)      # this is the only branch\n",
    "\n",
    "    return middle"
   ]
  },
  {
   "cell_type": "code",
   "execution_count": 33,
   "metadata": {},
   "outputs": [],
   "source": [
    "# pairs_indices should properly be called pairs_counts\n",
    "pairs_indices = np.zeros(NUMEVENTS+1)\n",
    "pairs_indices[1:] = np.cumsum(counts1*counts2)\n",
    "pairs_indices = pairs_indices.astype(np.int)"
   ]
  },
  {
   "cell_type": "code",
   "execution_count": 34,
   "metadata": {},
   "outputs": [],
   "source": [
    "# pairs_contents should be called pairs_indices\n",
    "pairs_contents = np.arange(pairs_indices[-1]).astype(np.int)\n",
    "pairs_parents = vectorized_search(pairs_indices, pairs_contents)\n",
    "pairs_parents = pairs_parents.astype(np.int)"
   ]
  },
  {
   "cell_type": "code",
   "execution_count": 35,
   "metadata": {},
   "outputs": [],
   "source": [
    "left = np.empty_like(pairs_contents)\n",
    "right = np.empty_like(pairs_contents)"
   ]
  },
  {
   "cell_type": "code",
   "execution_count": 36,
   "metadata": {},
   "outputs": [],
   "source": [
    "left[pairs_contents] = starts1[pairs_parents[pairs_contents]] + np.floor((pairs_contents-pairs_indices[pairs_parents[pairs_contents]])/counts2[pairs_parents[pairs_contents]]).astype(np.int)\n",
    "right[pairs_contents] = starts2[pairs_parents[pairs_contents]]+(pairs_contents-pairs_indices[pairs_parents[pairs_contents]])-counts2[pairs_parents[pairs_contents]]*np.floor((pairs_contents-pairs_indices[pairs_parents[pairs_contents]])/counts2[pairs_parents[pairs_contents]])"
   ]
  },
  {
   "cell_type": "code",
   "execution_count": 41,
   "metadata": {},
   "outputs": [
    {
     "name": "stdout",
     "output_type": "stream",
     "text": [
      "Event 0\n",
      " Left [0 0 0 0 1 1 1 1]\n",
      "Right [0 1 2 3 0 1 2 3]\n",
      "\n",
      "\n",
      "Event 1\n",
      " Left [2 2 3 3]\n",
      "Right [4 5 4 5]\n",
      "\n",
      "\n",
      "Event 2\n",
      " Left [4 4 4 5 5 5]\n",
      "Right [6 7 8 6 7 8]\n",
      "\n",
      "\n",
      "Event 3\n",
      " Left [6]\n",
      "Right [9]\n",
      "\n",
      "\n",
      "Event 4\n",
      " Left [7 7 7 7]\n",
      "Right [10 11 12 13]\n",
      "\n",
      "\n",
      "Event 5\n",
      " Left []\n",
      "Right []\n",
      "\n",
      "\n"
     ]
    }
   ],
   "source": [
    "# Randdom Content\n",
    "for i in range(6):\n",
    "    print(\"Event {}\\n Left {}\\nRight {}\\n\\n\".format(i, left[pairs_indices[i]:pairs_indices[i+1]], right[pairs_indices[i]:pairs_indices[i+1]]))"
   ]
  },
  {
   "cell_type": "code",
   "execution_count": 42,
   "metadata": {},
   "outputs": [],
   "source": [
    "# Contents\n",
    "content1 = np.random.randn(stops[-1])\n",
    "content2 = np.random.randn(stops[-1])"
   ]
  },
  {
   "cell_type": "code",
   "execution_count": 43,
   "metadata": {},
   "outputs": [],
   "source": [
    "# JaggedArrays\n",
    "arr1 = JaggedArray.fromoffsets(pairs_indices.astype(np.int), content1[left])\n",
    "arr2 = JaggedArray.fromoffsets(pairs_indices.astype(np.int), content2[right])"
   ]
  },
  {
   "cell_type": "code",
   "execution_count": 45,
   "metadata": {},
   "outputs": [
    {
     "data": {
      "text/plain": [
       "<JaggedArray [[ 0.09501511  0.09501511  0.09501511  0.09501511 -0.66320606 -0.66320606\n",
       " -0.66320606 -0.66320606] [ 1.56090746  1.56090746 -1.05798713 -1.05798713] [ 0.78628129  0.78628129  0.78628129 -0.03873091 -0.03873091 -0.03873091] ... [-0.47996288 -0.47996288 -0.47996288 -0.47996288], [-0.69266046 -0.69266046 -1.4222636  -1.4222636 ], [ 1.35448842  1.35448842  1.35448842  1.35448842 -1.174081   -1.174081\n",
       " -1.174081   -1.174081  ]] at 0201adce7208>"
      ]
     },
     "execution_count": 45,
     "metadata": {},
     "output_type": "execute_result"
    }
   ],
   "source": [
    "arr1"
   ]
  },
  {
   "cell_type": "markdown",
   "metadata": {},
   "source": [
    "#### How to combine this JaggedArrays()?"
   ]
  }
 ],
 "metadata": {
  "kernelspec": {
   "display_name": "Python 3",
   "language": "python",
   "name": "python3"
  },
  "language_info": {
   "codemirror_mode": {
    "name": "ipython",
    "version": 3
   },
   "file_extension": ".py",
   "mimetype": "text/x-python",
   "name": "python",
   "nbconvert_exporter": "python",
   "pygments_lexer": "ipython3",
   "version": "3.6.5"
  }
 },
 "nbformat": 4,
 "nbformat_minor": 2
}
