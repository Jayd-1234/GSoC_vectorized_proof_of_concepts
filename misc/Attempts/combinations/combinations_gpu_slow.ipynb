{
 "cells": [
  {
   "cell_type": "code",
   "execution_count": 1,
   "metadata": {},
   "outputs": [],
   "source": [
    "import pycuda.autoinit\n",
    "import pycuda.gpuarray as gpuarray\n",
    "from pycuda.compiler import *\n",
    "import pycuda.driver as cuda\n",
    "import numpy as np\n",
    "import numba"
   ]
  },
  {
   "cell_type": "code",
   "execution_count": 2,
   "metadata": {},
   "outputs": [],
   "source": [
    "NUMEVENTS = 5000\n",
    "AVENUMJETS = 100\n",
    "\n",
    "numjets1 = np.random.poisson(AVENUMJETS, NUMEVENTS).astype(np.int32)\n",
    "stops1 = np.cumsum(numjets1, dtype=np.int32)\n",
    "starts1 = np.zeros_like(stops1)\n",
    "starts1[1:] = stops1[:-1]\n",
    "\n",
    "counts1 = stops1-starts1\n",
    "offsets1 = np.zeros(len(numjets1)+1)\n",
    "offsets1[1:] = stops1[:]\n",
    "\n",
    "numjets2 = np.random.poisson(AVENUMJETS, NUMEVENTS).astype(np.int32)\n",
    "stops2 = np.cumsum(numjets2, dtype=np.int32)\n",
    "starts2 = np.zeros_like(stops2)\n",
    "starts2[1:] = stops2[:-1]\n",
    "\n",
    "\n",
    "counts2 = stops2-starts2\n",
    "offsets2 = np.zeros(len(numjets2)+1)\n",
    "offsets2[1:] = stops2[:]"
   ]
  },
  {
   "cell_type": "code",
   "execution_count": 3,
   "metadata": {},
   "outputs": [],
   "source": [
    "@numba.jit()\n",
    "def vectorized_search(offsets, content):\n",
    "    index = np.arange(len(content), dtype=np.int32)                     \n",
    "    below = np.zeros(len(content), dtype=np.int32)                      \n",
    "    above = np.ones(len(content), dtype=np.int32) * (len(offsets) - 1)  \n",
    "    while True:\n",
    "        middle = (below + above) // 2\n",
    "\n",
    "        change_below = offsets[middle + 1] <= index                  \n",
    "        change_above = offsets[middle] > index                        \n",
    "\n",
    "        if not np.bitwise_or(change_below, change_above).any():    \n",
    "            break\n",
    "        else:\n",
    "            below = np.where(change_below, middle + 1, below)      \n",
    "            above = np.where(change_above, middle - 1, above)      \n",
    "\n",
    "    return middle"
   ]
  },
  {
   "cell_type": "code",
   "execution_count": 4,
   "metadata": {},
   "outputs": [],
   "source": [
    "pairs_indices = np.zeros(NUMEVENTS+1, dtype=np.int32)\n",
    "pairs_indices[1:] = np.cumsum(counts1*counts2, dtype=np.int32)\n",
    "pairs_indices = pairs_indices"
   ]
  },
  {
   "cell_type": "code",
   "execution_count": 5,
   "metadata": {},
   "outputs": [],
   "source": [
    "pairs_contents = np.arange(pairs_indices[-1]).astype(np.int32)\n",
    "pairs_parents = vectorized_search(pairs_indices, pairs_contents)\n",
    "pairs_parents = pairs_parents.astype(np.int32)"
   ]
  },
  {
   "cell_type": "code",
   "execution_count": 6,
   "metadata": {},
   "outputs": [],
   "source": [
    "mod = SourceModule('''\n",
    "__global__ void combinations(int* starts1,int* starts2,int* counts2,int* pairs_parents,int* pairs_indices,int* left,int* right,int* numpairs)\n",
    "{\n",
    "    unsigned int idx = threadIdx.x + blockIdx.x*blockDim.x;\n",
    "    int temp;\n",
    "    int tid = threadIdx.x;\n",
    "    // __shared__ int spairs_parents[512], spairs_indices[512], scounts2[512], sstarts1[512], sstarts2[512],sleft[512], sright[512];\n",
    "    \n",
    "    if (idx >= numpairs[0])\n",
    "    {\n",
    "        return;\n",
    "    }\n",
    "    /*\n",
    "    spairs_parents[tid] = pairs_parents[idx];\n",
    "    spairs_indices[tid] = pairs_indices[idx];\n",
    "    scounts2[tid] = counts2[idx];\n",
    "    sstarts1[tid] = starts1[idx];\n",
    "    sstarts2[tid] = starts2[idx];\n",
    "    __syncthreads();\n",
    "    \n",
    "    if (scounts2[spairs_parents[tid]]>0)\n",
    "        {\n",
    "            temp[0] = (idx-spairs_indices[spairs_parents[tid]])/scounts2[pairs_parents[tid]];\n",
    "            sleft[tid] = sstarts1[spairs_parents[tid]] + temp[0];\n",
    "            sright[tid] = sstarts2[spairs_parents[tid]] + (idx-spairs_indices[spairs_parents[tid]])-scounts2[spairs_parents[tid]]*temp[0];\n",
    "        }\n",
    "        __syncthreads();\n",
    "        \n",
    "        left[idx] = sleft[tid];\n",
    "        right[idx] = sright[tid];\n",
    "        __syncthreads();\n",
    "    */\n",
    "    \n",
    "    if (counts2[pairs_parents[idx]]>0)\n",
    "        {\n",
    "            temp = (idx-pairs_indices[pairs_parents[idx]])/counts2[pairs_parents[idx]];\n",
    "            left[idx] = starts1[pairs_parents[idx]] + temp;\n",
    "            right[idx] = starts2[pairs_parents[idx]] + (idx-pairs_indices[pairs_parents[idx]])-counts2[pairs_parents[idx]]*temp;\n",
    "        }\n",
    "        __syncthreads();\n",
    "}\n",
    "''')"
   ]
  },
  {
   "cell_type": "code",
   "execution_count": 7,
   "metadata": {},
   "outputs": [],
   "source": [
    "func = mod.get_function('combinations')"
   ]
  },
  {
   "cell_type": "code",
   "execution_count": 8,
   "metadata": {},
   "outputs": [],
   "source": [
    "gpu_starts1 = gpuarray.to_gpu(starts1)\n",
    "gpu_starts2 = gpuarray.to_gpu(starts2)\n",
    "gpu_counts2 = gpuarray.to_gpu(counts2)\n",
    "gpu_pairs_parents = gpuarray.to_gpu(pairs_parents)\n",
    "gpu_pairs_indices = gpuarray.to_gpu(pairs_indices)\n",
    "left = gpuarray.zeros(pairs_indices[-1], dtype=np.int32)-1\n",
    "right = gpuarray.zeros_like(left)-1\n",
    "numpairs = gpuarray.to_gpu(np.array([pairs_indices[-1]]).astype(np.int32))\n",
    "numthreads = 512\n",
    "numblocks = int(np.ceil(pairs_indices[-1]/numthreads))"
   ]
  },
  {
   "cell_type": "code",
   "execution_count": 9,
   "metadata": {
    "scrolled": false
   },
   "outputs": [
    {
     "name": "stdout",
     "output_type": "stream",
     "text": [
      "Total time taken = 44.93766403198242 milliseconds\n"
     ]
    }
   ],
   "source": [
    "start = cuda.Event()\n",
    "stop = cuda.Event()\n",
    "start.record()\n",
    "func(gpu_starts1,gpu_starts2,gpu_counts2,gpu_pairs_parents,gpu_pairs_indices,left,right,numpairs, block=(numthreads,1,1), grid = (numblocks,1))\n",
    "\n",
    "stop.record()\n",
    "stop.synchronize()\n",
    "print (\"Total time taken = {} milliseconds\".format(start.time_till(stop)))"
   ]
  },
  {
   "cell_type": "code",
   "execution_count": 10,
   "metadata": {},
   "outputs": [],
   "source": [
    "# Uncomment if need to view output\n",
    "#for i in range(6):\n",
    "#   print(\"Event {}\\n Left {}\\nRight {}\\n\\n\".format(i, left[pairs_indices[i]:pairs_indices[i+1]], right[pairs_indices[i]:pairs_indices[i+1]]))"
   ]
  },
  {
   "cell_type": "code",
   "execution_count": 11,
   "metadata": {},
   "outputs": [],
   "source": [
    "@numba.jit()\n",
    "def product_cpu(starts1,starts2,counts,pairs_parents,pairs_indices,left, right):\n",
    "    pairs_contents = np.arange(pairs_indices[-1]).astype(np.int)\n",
    "    left[pairs_contents] = starts1[pairs_parents[pairs_contents]] + np.floor((pairs_contents-pairs_indices[pairs_parents[pairs_contents]])/counts2[pairs_parents[pairs_contents]]).astype(np.int)\n",
    "    right[pairs_contents] = starts2[pairs_parents[pairs_contents]]+(pairs_contents-pairs_indices[pairs_parents[pairs_contents]])-counts2[pairs_parents[pairs_contents]]*np.floor((pairs_contents-pairs_indices[pairs_parents[pairs_contents]])/counts2[pairs_parents[pairs_contents]])"
   ]
  },
  {
   "cell_type": "code",
   "execution_count": 12,
   "metadata": {},
   "outputs": [],
   "source": [
    "cleft = np.empty(pairs_indices[-1])\n",
    "cright = np.empty_like(cleft)"
   ]
  },
  {
   "cell_type": "code",
   "execution_count": 14,
   "metadata": {},
   "outputs": [
    {
     "name": "stdout",
     "output_type": "stream",
     "text": [
      "7.56 s ± 163 ms per loop (mean ± std. dev. of 7 runs, 1 loop each)\n"
     ]
    }
   ],
   "source": [
    "#CPU timing\n",
    "%%timeit\n",
    "product_cpu(starts1,starts2,counts2,pairs_parents,pairs_indices,cleft,cright)"
   ]
  },
  {
   "cell_type": "code",
   "execution_count": null,
   "metadata": {},
   "outputs": [],
   "source": []
  }
 ],
 "metadata": {
  "kernelspec": {
   "display_name": "Python 3",
   "language": "python",
   "name": "python3"
  },
  "language_info": {
   "codemirror_mode": {
    "name": "ipython",
    "version": 3
   },
   "file_extension": ".py",
   "mimetype": "text/x-python",
   "name": "python",
   "nbconvert_exporter": "python",
   "pygments_lexer": "ipython3",
   "version": "3.6.5"
  }
 },
 "nbformat": 4,
 "nbformat_minor": 2
}
