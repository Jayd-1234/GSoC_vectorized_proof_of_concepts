{
 "cells": [
  {
   "cell_type": "code",
   "execution_count": 9,
   "metadata": {},
   "outputs": [],
   "source": [
    "import numpy as np\n",
    "import pycuda.autoinit\n",
    "import pycuda.gpuarray as gpuarray\n",
    "from pycuda.compiler import SourceModule\n",
    "import pycuda.driver as cuda\n",
    "import numba"
   ]
  },
  {
   "cell_type": "code",
   "execution_count": 10,
   "metadata": {},
   "outputs": [],
   "source": [
    "def makecompatible_numpy(data, parents):\n",
    "    good = (parents >= 0)\n",
    "    content = np.empty(len(parents), dtype=data.dtype)\n",
    "    if (len(data.shape)==0):\n",
    "        content[good] = data\n",
    "    else:\n",
    "        content[good] = data[parents[good]]\n",
    "    \n",
    "    return content"
   ]
  },
  {
   "cell_type": "code",
   "execution_count": 11,
   "metadata": {},
   "outputs": [],
   "source": [
    "NUMEVENTS = 50000\n",
    "AVENUMJETS = 100\n",
    "\n",
    "numjets = np.random.poisson(AVENUMJETS, NUMEVENTS)\n",
    "stops = np.cumsum(numjets, dtype=np.int32)\n",
    "offsets = np.zeros(len(numjets)+1, dtype=np.int32)\n",
    "offsets[1:] = stops\n",
    "\n",
    "data1 = np.random.randn(offsets[-1]).astype(np.float32)\n",
    "data2 = np.random.randn()"
   ]
  },
  {
   "cell_type": "code",
   "execution_count": 12,
   "metadata": {},
   "outputs": [],
   "source": [
    "@numba.jit()\n",
    "def parents(offsets, numevents):\n",
    "    out = np.empty(offsets[-1], dtype=np.int32)\n",
    "    for i in range(numevents):\n",
    "        out[offsets[i]:offsets[i+1]] = i\n",
    "    \n",
    "    return out"
   ]
  },
  {
   "cell_type": "code",
   "execution_count": 13,
   "metadata": {},
   "outputs": [],
   "source": [
    "mod = SourceModule('''\n",
    "__global__ void makecompatible(float* data,int* parents,float* out,int* lenparents,int* lendata)\n",
    "{\n",
    "    unsigned int idx = threadIdx.x + blockIdx.x*blockDim.x;\n",
    "    \n",
    "    if (idx >= lenparents[0])\n",
    "        return;\n",
    "    \n",
    "    if (parents[idx] <0)\n",
    "        return;\n",
    "    \n",
    "    out[idx] = (lendata[0] == 1) ? data[0] : data[parents[idx]];\n",
    "}\n",
    "''')"
   ]
  },
  {
   "cell_type": "code",
   "execution_count": 14,
   "metadata": {},
   "outputs": [],
   "source": [
    "parents_arr = parents(offsets, NUMEVENTS)"
   ]
  },
  {
   "cell_type": "code",
   "execution_count": 15,
   "metadata": {},
   "outputs": [
    {
     "name": "stdout",
     "output_type": "stream",
     "text": [
      "53.1 ms ± 563 µs per loop (mean ± std. dev. of 7 runs, 10 loops each)\n"
     ]
    }
   ],
   "source": [
    "%%timeit\n",
    "numpy_res = makecompatible_numpy(data1, parents_arr)"
   ]
  },
  {
   "cell_type": "code",
   "execution_count": 16,
   "metadata": {},
   "outputs": [],
   "source": [
    "makecompatible_gpu = mod.get_function(\"makecompatible\")"
   ]
  },
  {
   "cell_type": "code",
   "execution_count": 17,
   "metadata": {},
   "outputs": [
    {
     "name": "stdout",
     "output_type": "stream",
     "text": [
      "Time taken: 3.1343679428100586ms\n"
     ]
    }
   ],
   "source": [
    "gpu_parents = gpuarray.to_gpu_async(parents_arr)\n",
    "gpu_data = gpuarray.to_gpu_async(data1)\n",
    "gpu_out = gpuarray.empty(len(parents_arr), dtype=np.float32)\n",
    "gpu_lendata = gpuarray.to_gpu(np.array([len(data1)], dtype=np.int32))\n",
    "gpu_lenparents = gpuarray.to_gpu(np.array([len(parents_arr)], dtype=np.int32))\n",
    "\n",
    "nthreads = 512\n",
    "nblocks = int(np.ceil(len(parents_arr)/512))\n",
    "\n",
    "start_time = cuda.Event()\n",
    "stop_time = cuda.Event()\n",
    "\n",
    "start_time.record()\n",
    "makecompatible_gpu(gpu_data,gpu_parents,gpu_out,gpu_lenparents,gpu_lendata,block=(nthreads,1,1),grid=(nblocks,1))\n",
    "stop_time.record()\n",
    "stop_time.synchronize()\n",
    "\n",
    "print(\"Time taken: {}ms\".format(start_time.time_till(stop_time)))"
   ]
  },
  {
   "cell_type": "code",
   "execution_count": null,
   "metadata": {},
   "outputs": [],
   "source": []
  },
  {
   "cell_type": "code",
   "execution_count": null,
   "metadata": {},
   "outputs": [],
   "source": []
  }
 ],
 "metadata": {
  "kernelspec": {
   "display_name": "Python 3",
   "language": "python",
   "name": "python3"
  },
  "language_info": {
   "codemirror_mode": {
    "name": "ipython",
    "version": 3
   },
   "file_extension": ".py",
   "mimetype": "text/x-python",
   "name": "python",
   "nbconvert_exporter": "python",
   "pygments_lexer": "ipython3",
   "version": "3.6.5"
  }
 },
 "nbformat": 4,
 "nbformat_minor": 2
}
