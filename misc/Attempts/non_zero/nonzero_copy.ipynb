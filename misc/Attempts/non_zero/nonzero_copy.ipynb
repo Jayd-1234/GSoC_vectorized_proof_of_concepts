{
 "cells": [
  {
   "cell_type": "code",
   "execution_count": 1,
   "metadata": {},
   "outputs": [],
   "source": [
    "import numpy as np\n",
    "import pycuda.autoinit\n",
    "import pycuda.driver as cuda\n",
    "from pycuda.compiler import *\n",
    "import pycuda.gpuarray as gpuarray"
   ]
  },
  {
   "cell_type": "code",
   "execution_count": 2,
   "metadata": {},
   "outputs": [],
   "source": [
    "NUMEVENTS = 500\n",
    "AVENUMJETS = 100\n",
    "\n",
    "numjets = np.random.poisson(AVENUMJETS,NUMEVENTS)\n",
    "stops = np.cumsum(numjets, dtype=np.int)\n",
    "starts = np.zeros_like(stops)\n",
    "starts[1:] = stops[:-1]\n",
    "offsets = np.zeros(len(numjets)+1, dtype=np.int)\n",
    "offsets[1:] = stops\n",
    "data = np.random.rand(stops[-1])"
   ]
  },
  {
   "cell_type": "code",
   "execution_count": 3,
   "metadata": {},
   "outputs": [],
   "source": [
    "mod = SourceModule('''\n",
    "\n",
    "// Part that needs to be changed. Add non-zero predicate function\n",
    "__device__ int predicate(float x)\n",
    "{\n",
    "    return (x !=0)?1:0;\n",
    "}\n",
    "\n",
    "// Counts per block\n",
    "__global__ void blockCounts(float *data, int* blockcounts,int* length)\n",
    "{\n",
    "    unsigned int tid = threadIdx.x + blockIdx.x*blockDim.x;\n",
    "    \n",
    "    if (tid >= length[0])\n",
    "        return;\n",
    "    \n",
    "    int validity = predicate(data[tid]);\n",
    "    int blockcount = __syncthreads_count(validity);\n",
    "    if ( threadIdx.x == 0)\n",
    "        blockcounts[blockIdx.x] = blockcount;\n",
    "}\n",
    "\n",
    "// CompactK procedure. \n",
    "__global__ void compact(float* data,int* output,int* blockoffsets,int* length)\n",
    "{\n",
    "    unsigned int tid = threadIdx.x + blockIdx.x*blockDim.x;\n",
    "    __shared__ int warpres[32];\n",
    "    int warpSize = 32;\n",
    "    if ( tid < length[0])\n",
    "    {\n",
    "        int pred = predicate(data[tid]);\n",
    "\t\tint w_i = threadIdx.x/warpSize; \n",
    "\t\tint w_l = tid % warpSize;\n",
    "\t\tint t_m = INT_MAX >> (warpSize-w_l-1); \n",
    "\n",
    "\t\tint b\t= __ballot(pred) & t_m; \n",
    "\t\tint t_u\t= __popc(b);\n",
    "        \n",
    "        if(w_l==warpSize-1){\n",
    "\t\t\twarpres[w_i]=t_u+pred;\n",
    "\t\t}\n",
    "        \n",
    "        __syncthreads();\n",
    "\n",
    "\n",
    "\t\tif(w_i==0 && w_l<blockDim.x/warpSize){\n",
    "\t\t\tint w_i_u=0;\n",
    "\t\t\tfor(int j=0;j<=5;j++){\n",
    "\t\t\t\tint b_j =__ballot( warpres[w_l] & (1<<j) );\n",
    "\t\t\t\tw_i_u += (__popc(b_j & t_m)  ) << j;\n",
    "\t\t\t\t\n",
    "\t\t\t}\n",
    "\t\t\twarpres[w_l]=w_i_u;\n",
    "\t\t}\n",
    "\n",
    "\t\t__syncthreads();\n",
    "\n",
    "\n",
    "\t\tif(pred){\n",
    "\t\t\toutput[t_u+warpres[w_i]+blockoffsets[blockIdx.x]]= tid;\n",
    "\n",
    "\t\t}\n",
    "\n",
    "    }\n",
    "}\n",
    "''')"
   ]
  },
  {
   "cell_type": "code",
   "execution_count": 4,
   "metadata": {},
   "outputs": [],
   "source": [
    "func_blockcounts = mod.get_function('blockCounts')\n",
    "func_compact = mod.get_function('compact')"
   ]
  },
  {
   "cell_type": "code",
   "execution_count": 5,
   "metadata": {},
   "outputs": [],
   "source": [
    "from pycuda.scan import *"
   ]
  },
  {
   "cell_type": "code",
   "execution_count": 6,
   "metadata": {},
   "outputs": [],
   "source": [
    "scan_kern = ExclusiveScanKernel(np.int, 'a+b', neutral=0)"
   ]
  },
  {
   "cell_type": "code",
   "execution_count": 7,
   "metadata": {},
   "outputs": [],
   "source": [
    "gpu_data = gpuarray.to_gpu(data)\n",
    "gpu_len = gpuarray.to_gpu(np.array([stops[-1]]).astype(np.int))\n",
    "numthreads = 512\n",
    "numblocks = int(np.ceil(stops[-1]/numthreads))\n",
    "gpu_blockcounts = gpuarray.empty(numblocks, dtype=np.int)\n",
    "gpu_output = gpuarray.empty(stops[-1], dtype=np.int)\n",
    "gpu_blockoffsets = gpuarray.zeros(numblocks, dtype=np.int)"
   ]
  },
  {
   "cell_type": "code",
   "execution_count": 8,
   "metadata": {},
   "outputs": [],
   "source": [
    "func_blockcounts(gpu_data,gpu_blockcounts,gpu_len, block=(numthreads,1,1), grid = (numblocks,1))"
   ]
  },
  {
   "cell_type": "code",
   "execution_count": 9,
   "metadata": {},
   "outputs": [
    {
     "data": {
      "text/plain": [
       "array([    0,   512,  1024,  1536,  2048,  2560,  3072,  3584,  4096,\n",
       "        4608,  5120,  5632,  6144,  6656,  7168,  7680,  8192,  8704,\n",
       "        9216,  9728, 10240, 10752, 11264, 11776, 12288, 12800, 13312,\n",
       "       13824, 14336, 14848, 15360, 15872, 16384, 16896, 17408, 17920,\n",
       "       18432, 18944, 19456, 19968, 20480, 20992, 21504, 22016, 22528,\n",
       "       23040, 23552, 24064, 24576, 25088, 25600, 26112, 26624, 27136,\n",
       "       27648, 28160, 28672, 29184, 29696, 30208, 30720, 31232, 31744,\n",
       "       32256, 32768, 33280, 33792, 34304, 34816, 35328, 35840, 36352,\n",
       "       36864, 37376, 37888, 38400, 38912, 39424, 39936, 40448, 40960,\n",
       "       41472, 41984, 42496, 43008, 43520, 44032, 44544, 45056, 45568,\n",
       "       46080, 46592, 47104, 47616, 48128, 48640, 49152, 49664])"
      ]
     },
     "execution_count": 9,
     "metadata": {},
     "output_type": "execute_result"
    }
   ],
   "source": [
    "scan_kern(gpu_blockcounts,gpu_blockoffsets)"
   ]
  },
  {
   "cell_type": "code",
   "execution_count": 10,
   "metadata": {},
   "outputs": [],
   "source": [
    "func_compact(gpu_data,gpu_output,gpu_blockoffsets,gpu_len, block=(numthreads,1,1), grid=(numblocks,1))"
   ]
  },
  {
   "cell_type": "code",
   "execution_count": 11,
   "metadata": {},
   "outputs": [
    {
     "data": {
      "text/plain": [
       "(49824,)"
      ]
     },
     "execution_count": 11,
     "metadata": {},
     "output_type": "execute_result"
    }
   ],
   "source": [
    "np_data = np.nonzero(data)\n",
    "np_data[0].shape"
   ]
  },
  {
   "cell_type": "code",
   "execution_count": 12,
   "metadata": {},
   "outputs": [
    {
     "data": {
      "text/plain": [
       "True"
      ]
     },
     "execution_count": 12,
     "metadata": {},
     "output_type": "execute_result"
    }
   ],
   "source": [
    "# Check\n",
    "(gpu_output.get()==np_data[0]).all()"
   ]
  },
  {
   "cell_type": "code",
   "execution_count": null,
   "metadata": {},
   "outputs": [],
   "source": []
  }
 ],
 "metadata": {
  "kernelspec": {
   "display_name": "Python 3",
   "language": "python",
   "name": "python3"
  },
  "language_info": {
   "codemirror_mode": {
    "name": "ipython",
    "version": 3
   },
   "file_extension": ".py",
   "mimetype": "text/x-python",
   "name": "python",
   "nbconvert_exporter": "python",
   "pygments_lexer": "ipython3",
   "version": "3.6.5"
  }
 },
 "nbformat": 4,
 "nbformat_minor": 2
}
