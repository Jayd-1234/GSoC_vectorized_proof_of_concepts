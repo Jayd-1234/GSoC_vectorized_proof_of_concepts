{
 "cells": [
  {
   "cell_type": "code",
   "execution_count": 27,
   "metadata": {},
   "outputs": [],
   "source": [
    "import numpy as np\n",
    "import pycuda.autoinit\n",
    "import pycuda.gpuarray as gpuarray\n",
    "from pycuda.compiler import *\n",
    "import pycuda.driver as cuda"
   ]
  },
  {
   "cell_type": "code",
   "execution_count": 28,
   "metadata": {},
   "outputs": [],
   "source": [
    "NUMEVENTS = 5000\n",
    "AVENUMJETS = 100\n",
    "\n",
    "numjets = np.random.poisson(AVENUMJETS, NUMEVENTS)\n",
    "stops = np.cumsum(numjets, dtype=np.int)\n",
    "starts = np.zeros_like(stops)\n",
    "starts[1:] = stops[:-1]\n",
    "offsets = np.zeros(len(stops)+1, dtype=np.int)\n",
    "offsets[1:] = stops"
   ]
  },
  {
   "cell_type": "code",
   "execution_count": 29,
   "metadata": {},
   "outputs": [],
   "source": [
    "data = np.random.randint(low=0, high=10, size=stops[-1]).astype(np.int)"
   ]
  },
  {
   "cell_type": "code",
   "execution_count": 30,
   "metadata": {},
   "outputs": [],
   "source": [
    "parents = np.empty(stops[-1], dtype=np.int)\n",
    "for i in range(len(offsets)-1):\n",
    "    parents[offsets[i]:offsets[i+1]] = i"
   ]
  },
  {
   "cell_type": "code",
   "execution_count": 31,
   "metadata": {},
   "outputs": [],
   "source": [
    "mod = SourceModule('''\n",
    "\n",
    "/* Not what we are using. Kept for referance to first working implementation.\n",
    "\n",
    "__global__ void heele_max(int* arr,int* offsets,int* parents, int* num_particles)\n",
    "{\n",
    "    unsigned int tid = threadIdx.x + blockIdx.x*blockDim.x;\n",
    "    if (tid > num_particles[0])\n",
    "        return;\n",
    "    \n",
    "    for (int d=0; d<log2(double(num_particles[0])); d++)\n",
    "    {\n",
    "        if (tid >=pow(2.0,double(d)) && parents[tid]==parents[tid-int(pow(2.0, double(d)))])\n",
    "        {\n",
    "            arr[tid] = max(arr[tid], arr[tid-int(pow(2.0, double(d)))]);\n",
    "        }\n",
    "        __syncthreads();\n",
    "    }\n",
    "}\n",
    "\n",
    "*/\n",
    "\n",
    "__global__ void heele_max2(int* arr,int* offsets,int* parents, int* num_particles)\n",
    "{\n",
    "    unsigned int tid = threadIdx.x + blockIdx.x*blockDim.x;\n",
    "    if (tid > num_particles[0])\n",
    "        return;\n",
    "    \n",
    "    for (int d=1; d<num_particles[0]; d*=2)\n",
    "    {\n",
    "        if (tid >=d && parents[tid]==parents[tid-d])\n",
    "        {\n",
    "            arr[tid] = max(arr[tid], arr[tid-d]);\n",
    "        }\n",
    "        __syncthreads();\n",
    "    }\n",
    "}\n",
    "\n",
    "''')"
   ]
  },
  {
   "cell_type": "code",
   "execution_count": 32,
   "metadata": {},
   "outputs": [],
   "source": [
    "# func1 = mod.get_function('heele_max')\n",
    "func2 = mod.get_function('heele_max2')"
   ]
  },
  {
   "cell_type": "code",
   "execution_count": 33,
   "metadata": {},
   "outputs": [],
   "source": [
    "len_arr = gpuarray.to_gpu(np.array([len(data)]).astype(np.int))\n",
    "gpu_data = gpuarray.to_gpu(data)\n",
    "gpu_parents = gpuarray.to_gpu(parents)\n",
    "gpu_offsets = gpuarray.to_gpu(offsets)\n",
    "numthreads = 512\n",
    "numblocks = int(np.ceil(stops[-1]/numthreads))"
   ]
  },
  {
   "cell_type": "code",
   "execution_count": 34,
   "metadata": {},
   "outputs": [
    {
     "name": "stdout",
     "output_type": "stream",
     "text": [
      "1.7 ms ± 675 ns per loop (mean ± std. dev. of 7 runs, 10000 loops each)\n"
     ]
    }
   ],
   "source": [
    "%%timeit\n",
    "func2(gpu_data, gpu_offsets, gpu_parents, len_arr, block=(numthreads,1,1), grid=(numblocks,1))"
   ]
  },
  {
   "cell_type": "code",
   "execution_count": 35,
   "metadata": {},
   "outputs": [],
   "source": [
    "host_data = gpu_data.get()"
   ]
  },
  {
   "cell_type": "code",
   "execution_count": 36,
   "metadata": {},
   "outputs": [],
   "source": [
    "max_arr = np.empty_like(stops)\n",
    "max_arr = host_data[stops-1]\n",
    "#max_arr"
   ]
  },
  {
   "cell_type": "code",
   "execution_count": 37,
   "metadata": {},
   "outputs": [],
   "source": [
    "reduce_at_offsets = np.zeros_like(offsets)\n",
    "reduce_at_offsets[1:] = stops\n",
    "reduce_at_offsets[-1] = reduce_at_offsets[-1]-1\n",
    "np_max = np.maximum.reduceat(data, reduce_at_offsets)"
   ]
  },
  {
   "cell_type": "code",
   "execution_count": 38,
   "metadata": {},
   "outputs": [
    {
     "name": "stdout",
     "output_type": "stream",
     "text": [
      "397 µs ± 4.89 µs per loop (mean ± std. dev. of 7 runs, 1000 loops each)\n"
     ]
    }
   ],
   "source": [
    "%%timeit\n",
    "np_max = np.maximum.reduceat(data, reduce_at_offsets)"
   ]
  },
  {
   "cell_type": "code",
   "execution_count": 39,
   "metadata": {},
   "outputs": [
    {
     "data": {
      "text/plain": [
       "(array([], dtype=int64),)"
      ]
     },
     "execution_count": 39,
     "metadata": {},
     "output_type": "execute_result"
    }
   ],
   "source": [
    "# check. Empty array indicates success!\n",
    "np.nonzero(np_max[:-1]-max_arr)"
   ]
  },
  {
   "cell_type": "code",
   "execution_count": null,
   "metadata": {},
   "outputs": [],
   "source": []
  }
 ],
 "metadata": {
  "kernelspec": {
   "display_name": "Python 3",
   "language": "python",
   "name": "python3"
  },
  "language_info": {
   "codemirror_mode": {
    "name": "ipython",
    "version": 3
   },
   "file_extension": ".py",
   "mimetype": "text/x-python",
   "name": "python",
   "nbconvert_exporter": "python",
   "pygments_lexer": "ipython3",
   "version": "3.6.5"
  }
 },
 "nbformat": 4,
 "nbformat_minor": 2
}
