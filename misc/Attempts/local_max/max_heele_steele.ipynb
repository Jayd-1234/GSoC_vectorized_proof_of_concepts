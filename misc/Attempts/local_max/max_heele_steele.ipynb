{
 "cells": [
  {
   "cell_type": "code",
   "execution_count": 1,
   "metadata": {},
   "outputs": [],
   "source": [
    "import numpy as np\n",
    "import pycuda.autoinit\n",
    "import pycuda.gpuarray as gpuarray\n",
    "from pycuda.compiler import *\n",
    "import pycuda.driver as cuda"
   ]
  },
  {
   "cell_type": "code",
   "execution_count": 2,
   "metadata": {},
   "outputs": [],
   "source": [
    "NUMEVENTS = 500\n",
    "AVENUMJETS = 100\n",
    "\n",
    "numjets = np.random.poisson(AVENUMJETS, NUMEVENTS)\n",
    "stops = np.cumsum(numjets, dtype=np.int)\n",
    "starts = np.zeros_like(stops)\n",
    "starts[1:] = stops[:-1]\n",
    "offsets = np.zeros(len(stops)+1, dtype=np.int)\n",
    "offsets[1:] = stops"
   ]
  },
  {
   "cell_type": "code",
   "execution_count": 3,
   "metadata": {},
   "outputs": [],
   "source": [
    "data = np.random.randint(low=0, high=10, size=stops[-1]).astype(np.int)"
   ]
  },
  {
   "cell_type": "code",
   "execution_count": 4,
   "metadata": {},
   "outputs": [],
   "source": [
    "parents = np.empty(stops[-1], dtype=np.int)\n",
    "for i in range(len(offsets)-1):\n",
    "    parents[offsets[i]:offsets[i+1]] = i"
   ]
  },
  {
   "cell_type": "code",
   "execution_count": 5,
   "metadata": {},
   "outputs": [
    {
     "name": "stderr",
     "output_type": "stream",
     "text": [
      "C:\\Users\\Jaydeep\\Anaconda3\\lib\\site-packages\\ipykernel_launcher.py:43: UserWarning: The CUDA compiler succeeded, but said the following:\n",
      "kernel.cu\r\n",
      "\n"
     ]
    }
   ],
   "source": [
    "mod = SourceModule('''\n",
    "\n",
    "__global__ void heele_max(int* arr,int* offsets,int* parents, int* num_particles)\n",
    "{\n",
    "    unsigned int tid = threadIdx.x + blockIdx.x*blockDim.x;\n",
    "    if (tid > num_particles[0])\n",
    "        return;\n",
    "    \n",
    "    for (int d=0; d<log2(double(num_particles[0])); d++)\n",
    "    {\n",
    "        if (tid >=pow(2.0,double(d)) && parents[tid]==parents[tid-int(pow(2.0, double(d)))])\n",
    "        {\n",
    "            arr[tid] = max(arr[tid], arr[tid-int(pow(2.0, double(d)))]);\n",
    "        }\n",
    "        __syncthreads();\n",
    "    }\n",
    "}\n",
    "\n",
    "__global__ void heele_max2(int* arr,int* offsets,int* parents, int* num_particles)\n",
    "{\n",
    "    unsigned int tid = threadIdx.x + blockIdx.x*blockDim.x;\n",
    "    if (tid > num_particles[0])\n",
    "        return;\n",
    "    \n",
    "    for (int d=1; d<num_particles[0]; d*=2)\n",
    "    {\n",
    "        //int index = 2*d*tid;\n",
    "        /*\n",
    "        if (index<num_particles[0] && parents[index]==parents[index+d])\n",
    "        {\n",
    "            arr[index] = max(arr[index], arr[index+d]);\n",
    "        }\n",
    "        __syncthreads();\n",
    "        */\n",
    "        if (tid >=d && parents[tid]==parents[tid-d])\n",
    "        {\n",
    "            arr[tid] = max(arr[tid], arr[tid-d]);\n",
    "        }\n",
    "        __syncthreads();\n",
    "    }\n",
    "}\n",
    "\n",
    "''')"
   ]
  },
  {
   "cell_type": "code",
   "execution_count": 6,
   "metadata": {},
   "outputs": [],
   "source": [
    "func1 = mod.get_function('heele_max')\n",
    "func2 = mod.get_function('heele_max2')"
   ]
  },
  {
   "cell_type": "code",
   "execution_count": 7,
   "metadata": {},
   "outputs": [],
   "source": [
    "\n",
    "#len_arr = gpuarray.to_gpu(np.array([len(data)]).astype(np.int))\n",
    "#gpu_data = gpuarray.to_gpu(data)\n",
    "#gpu_parents = gpuarray.to_gpu(parents)\n",
    "#gpu_offsets = gpuarray.to_gpu(offsets)\n",
    "#numthreads = 512\n",
    "#numblocks = int(np.ceil(stops[-1]/numthreads))\n"
   ]
  },
  {
   "cell_type": "code",
   "execution_count": 8,
   "metadata": {},
   "outputs": [],
   "source": [
    "#%%timeit\n",
    "#func1(gpu_data, gpu_offsets, gpu_parents, len_arr, block=(numthreads,1,1), grid=(numblocks,1))"
   ]
  },
  {
   "cell_type": "code",
   "execution_count": 9,
   "metadata": {},
   "outputs": [],
   "source": [
    "len_arr = gpuarray.to_gpu(np.array([len(data)]).astype(np.int))\n",
    "gpu_data = gpuarray.to_gpu(data)\n",
    "gpu_parents = gpuarray.to_gpu(parents)\n",
    "gpu_offsets = gpuarray.to_gpu(offsets)\n",
    "numthreads = 512\n",
    "numblocks = int(np.ceil(stops[-1]/numthreads))"
   ]
  },
  {
   "cell_type": "code",
   "execution_count": 10,
   "metadata": {},
   "outputs": [
    {
     "name": "stdout",
     "output_type": "stream",
     "text": [
      "114 µs ± 449 ns per loop (mean ± std. dev. of 7 runs, 10000 loops each)\n"
     ]
    }
   ],
   "source": [
    "%%timeit\n",
    "func2(gpu_data, gpu_offsets, gpu_parents, len_arr, block=(numthreads,1,1), grid=(numblocks,1))"
   ]
  },
  {
   "cell_type": "code",
   "execution_count": 11,
   "metadata": {},
   "outputs": [],
   "source": [
    "host_data = gpu_data.get()"
   ]
  },
  {
   "cell_type": "code",
   "execution_count": 12,
   "metadata": {},
   "outputs": [
    {
     "data": {
      "text/plain": [
       "array([9, 9, 9, 9, 9, 9, 9, 9, 9, 9, 9, 9, 9, 9, 9, 9, 9, 9, 9, 9, 9, 9, 9,\n",
       "       9, 9, 9, 9, 9, 9, 9, 9, 9, 9, 9, 9, 9, 9, 9, 9, 9, 9, 9, 9, 9, 9, 9,\n",
       "       9, 9, 9, 9, 9, 9, 9, 9, 9, 9, 9, 9, 9, 9, 9, 9, 9, 9, 9, 9, 9, 9, 9,\n",
       "       9, 9, 9, 9, 9, 9, 9, 9, 9, 9, 9, 9, 9, 9, 9, 9, 9, 9, 9, 9, 9, 9, 9,\n",
       "       9, 9, 9, 9, 9, 9, 9, 9, 9, 9, 9, 9, 9, 9, 9, 9, 9, 9, 9, 9, 9, 9, 9,\n",
       "       9, 9, 9, 9, 9, 9, 9, 9, 9, 9, 9, 9, 9, 9, 9, 9, 9, 9, 9, 9, 9, 9, 9,\n",
       "       9, 9, 9, 9, 9, 9, 9, 9, 9, 9, 9, 9, 9, 9, 9, 9, 9, 9, 9, 9, 9, 9, 9,\n",
       "       9, 9, 9, 9, 9, 9, 9, 9, 9, 9, 9, 9, 9, 9, 9, 9, 9, 9, 9, 9, 9, 9, 9,\n",
       "       9, 9, 9, 9, 9, 9, 9, 9, 9, 9, 9, 9, 9, 9, 9, 9, 9, 9, 9, 9, 9, 9, 9,\n",
       "       9, 9, 9, 9, 9, 9, 9, 9, 9, 9, 9, 9, 9, 9, 9, 9, 9, 9, 9, 9, 9, 9, 9,\n",
       "       9, 9, 9, 9, 9, 9, 9, 9, 9, 9, 9, 9, 9, 9, 9, 9, 9, 9, 9, 9, 9, 9, 9,\n",
       "       9, 9, 9, 9, 9, 9, 9, 9, 9, 9, 9, 9, 9, 9, 9, 9, 9, 9, 9, 9, 9, 9, 9,\n",
       "       9, 9, 9, 9, 9, 9, 9, 9, 9, 9, 9, 9, 9, 9, 9, 9, 9, 9, 9, 9, 9, 9, 9,\n",
       "       9, 9, 9, 9, 9, 9, 9, 9, 9, 9, 9, 9, 9, 9, 9, 9, 9, 9, 9, 9, 9, 9, 9,\n",
       "       9, 9, 9, 9, 9, 9, 9, 9, 9, 9, 9, 9, 9, 9, 9, 9, 9, 9, 9, 9, 9, 9, 9,\n",
       "       9, 9, 9, 9, 9, 9, 9, 9, 9, 9, 9, 9, 9, 9, 9, 9, 9, 9, 9, 9, 9, 9, 9,\n",
       "       9, 9, 9, 9, 9, 9, 9, 9, 9, 9, 9, 9, 9, 9, 9, 9, 9, 9, 9, 9, 9, 9, 9,\n",
       "       9, 9, 9, 9, 9, 9, 9, 9, 9, 9, 9, 9, 9, 9, 9, 9, 9, 9, 9, 9, 9, 9, 9,\n",
       "       9, 9, 9, 9, 9, 9, 9, 9, 9, 9, 9, 9, 9, 9, 9, 9, 9, 9, 9, 9, 9, 9, 9,\n",
       "       9, 9, 9, 9, 9, 9, 9, 9, 9, 9, 9, 9, 9, 9, 9, 9, 9, 9, 9, 9, 9, 9, 9,\n",
       "       9, 9, 9, 9, 9, 9, 9, 9, 9, 9, 9, 9, 9, 9, 9, 9, 9, 9, 9, 9, 9, 9, 9,\n",
       "       9, 9, 9, 9, 9, 9, 9, 9, 9, 9, 9, 9, 9, 9, 9, 9, 9])"
      ]
     },
     "execution_count": 12,
     "metadata": {},
     "output_type": "execute_result"
    }
   ],
   "source": [
    "max_arr = np.empty_like(stops)\n",
    "max_arr = host_data[stops-1]\n",
    "#max_arr"
   ]
  },
  {
   "cell_type": "code",
   "execution_count": 13,
   "metadata": {},
   "outputs": [],
   "source": [
    "reduce_at_offsets = np.zeros_like(offsets)\n",
    "reduce_at_offsets[1:] = stops\n",
    "reduce_at_offsets[-1] = reduce_at_offsets[-1]-1\n",
    "np_max = np.maximum.reduceat(data, reduce_at_offsets)"
   ]
  },
  {
   "cell_type": "code",
   "execution_count": 14,
   "metadata": {},
   "outputs": [
    {
     "data": {
      "text/plain": [
       "(array([], dtype=int64),)"
      ]
     },
     "execution_count": 14,
     "metadata": {},
     "output_type": "execute_result"
    }
   ],
   "source": [
    "# check. Empty array indicates success!\n",
    "#np.nonzero(np_max[:-1]-max_arr)"
   ]
  },
  {
   "cell_type": "code",
   "execution_count": null,
   "metadata": {},
   "outputs": [],
   "source": []
  }
 ],
 "metadata": {
  "kernelspec": {
   "display_name": "Python 3",
   "language": "python",
   "name": "python3"
  },
  "language_info": {
   "codemirror_mode": {
    "name": "ipython",
    "version": 3
   },
   "file_extension": ".py",
   "mimetype": "text/x-python",
   "name": "python",
   "nbconvert_exporter": "python",
   "pygments_lexer": "ipython3",
   "version": "3.6.5"
  }
 },
 "nbformat": 4,
 "nbformat_minor": 2
}
