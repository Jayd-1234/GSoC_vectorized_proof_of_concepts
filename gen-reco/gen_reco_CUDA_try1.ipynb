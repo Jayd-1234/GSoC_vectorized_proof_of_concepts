{
 "cells": [
  {
   "cell_type": "markdown",
   "metadata": {},
   "source": [
    "# CUDA version of gen-reco matching\n",
    "\n",
    "This is an unoptimized CUDA version of gen-reco matching. This is based on the sequential code developed earlier. \n",
    "\n",
    "#### Performance Issues I can think of in the CUDA code:\n",
    "1. Warp size not considered. So possible divergence\n",
    "2. Each track ( as David said in the problem statement) is assigned a separate dimension. So, if they are large in number, we will run out of threads.\n",
    "3. It contains a loop to find the minimum index. Don't know if there is a reduction algorithm to find index of minimum ( and not minimum itself)."
   ]
  },
  {
   "cell_type": "code",
   "execution_count": 57,
   "metadata": {},
   "outputs": [],
   "source": [
    "import numpy\n",
    "import pycuda.driver as cuda\n",
    "from pycuda.compiler import *\n",
    "import pycuda.autoinit"
   ]
  },
  {
   "cell_type": "code",
   "execution_count": 58,
   "metadata": {},
   "outputs": [],
   "source": [
    "NUMEVENTS = 100      # exact number of events\n",
    "AVENUMJETS = 10      # average number of jets per event\n",
    "PHILOW = -numpy.pi   # bounding box of phi (azimuthal angle) and eta (~polar angle)\n",
    "PHIHIGH = numpy.pi\n",
    "ETALOW = -5\n",
    "ETAHIGH = 5\n",
    "ERRPHI = 0.01        # detector resolution\n",
    "ERRETA = 0.01\n",
    "RECOPROB = 0.95      # probability of not reconstructing a real jet\n",
    "AVENUMFAKES = 1      # average number of spurious (fake) recontstructions\n",
    "\n",
    "# simulate the generator-level jets\n",
    "numgenjets = numpy.random.poisson(AVENUMJETS, NUMEVENTS)\n",
    "genstops = numpy.cumsum(numgenjets).astype(numpy.int32)\n",
    "genstarts = numpy.empty_like(genstops).astype(numpy.int32)\n",
    "genstarts[0] = 0\n",
    "genstarts[1:] = genstops[:-1]\n",
    "genphi = numpy.random.uniform(PHILOW, PHIHIGH, genstops[-1]).astype(numpy.float32)\n",
    "geneta = numpy.random.uniform(ETALOW, ETAHIGH, genstops[-1]).astype(numpy.float32)\n",
    "\n",
    "# simulate mismeasurement (error in reconstructing phi and eta)\n",
    "phiwitherr = genphi + numpy.random.normal(0, ERRPHI, genstops[-1]).astype(numpy.float32)\n",
    "etawitherr = geneta + numpy.random.normal(0, ERRETA, genstops[-1]).astype(numpy.float32)\n",
    "\n",
    "# simulate inefficiency in reconstruction (missing real jets)\n",
    "recomask = (numpy.random.uniform(0, 1, genstops[-1]) < RECOPROB)\n",
    "\n",
    "# simulate spurious (fake) jets per event\n",
    "numfakes = numpy.random.poisson(AVENUMFAKES, NUMEVENTS)\n",
    "fakestops = numpy.cumsum(numfakes).astype(numpy.int32)\n",
    "fakestarts = numpy.empty_like(fakestops).astype(numpy.int32)\n",
    "fakestarts[0] = 0\n",
    "fakestarts[1:] = fakestops[:-1]\n",
    "fakephi = numpy.random.uniform(PHILOW, PHIHIGH, fakestops[-1]).astype(numpy.float32)\n",
    "fakeeta = numpy.random.uniform(ETALOW, ETAHIGH, fakestops[-1]).astype(numpy.float32)\n",
    "\n",
    "# fill reconstructed data arrays\n",
    "recostarts = numpy.empty_like(genstarts)\n",
    "recostops = numpy.empty_like(genstops)\n",
    "recophi = numpy.empty(recomask.sum() + numfakes.sum(), dtype=genphi.dtype)\n",
    "recoeta = numpy.empty_like(recophi)\n",
    "\n",
    "truematches = []\n",
    "recostart, recostop = 0, 0"
   ]
  },
  {
   "cell_type": "code",
   "execution_count": 59,
   "metadata": {},
   "outputs": [],
   "source": [
    "for i in range(NUMEVENTS):\n",
    "    genstart, genstop = genstarts[i], genstops[i]\n",
    "    fakestart, fakestop = fakestarts[i], fakestops[i]\n",
    "    mask = recomask[genstart:genstop]\n",
    "\n",
    "    phi = phiwitherr[genstart:genstop][mask]    # generated phi with error and mask\n",
    "    eta = etawitherr[genstart:genstop][mask]    # generated eta with error and mask\n",
    "\n",
    "    # concatenate the subset of real jets with some fake jets\n",
    "    holdphi = numpy.concatenate((phi, fakephi[fakestart:fakestop]))\n",
    "    holdeta = numpy.concatenate((eta, fakeeta[fakestart:fakestop]))\n",
    "    recostop += len(holdphi)\n",
    "\n",
    "    # gen-level and reco-level data are both unordered sets; randomly permute\n",
    "    order = numpy.random.permutation(recostop - recostart)\n",
    "    recophi[recostart:recostop][order] = holdphi\n",
    "    recoeta[recostart:recostop][order] = holdeta\n",
    "\n",
    "    # keep that permutation to use as a \"true match\" map (not known to physicist!)\n",
    "    '''\n",
    "    truematch = numpy.ones(genstop - genstart, dtype=numgenjets.dtype) * -1\n",
    "    truematch[mask] = order[:mask.sum()]\n",
    "    truematches.append(truematch)\n",
    "    '''\n",
    "    recostarts[i] = recostart\n",
    "    recostops[i] = recostop\n",
    "    recostart = recostop"
   ]
  },
  {
   "cell_type": "code",
   "execution_count": 60,
   "metadata": {},
   "outputs": [],
   "source": [
    "gen_len = (genstops - genstarts).astype(numpy.int32)\n",
    "reco_len = (recostops - recostarts).astype(numpy.int32)\n",
    "\n",
    "pairs_len = numpy.zeros(NUMEVENTS+1, dtype = numpy.int32)\n",
    "pairs_len[1:] = numpy.cumsum(gen_len*reco_len).astype(numpy.int32)"
   ]
  },
  {
   "cell_type": "code",
   "execution_count": 61,
   "metadata": {},
   "outputs": [],
   "source": [
    "# CUDA source for deltaR\n",
    "\n",
    "mod = SourceModule('''\n",
    "#include <cmath>        // Not needed, but added to check external includes in PyCUDA \n",
    "extern \"C\"{\n",
    "\n",
    "__device__ float deltaeta(float eta1,float eta2)\n",
    "{\n",
    "    return eta1-eta2;       // It is simple subtraction.\n",
    "}\n",
    "\n",
    "__device__ float deltaphi(float phi1, float phi2)\n",
    "{\n",
    "    return phi1-phi2;      // Here, we need to consider the case that phi1-phi2 is constrained \n",
    "                           // between [-pi, pi].\n",
    "}\n",
    "\n",
    "__global__ void deltaR(float* deltar,float* eta1, float* eta2, float* phi1, float* phi2,int* length, int* start1, int* start2, int* pairs_len,int* lengths1, int* lengths2)\n",
    "{\n",
    "    // 3 dimensional indices\n",
    "    // We will use hypotf() builtin CUDA function for the calculation of deltaR. \n",
    "    // The indices are generated in same way as combinations solved earlier. This indices are passeed onto\n",
    "    // eta and phi arrays.\n",
    "    \n",
    "    int i = blockIdx.x*blockDim.x + threadIdx.x;\n",
    "    int j = blockIdx.y*blockDim.y + threadIdx.y;\n",
    "    int k = blockIdx.z*blockDim.z + threadIdx.z;\n",
    "    if (i <length[0]){\n",
    "        if(j<lengths1[i] && k<lengths2[i]){\n",
    "            deltar[pairs_len[i] + j*lengths2[i] + k] = hypotf(deltaeta(eta1[j+start1[i]], eta2[k+start2[i]]), deltaphi(phi1[j + start1[i]], phi2[k+start2[i]]));\n",
    "        }\n",
    "    }\n",
    "}\n",
    "}\n",
    "''', no_extern_c = True)"
   ]
  },
  {
   "cell_type": "code",
   "execution_count": 62,
   "metadata": {},
   "outputs": [],
   "source": [
    "deltar = numpy.empty(pairs_len[-1], dtype=numpy.float32)\n",
    "# Number of events = base_len\n",
    "base_len = numpy.array([NUMEVENTS]).astype(numpy.int32)\n",
    "deltar_func = mod.get_function(\"deltaR\")"
   ]
  },
  {
   "cell_type": "code",
   "execution_count": 63,
   "metadata": {},
   "outputs": [],
   "source": [
    "deltar_func(cuda.InOut(deltar),cuda.In(geneta), cuda.In(recoeta), cuda.In(genphi), cuda.In(recophi), \n",
    "    cuda.In(base_len),cuda.In(genstarts), cuda.In(recostarts), cuda.In(pairs_len), cuda.In(gen_len), cuda.In(reco_len), block=(1,8,8),grid = (len(numgenjets), 20, 20))"
   ]
  },
  {
   "cell_type": "code",
   "execution_count": 71,
   "metadata": {},
   "outputs": [
    {
     "name": "stderr",
     "output_type": "stream",
     "text": [
      "C:\\Users\\Jaydeep\\Anaconda3\\lib\\site-packages\\ipykernel_launcher.py:29: UserWarning: The CUDA compiler succeeded, but said the following:\n",
      "kernel.cu\r\n",
      "\n"
     ]
    }
   ],
   "source": [
    "# Truematches calculation. It emulates the sequential code\n",
    "\n",
    "mod2 = SourceModule('''\n",
    "\n",
    "__global__ void truematches(float* deltar,int* truematches, int* start1,int* start2,int* pairs_len, int* length, int*lengths1, int* lengths2)\n",
    "{\n",
    "    // Calculate the global event index i, and 1st particle index j\n",
    "    int i = blockIdx.x*blockDim.x + threadIdx.x;\n",
    "    int j = blockIdx.y*blockDim.y + threadIdx.y;\n",
    "    \n",
    "    if (i<length[0])\n",
    "    {\n",
    "        if (j<lengths1[i])\n",
    "        {\n",
    "           __shared__ int min_idx;   // shared variable will reduce memory access times in loop.\n",
    "            // Calculate min index. Here is where the problem lies. Can't find an efficient reduction procedure\n",
    "            \n",
    "            min_idx = start2[i];\n",
    "            #pragma unroll\n",
    "            for (int k=1; k<lengths2[i]; k++)\n",
    "            {\n",
    "                if (deltar[pairs_len[i] + j*lengths2[i]+k] < deltar[pairs_len[i]+j*lengths2[i]+min_idx-start2[i]])\n",
    "                {\n",
    "                    min_idx = k+start2[i];\n",
    "                }\n",
    "            }\n",
    "            truematches[j+start1[i]] = min_idx;\n",
    "            __syncthreads();\n",
    "        }\n",
    "    }\n",
    "}\n",
    "''')"
   ]
  },
  {
   "cell_type": "code",
   "execution_count": 72,
   "metadata": {},
   "outputs": [],
   "source": [
    "truematch_func = mod2.get_function(\"truematches\")"
   ]
  },
  {
   "cell_type": "code",
   "execution_count": 73,
   "metadata": {},
   "outputs": [],
   "source": [
    "truematches = numpy.ones(genstops[-1], dtype=numpy.int32)*-1"
   ]
  },
  {
   "cell_type": "code",
   "execution_count": 74,
   "metadata": {},
   "outputs": [],
   "source": [
    "truematch_func(cuda.In(deltar), cuda.InOut(truematches), cuda.In(genstarts), cuda.In(recostarts),\n",
    "              cuda.In(pairs_len), cuda.In(base_len), cuda.In(gen_len), cuda.In(reco_len),\n",
    "              block=(1,8,1), grid=(len(numgenjets), 20, 1))"
   ]
  },
  {
   "cell_type": "code",
   "execution_count": 77,
   "metadata": {},
   "outputs": [
    {
     "name": "stdout",
     "output_type": "stream",
     "text": [
      "CUDA Output \n",
      "\n",
      " Event: 0\n",
      "\n",
      " Generator Level index              Reconstructed Level index\n",
      "\n",
      "      0                  ->                   7\n",
      "      1                  ->                   5\n",
      "      2                  ->                   3\n",
      "      3                  ->                   8\n",
      "      4                  ->                   10\n",
      "      5                  ->                   6\n",
      "      6                  ->                   13\n",
      "      7                  ->                   12\n",
      "      8                  ->                   11\n",
      "      9                  ->                   9\n",
      "      10                  ->                   4\n",
      "      11                  ->                   2\n",
      "      12                  ->                   3\n",
      "      13                  ->                   0\n",
      "\n",
      " Event: 1\n",
      "\n",
      " Generator Level index              Reconstructed Level index\n",
      "\n",
      "      14                  ->                   14\n",
      "      15                  ->                   15\n",
      "      16                  ->                   16\n",
      "\n",
      " Event: 2\n",
      "\n",
      " Generator Level index              Reconstructed Level index\n",
      "\n",
      "      17                  ->                   21\n",
      "      18                  ->                   23\n",
      "      19                  ->                   18\n",
      "      20                  ->                   20\n",
      "      21                  ->                   22\n",
      "      22                  ->                   19\n",
      "      23                  ->                   18\n",
      "      24                  ->                   24\n"
     ]
    }
   ],
   "source": [
    "print(\"CUDA Output \")\n",
    "for i in range(3):\n",
    "    print(\"\\n Event: {}\\n\".format(i))\n",
    "    print(\" Generator Level index              Reconstructed Level index\\n\")\n",
    "    for j in range(genstarts[i], genstops[i]):\n",
    "        if truematches[j] != -1 :\n",
    "            print(\"      {}                  ->                   {}\".format(j, truematches[j]))\n",
    "        else:\n",
    "            print(\"      {}                  ->                   {}\".format(j, '-'))"
   ]
  },
  {
   "cell_type": "code",
   "execution_count": 69,
   "metadata": {},
   "outputs": [],
   "source": [
    "# Sequential version. Test it with CUDA version to see if the results are right.\n",
    "\n",
    "truematches_seq = numpy.ones(genstops[-1], dtype=numpy.int32)*-1\n",
    "for i in range(NUMEVENTS):\n",
    "    pairs_i = pairs_len[i]\n",
    "    for j in range(genstarts[i], genstops[i]):\n",
    "        min_idx = recostarts[i]\n",
    "        truematches_seq[j] = min_idx\n",
    "        for k in range(recostarts[i], recostops[i]):\n",
    "            if (deltar[pairs_i] < deltar[pairs_len[i]+(j-genstarts[i])*reco_len[i]+(min_idx-recostarts[i])]):\n",
    "                truematches_seq[j] = k\n",
    "                min_idx = k\n",
    "            pairs_i+=1"
   ]
  },
  {
   "cell_type": "code",
   "execution_count": 78,
   "metadata": {},
   "outputs": [
    {
     "name": "stdout",
     "output_type": "stream",
     "text": [
      "Sequential output\n",
      "\n",
      " Event: 0\n",
      "\n",
      " Generator Level index              Reconstructed Level index\n",
      "\n",
      "      0                  ->                   7\n",
      "      1                  ->                   5\n",
      "      2                  ->                   3\n",
      "      3                  ->                   8\n",
      "      4                  ->                   10\n",
      "      5                  ->                   6\n",
      "      6                  ->                   13\n",
      "      7                  ->                   12\n",
      "      8                  ->                   11\n",
      "      9                  ->                   9\n",
      "      10                  ->                   4\n",
      "      11                  ->                   2\n",
      "      12                  ->                   3\n",
      "      13                  ->                   0\n",
      "\n",
      " Event: 1\n",
      "\n",
      " Generator Level index              Reconstructed Level index\n",
      "\n",
      "      14                  ->                   14\n",
      "      15                  ->                   15\n",
      "      16                  ->                   16\n",
      "\n",
      " Event: 2\n",
      "\n",
      " Generator Level index              Reconstructed Level index\n",
      "\n",
      "      17                  ->                   21\n",
      "      18                  ->                   23\n",
      "      19                  ->                   18\n",
      "      20                  ->                   20\n",
      "      21                  ->                   22\n",
      "      22                  ->                   19\n",
      "      23                  ->                   18\n",
      "      24                  ->                   24\n"
     ]
    }
   ],
   "source": [
    "print(\"Sequential output\")\n",
    "for i in range(3):\n",
    "    print(\"\\n Event: {}\\n\".format(i))\n",
    "    print(\" Generator Level index              Reconstructed Level index\\n\")\n",
    "    for j in range(genstarts[i], genstops[i]):\n",
    "        if truematches_seq[j] != -1 :\n",
    "            print(\"      {}                  ->                   {}\".format(j, truematches_seq[j]))\n",
    "        else:\n",
    "            print(\"      {}                  ->                   {}\".format(j, '-'))"
   ]
  },
  {
   "cell_type": "code",
   "execution_count": null,
   "metadata": {},
   "outputs": [],
   "source": []
  }
 ],
 "metadata": {
  "kernelspec": {
   "display_name": "Python 3",
   "language": "python",
   "name": "python3"
  },
  "language_info": {
   "codemirror_mode": {
    "name": "ipython",
    "version": 3
   },
   "file_extension": ".py",
   "mimetype": "text/x-python",
   "name": "python",
   "nbconvert_exporter": "python",
   "pygments_lexer": "ipython3",
   "version": "3.6.5"
  }
 },
 "nbformat": 4,
 "nbformat_minor": 2
}
