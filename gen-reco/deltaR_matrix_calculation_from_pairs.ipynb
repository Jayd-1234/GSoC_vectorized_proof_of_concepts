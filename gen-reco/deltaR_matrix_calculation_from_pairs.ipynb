{
 "cells": [
  {
   "cell_type": "markdown",
   "metadata": {},
   "source": [
    "### Calculate deltaPhi matrix from combinations\n",
    "\n",
    "Steps are:\n",
    "- Take $\\phi$ and $\\eta$ data arrays,starts and stops. \n",
    "- Get combinations indices in same manner as done earlier\n",
    "- For each pair, calculate deltaR as $$\\delta r = \\sqrt{\\delta \\eta^{2} + \\delta \\phi^{2}}$$ where $$\\delta \\eta = \\eta_{2} - \\eta_{1} \\\\ \\delta \\phi = \\phi_{2} - \\phi_{1}$$\n",
    "- Get the matrix $$\\delta R = \\{ \\delta r_{ij}\\} \\quad \\forall \\: (i,j) \\: \\in \\: \\mathrm{combinations\\_ indices}$$\n"
   ]
  },
  {
   "cell_type": "code",
   "execution_count": 1,
   "metadata": {},
   "outputs": [],
   "source": [
    "import numpy\n",
    "import pycuda.driver as cuda\n",
    "from pycuda.compiler import *\n",
    "import pycuda.autoinit"
   ]
  },
  {
   "cell_type": "code",
   "execution_count": 2,
   "metadata": {},
   "outputs": [],
   "source": [
    "# Adapted from gen-reco script by Jim\n",
    "\n",
    "NUMEVENTS = 100      # exact number of events\n",
    "AVENUMJETS = 10      # average number of jets per event\n",
    "PHILOW = -numpy.pi   # bounding box of phi (azimuthal angle) and eta (~polar angle)\n",
    "PHIHIGH = numpy.pi\n",
    "ETALOW = -5\n",
    "ETAHIGH = 5\n",
    "ERRPHI = 0.01        # detector resolution\n",
    "ERRETA = 0.01\n",
    "RECOPROB = 0.95      # probability of not reconstructing a real jet\n",
    "AVENUMFAKES = 1      # average number of spurious (fake) recontstructions\n",
    "\n",
    "# simulate the generator-level jets\n",
    "numgenjets = numpy.random.poisson(AVENUMJETS, NUMEVENTS).astype(numpy.int32)\n",
    "genstops = numpy.cumsum(numgenjets).astype(numpy.int32)\n",
    "genstarts = numpy.empty_like(genstops)\n",
    "genstarts[0] = 0\n",
    "genstarts[1:] = genstops[:-1]\n",
    "genphi = numpy.random.uniform(PHILOW, PHIHIGH, genstops[-1]).astype(numpy.float32)\n",
    "geneta = numpy.random.uniform(ETALOW, ETAHIGH, genstops[-1]).astype(numpy.float32)\n",
    "\n",
    "# simulate mismeasurement (error in reconstructing phi and eta)\n",
    "phiwitherr = genphi + numpy.random.normal(0, ERRPHI, genstops[-1]).astype(numpy.float32)\n",
    "etawitherr = geneta + numpy.random.normal(0, ERRETA, genstops[-1]).astype(numpy.float32)"
   ]
  },
  {
   "cell_type": "code",
   "execution_count": 3,
   "metadata": {},
   "outputs": [],
   "source": [
    "mod = SourceModule('''\n",
    "#include <cmath>\n",
    "extern \"C\"{\n",
    "__device__ float deltaeta(float eta1,float eta2)\n",
    "{\n",
    "    return eta1-eta2;\n",
    "}\n",
    "\n",
    "__device__ float deltaphi(float phi1, float phi2)\n",
    "{\n",
    "    return phi1-phi2;\n",
    "}\n",
    "\n",
    "__global__ void deltaR(float* deltar,float* eta1, float*eta2, float* phi1, float* phi2,int* length, int* start, int* stop, int* pairs_len,int* lengths)\n",
    "{\n",
    "    int i = blockIdx.x*blockDim.x + threadIdx.x;\n",
    "    int j = blockIdx.y*blockDim.y + threadIdx.y;\n",
    "    int k = blockIdx.z*blockDim.z + threadIdx.z;\n",
    "    if (i <length[0]){\n",
    "        if(j<lengths[i] && k<lengths[i]){\n",
    "            deltar[pairs_len[i] + j*lengths[i] + k] = hypotf(deltaeta(eta1[j+start[i]], eta2[k+start[i]]), deltaphi(phi1[j + start[i]], phi2[k+start[i]]));\n",
    "        }\n",
    "    }\n",
    "}\n",
    "}\n",
    "''', no_extern_c = True)"
   ]
  },
  {
   "cell_type": "code",
   "execution_count": 4,
   "metadata": {},
   "outputs": [],
   "source": [
    "lengths = genstops-genstarts"
   ]
  },
  {
   "cell_type": "code",
   "execution_count": 5,
   "metadata": {},
   "outputs": [],
   "source": [
    "pairs_len = numpy.zeros(len(lengths)+1, dtype=numpy.int32)\n",
    "pairs_len[1:] = numpy.cumsum(lengths*lengths)"
   ]
  },
  {
   "cell_type": "code",
   "execution_count": 6,
   "metadata": {},
   "outputs": [
    {
     "data": {
      "text/plain": [
       "dtype('int32')"
      ]
     },
     "execution_count": 6,
     "metadata": {},
     "output_type": "execute_result"
    }
   ],
   "source": [
    "lengths.dtype"
   ]
  },
  {
   "cell_type": "code",
   "execution_count": 7,
   "metadata": {},
   "outputs": [
    {
     "data": {
      "text/plain": [
       "array([  0,  81, 225, 306, 406])"
      ]
     },
     "execution_count": 7,
     "metadata": {},
     "output_type": "execute_result"
    }
   ],
   "source": [
    "pairs_len[:5]"
   ]
  },
  {
   "cell_type": "code",
   "execution_count": 8,
   "metadata": {},
   "outputs": [],
   "source": [
    "deltar = numpy.empty(pairs_len[-1], dtype=numpy.float32)"
   ]
  },
  {
   "cell_type": "code",
   "execution_count": 9,
   "metadata": {},
   "outputs": [],
   "source": [
    "base_len = numpy.array(len(lengths)).astype(numpy.int32)"
   ]
  },
  {
   "cell_type": "code",
   "execution_count": 10,
   "metadata": {},
   "outputs": [],
   "source": [
    "func = mod.get_function(\"deltaR\")"
   ]
  },
  {
   "cell_type": "code",
   "execution_count": 11,
   "metadata": {},
   "outputs": [
    {
     "data": {
      "text/plain": [
       "array([  0,   9,  21,  30,  40,  43,  49,  63,  70,  80,  91, 111, 126,\n",
       "       143, 148, 159, 169, 183, 190, 204, 215, 227, 238, 243, 256, 263,\n",
       "       279, 285, 299, 304, 312, 318, 329, 339, 350, 365, 378, 388, 393,\n",
       "       407, 417, 426, 432, 438, 448, 459, 471, 479, 490, 499, 517, 525,\n",
       "       538, 546, 551, 558, 572, 582, 595, 605, 612, 621, 631, 642, 649,\n",
       "       659, 673, 683, 694, 705, 713, 726, 738, 754, 764, 771, 785, 790,\n",
       "       798, 805, 813, 818, 826, 832, 849, 856, 862, 867, 881, 888, 898,\n",
       "       905, 921, 933, 938, 949, 966, 975, 986, 994])"
      ]
     },
     "execution_count": 11,
     "metadata": {},
     "output_type": "execute_result"
    }
   ],
   "source": [
    "genstarts"
   ]
  },
  {
   "cell_type": "code",
   "execution_count": 12,
   "metadata": {},
   "outputs": [],
   "source": [
    "func(cuda.InOut(deltar),cuda.In(geneta), cuda.In(etawitherr), cuda.In(genphi), cuda.In(phiwitherr), \n",
    "    cuda.In(base_len),cuda.In(genstarts), cuda.In(genstops), cuda.In(pairs_len), cuda.In(lengths), block=(1,8,8),grid = (len(numgenjets), 20, 20))"
   ]
  },
  {
   "cell_type": "code",
   "execution_count": 15,
   "metadata": {},
   "outputs": [
    {
     "name": "stdout",
     "output_type": "stream",
     "text": [
      "Event:0 \n",
      " [  1.14196595e-02   5.19899750e+00   7.04922342e+00   1.29171610e+00\n",
      "   2.39712572e+00   5.07040691e+00   4.51480687e-01   7.31054735e+00\n",
      "   7.68462753e+00   5.20713377e+00   2.53946334e-03   2.24332309e+00\n",
      "   3.95715451e+00   4.05498648e+00   1.37319100e+00   5.30775023e+00\n",
      "   2.61706972e+00   2.91166520e+00   7.06925964e+00   2.24845791e+00\n",
      "   2.00159010e-02   5.92645502e+00   6.26172018e+00   3.45103931e+00\n",
      "   7.07439947e+00   3.28391242e+00   6.65451705e-01   1.29740429e+00\n",
      "   3.96610832e+00   5.92615414e+00   1.88953765e-02   1.52069354e+00\n",
      "   3.78251481e+00   1.54061902e+00   6.02253580e+00   6.58010340e+00\n",
      "   2.41428518e+00   4.05765295e+00   6.25537920e+00   1.54250383e+00\n",
      "   6.85566710e-03   3.35291362e+00   2.80489111e+00   5.50820589e+00\n",
      "   6.92938900e+00   5.08530521e+00   1.38405097e+00   3.45555902e+00\n",
      "   3.78481531e+00   3.35452056e+00   1.00181829e-02   5.29501677e+00\n",
      "   2.23713326e+00   4.08760977e+00   4.54767257e-01   5.31467438e+00\n",
      "   7.06399775e+00   1.55119634e+00   2.81271076e+00   5.29949331e+00\n",
      "   1.39428014e-02   7.52862024e+00   7.68394566e+00   7.33183336e+00\n",
      "   2.62021637e+00   3.28056192e+00   6.03084040e+00   5.52547598e+00\n",
      "   2.25478625e+00   7.52933359e+00   2.26335060e-02   3.65419579e+00\n",
      "   7.68722439e+00   2.90469980e+00   6.68907762e-01   6.56351614e+00\n",
      "   6.92150640e+00   4.07482386e+00   7.67736101e+00   3.66244173e+00\n",
      "   9.01817996e-03]\n",
      "\n",
      "Event:1 \n",
      " [  1.71611458e-02   7.01598310e+00   6.95462704e+00   6.98936749e+00\n",
      "   2.95798612e+00   4.57710218e+00   3.56767488e+00   3.71721339e+00\n",
      "   4.19358206e+00   5.84675932e+00   3.25783277e+00   6.51773357e+00\n",
      "   6.99749804e+00   1.16070341e-02   6.92555070e-01   2.05501032e+00\n",
      "   8.13800049e+00   8.68581581e+00   3.66369224e+00   6.37207603e+00\n",
      "   6.78137016e+00   1.39815974e+00   7.13196611e+00   1.01741993e+00\n",
      "   6.93001270e+00   7.27737963e-01   2.60999762e-02   1.33830523e+00\n",
      "   7.81453419e+00   8.24420071e+00   3.45658612e+00   5.93636417e+00\n",
      "   6.30849171e+00   1.10384941e+00   6.74795008e+00   4.70121503e-01\n",
      "   6.97344637e+00   2.05603218e+00   1.35287952e+00   1.00168632e-02\n",
      "   7.33769321e+00   7.51491070e+00   3.42789793e+00   5.26868868e+00\n",
      "   5.54813528e+00   1.58494639e+00   6.16945171e+00   1.18597591e+00\n",
      "   2.95954418e+00   8.14056492e+00   7.82586145e+00   7.32405090e+00\n",
      "   1.68570504e-02   1.66329837e+00   4.51702785e+00   2.22310209e+00\n",
      "   2.29806399e+00   6.75616360e+00   1.25018001e+00   7.33723259e+00\n",
      "   4.58345270e+00   8.69889259e+00   8.26805019e+00   7.50833321e+00\n",
      "   1.69482851e+00   1.84031185e-02   5.31949472e+00   2.31677699e+00\n",
      "   1.96609199e+00   7.29122686e+00   1.71164763e+00   7.78311348e+00\n",
      "   3.55293894e+00   3.67224193e+00   3.47089887e+00   3.42766809e+00\n",
      "   4.52034092e+00   5.31068230e+00   2.87622330e-03   3.09100986e+00\n",
      "   3.62100554e+00   2.35538507e+00   3.64368343e+00   3.00573182e+00\n",
      "   3.71316314e+00   6.40328074e+00   5.97826910e+00   5.28114557e+00\n",
      "   2.22796249e+00   2.29273844e+00   3.11640096e+00   2.30772533e-02\n",
      "   5.56623340e-01   4.99571371e+00   9.64470685e-01   5.49190569e+00\n",
      "   4.17431259e+00   6.78887177e+00   6.32856989e+00   5.54049110e+00\n",
      "   2.31196427e+00   1.96881747e+00   3.61944366e+00   5.73204339e-01\n",
      "   4.61949734e-03   5.38696909e+00   1.11296213e+00   5.84759760e+00\n",
      "   5.84559727e+00   1.39339828e+00   1.10295737e+00   1.58831215e+00\n",
      "   6.77774286e+00   7.30270863e+00   2.36932588e+00   4.98908234e+00\n",
      "   5.40425539e+00   1.48599884e-02   5.75230122e+00   6.61944985e-01\n",
      "   3.24602580e+00   7.12500429e+00   6.75138330e+00   6.14745569e+00\n",
      "   1.28075671e+00   1.71397686e+00   3.63089657e+00   9.57045197e-01\n",
      "   1.10373425e+00   5.72094774e+00   1.75983924e-02   6.26181221e+00\n",
      "   6.49847841e+00   1.02491868e+00   4.90975827e-01   1.20294785e+00\n",
      "   7.34296560e+00   7.78115368e+00   3.00176859e+00   5.47142363e+00\n",
      "   5.85074997e+00   6.68721914e-01   6.27780724e+00   8.38810764e-03]\n",
      "\n",
      "Event:2 \n",
      " [  1.84952505e-02   5.82126093e+00   3.61842394e+00   6.30317748e-01\n",
      "   2.29264569e+00   2.81648135e+00   2.30925584e+00   3.33611250e-01\n",
      "   5.98641205e+00   5.81860018e+00   1.77261494e-02   4.10959196e+00\n",
      "   5.23241329e+00   3.51716018e+00   3.36929750e+00   3.84241152e+00\n",
      "   6.12320852e+00   2.55671948e-01   3.63439631e+00   4.14283752e+00\n",
      "   2.14425009e-02   3.43651962e+00   2.69812870e+00   1.49135959e+00\n",
      "   1.64066887e+00   3.91448593e+00   4.16765213e+00   6.43755794e-01\n",
      "   5.23674822e+00   3.41149664e+00   2.37647612e-02   1.70234692e+00\n",
      "   2.39865470e+00   1.93044960e+00   9.18131828e-01   5.40971231e+00\n",
      "   2.31443405e+00   3.52614522e+00   2.67454910e+00   1.72496283e+00\n",
      "   1.37871904e-02   1.22298408e+00   1.12074375e+00   2.61585879e+00\n",
      "   3.69861627e+00   2.83948779e+00   3.38682628e+00   1.46727800e+00\n",
      "   2.42670298e+00   1.24599576e+00   1.02762198e-02   5.27324796e-01\n",
      "   3.15398932e+00   3.49131203e+00   2.31393218e+00   3.86380720e+00\n",
      "   1.64749086e+00   1.93790281e+00   1.11920404e+00   5.35160899e-01\n",
      "   1.55422706e-02   2.62677884e+00   3.98203254e+00   3.04347634e-01\n",
      "   6.13096571e+00   3.90382743e+00   9.01491642e-01   2.59833860e+00\n",
      "   3.13636446e+00   2.62721443e+00   1.38719389e-02   6.29848576e+00\n",
      "   5.99637651e+00   2.36517042e-01   4.14321089e+00   5.41833687e+00\n",
      "   3.70243645e+00   3.48558164e+00   3.97135067e+00   6.30332136e+00\n",
      "   5.46747260e-03]\n",
      "\n",
      "Event:3 \n",
      " [  1.43563384e-02   2.34476209e+00   1.67161036e+00   5.66608524e+00\n",
      "   4.61193180e+00   6.53449106e+00   2.73669028e+00   2.56579709e+00\n",
      "   5.01801682e+00   5.44277573e+00   2.35179090e+00   6.71976805e-03\n",
      "   1.75971508e+00   6.55838442e+00   6.56770563e+00   8.43617535e+00\n",
      "   3.08935022e+00   2.10456014e+00   6.06460476e+00   6.83971548e+00\n",
      "   1.65956163e+00   1.75440216e+00   1.47478068e-02   4.86772394e+00\n",
      "   4.93238449e+00   6.75587225e+00   3.89299297e+00   9.08247888e-01\n",
      "   4.33980322e+00   5.09137774e+00   5.64935160e+00   6.55475044e+00\n",
      "   4.84515572e+00   1.85546614e-02   3.46380973e+00   3.96249080e+00\n",
      "   8.39431953e+00   4.51487732e+00   7.20247269e-01   1.52623749e+00\n",
      "   4.60541105e+00   6.57963276e+00   4.93248940e+00   3.45003438e+00\n",
      "   7.83850346e-03   1.91581202e+00   7.06098270e+00   5.23454046e+00\n",
      "   2.85900187e+00   2.08520985e+00   6.51532125e+00   8.43620491e+00\n",
      "   6.74285126e+00   3.94133878e+00   1.91858077e+00   5.13961306e-03\n",
      "   8.94760990e+00   6.93635273e+00   3.63529754e+00   2.46624446e+00\n",
      "   2.75321889e+00   3.06425095e+00   3.89925814e+00   8.40070057e+00\n",
      "   7.06767654e+00   8.96789360e+00   3.17751281e-02   4.69284487e+00\n",
      "   7.75775862e+00   8.14902306e+00   2.56568241e+00   2.10447454e+00\n",
      "   8.98898184e-01   4.53518534e+00   5.23809147e+00   6.95106554e+00\n",
      "   4.70165539e+00   9.65725910e-03   4.11090755e+00   5.02580833e+00\n",
      "   5.00244570e+00   6.06926680e+00   4.32497692e+00   7.19602048e-01\n",
      "   2.85683060e+00   3.63811517e+00   7.75209570e+00   4.10044622e+00\n",
      "   3.06868437e-03   1.18556428e+00   5.42858934e+00   6.84480047e+00\n",
      "   5.07906580e+00   1.50738573e+00   2.09051538e+00   2.47280359e+00\n",
      "   8.14148426e+00   5.01489305e+00   1.18413544e+00   2.61543388e-03]\n",
      "\n",
      "Event:4 \n",
      " [  1.24797635e-02   8.62319279e+00   4.96724844e+00   8.62647915e+00\n",
      "   1.55405514e-02   6.88118029e+00   4.94941568e+00   6.88762617e+00\n",
      "   7.72755640e-03]\n",
      "\n",
      "Event:5 \n",
      " [  5.74324885e-03   9.20109272e+00   1.20785260e+00   8.52501774e+00\n",
      "   9.38862419e+00   3.79973817e+00   9.17129993e+00   3.49995941e-02\n",
      "   8.07632923e+00   2.19037271e+00   9.76902604e-01   5.79053783e+00\n",
      "   1.21139312e+00   8.11276722e+00   3.32372892e-03   7.34045124e+00\n",
      "   8.24953747e+00   2.59411883e+00   8.53910065e+00   2.20519233e+00\n",
      "   7.34915018e+00   1.04986420e-02   1.48180330e+00   4.79482079e+00\n",
      "   9.38072586e+00   9.71408725e-01   8.23523521e+00   1.47132564e+00\n",
      "   1.37466881e-02   5.79904127e+00   3.81542206e+00   5.81661034e+00\n",
      "   2.60544634e+00   4.77510786e+00   5.80350828e+00   1.24103408e-02]\n",
      "\n"
     ]
    }
   ],
   "source": [
    "for i in range(6):\n",
    "    print(\"Event:{} \\n {}\\n\".format(i, deltar[pairs_len[i]:pairs_len[i+1]]))"
   ]
  },
  {
   "cell_type": "code",
   "execution_count": 14,
   "metadata": {},
   "outputs": [
    {
     "data": {
      "text/plain": [
       "11247"
      ]
     },
     "execution_count": 14,
     "metadata": {},
     "output_type": "execute_result"
    }
   ],
   "source": []
  },
  {
   "cell_type": "code",
   "execution_count": null,
   "metadata": {},
   "outputs": [],
   "source": []
  }
 ],
 "metadata": {
  "kernelspec": {
   "display_name": "Python 3",
   "language": "python",
   "name": "python3"
  },
  "language_info": {
   "codemirror_mode": {
    "name": "ipython",
    "version": 3
   },
   "file_extension": ".py",
   "mimetype": "text/x-python",
   "name": "python",
   "nbconvert_exporter": "python",
   "pygments_lexer": "ipython3",
   "version": "3.6.5"
  }
 },
 "nbformat": 4,
 "nbformat_minor": 2
}
