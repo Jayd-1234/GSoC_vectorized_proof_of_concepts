{
 "cells": [
  {
   "cell_type": "markdown",
   "metadata": {},
   "source": [
    "# Parents generation from starts and stops arrays\n",
    "\n",
    "Based on Oamap's parent generation function. It assigns the event index to each particle in that event, which is stored in the pointer array\n",
    "\n",
    "The python code is \n",
    "```python\n",
    "def parent(starts, stops, pointers):\n",
    "    for i in range(len(starts)):\n",
    "        pointers[starts[i]:stops[i]] = i\n",
    "```\n"
   ]
  },
  {
   "cell_type": "code",
   "execution_count": 1,
   "metadata": {},
   "outputs": [],
   "source": [
    "import numpy\n",
    "import pycuda.autoinit\n",
    "import pycuda.gpuarray as gpuarray\n",
    "from pycuda.compiler import *\n",
    "import pycuda.driver as cuda"
   ]
  },
  {
   "cell_type": "code",
   "execution_count": 2,
   "metadata": {},
   "outputs": [],
   "source": [
    "# Generate random data, as usual\n",
    "NUMEVENTS = 320            # Number of evenets to simulate the data for.\n",
    "AVENUMJETS = 32             # Average number of jets per event.\n",
    "\n",
    "numjets = numpy.random.poisson(AVENUMJETS, NUMEVENTS).astype(numpy.int32) # Number of jets in each event\n",
    "jets_stops = numpy.cumsum(numjets).astype(numpy.int32)                                      # Stops array\n",
    "jets_starts = numpy.zeros_like(jets_stops)                              # Starts array\n",
    "jets_starts[1:] = jets_stops[:-1]"
   ]
  },
  {
   "cell_type": "code",
   "execution_count": 3,
   "metadata": {},
   "outputs": [],
   "source": [
    "# Form a pointer array to store the results\n",
    "# One for sequential version. One for CUDA, for checking\n",
    "pointer_seq = numpy.empty(jets_stops[-1], dtype=numpy.int32)\n",
    "pointer_cuda = numpy.empty(jets_stops[-1], dtype=numpy.int32)"
   ]
  },
  {
   "cell_type": "code",
   "execution_count": 4,
   "metadata": {},
   "outputs": [],
   "source": [
    "# Sequential evaluation\n",
    "def parent(starts, stops, pointers):\n",
    "    for i in range(len(starts)):\n",
    "        pointers[starts[i]:stops[i]] = i\n",
    "parent(jets_starts, jets_stops, pointer_seq)"
   ]
  },
  {
   "cell_type": "code",
   "execution_count": 5,
   "metadata": {},
   "outputs": [],
   "source": [
    "# Let's put the arrays to GPU\n",
    "\n",
    "gpu_starts = gpuarray.to_gpu(jets_starts)\n",
    "gpu_stops = gpuarray.to_gpu(jets_stops)\n",
    "gpu_pointer = gpuarray.to_gpu(pointer_cuda)\n",
    "\n",
    "# Calculate the counts array on GPU\n",
    "gpu_counts = gpu_stops-gpu_starts"
   ]
  },
  {
   "cell_type": "markdown",
   "metadata": {},
   "source": [
    "#### Idea behind calculation\n",
    "\n",
    "It borrows the idea from combinations(product). Index `i` iterates over all events, and index `j` will iterate over `starts[i]:stops[i]`. \n",
    "\n",
    "For each `(i,j)` pair, `starts[i]+j` gives the required offset for `pointer` at event index `i`. It then just stores the event index at that location.\n",
    "\n",
    "The cpp code:"
   ]
  },
  {
   "cell_type": "code",
   "execution_count": 6,
   "metadata": {},
   "outputs": [],
   "source": [
    "mod = SourceModule('''\n",
    "__global__ void parent(int* starts,int* pointer,int* NUMEVENTS,int* counts)\n",
    "{\n",
    "    int i = blockIdx.x*blockDim.x + threadIdx.x;\n",
    "    int j = blockIdx.y*blockDim.y + threadIdx.y;\n",
    "    if (i<NUMEVENTS[0])\n",
    "    {\n",
    "        if (j<counts[i])\n",
    "        {\n",
    "            pointer[starts[i]+j] = i;\n",
    "        }\n",
    "    }\n",
    "}\n",
    "''')"
   ]
  },
  {
   "cell_type": "code",
   "execution_count": 7,
   "metadata": {},
   "outputs": [],
   "source": [
    "func = mod.get_function(\"parent\")"
   ]
  },
  {
   "cell_type": "code",
   "execution_count": 8,
   "metadata": {},
   "outputs": [],
   "source": [
    "# Additional gpu data needed\n",
    "arr_numevents = numpy.array([NUMEVENTS]).astype(numpy.int32)"
   ]
  },
  {
   "cell_type": "code",
   "execution_count": 9,
   "metadata": {},
   "outputs": [],
   "source": [
    "# Evaluate\n",
    "func(gpu_starts,gpu_pointer,cuda.In(arr_numevents),gpu_counts,block = (32,32,1), grid=(100, 10,1))"
   ]
  },
  {
   "cell_type": "code",
   "execution_count": 12,
   "metadata": {},
   "outputs": [],
   "source": [
    "# Compare with sequential\n",
    "# First copy data to host\n",
    "host_pointer_data = gpu_pointer.get()\n",
    "# Compare. Will not print anything if equal\n",
    "assert(host_pointer_data.all()==pointer_seq.all())"
   ]
  },
  {
   "cell_type": "code",
   "execution_count": 21,
   "metadata": {},
   "outputs": [
    {
     "name": "stdout",
     "output_type": "stream",
     "text": [
      "\n",
      "Event: 0 \n",
      " Pointer: [0 0 0 0 0 0 0 0 0 0 0 0 0 0 0 0 0 0 0 0 0 0 0 0 0 0 0 0 0]\n",
      "\n",
      "Event: 1 \n",
      " Pointer: [1 1 1 1 1 1 1 1 1 1 1 1 1 1 1 1 1 1 1 1 1 1 1 1 1 1 1 1 1 1 1 1 1 1 1 1 1\n",
      " 1]\n",
      "\n",
      "Event: 2 \n",
      " Pointer: [2 2 2 2 2 2 2 2 2 2 2 2 2 2 2 2 2 2 2 2 2 2 2 2 2 2 2 2 2 2 2 2 2 2]\n",
      "\n",
      "Event: 3 \n",
      " Pointer: [3 3 3 3 3 3 3 3 3 3 3 3 3 3 3 3 3 3 3 3 3 3 3 3 3 3 3]\n",
      "\n",
      "Event: 4 \n",
      " Pointer: [4 4 4 4 4 4 4 4 4 4 4 4 4 4 4 4 4 4 4 4 4 4 4]\n",
      "\n",
      "Event: 5 \n",
      " Pointer: [5 5 5 5 5 5 5 5 5 5 5 5 5 5 5 5 5 5 5 5 5 5 5 5 5 5 5 5]\n"
     ]
    }
   ],
   "source": [
    "# Print some values\n",
    "for i in range(6):\n",
    "    print(\"\\nEvent: {} \\n Pointer: {}\".format(i, host_pointer_data[jets_starts[i]:jets_stops[i]]))"
   ]
  },
  {
   "cell_type": "code",
   "execution_count": null,
   "metadata": {},
   "outputs": [],
   "source": []
  }
 ],
 "metadata": {
  "kernelspec": {
   "display_name": "Python 3",
   "language": "python",
   "name": "python3"
  },
  "language_info": {
   "codemirror_mode": {
    "name": "ipython",
    "version": 3
   },
   "file_extension": ".py",
   "mimetype": "text/x-python",
   "name": "python",
   "nbconvert_exporter": "python",
   "pygments_lexer": "ipython3",
   "version": "3.6.5"
  }
 },
 "nbformat": 4,
 "nbformat_minor": 2
}
