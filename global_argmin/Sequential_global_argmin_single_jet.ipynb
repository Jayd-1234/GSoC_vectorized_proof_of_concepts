{
 "cells": [
  {
   "cell_type": "markdown",
   "metadata": {},
   "source": [
    "# Sequential global argmin with single particle event\n",
    "\n",
    "Simulate a set of poisson distributed jets with random distributed $\\zeta$ parameter distributed across events, and find out the argmin per event. "
   ]
  },
  {
   "cell_type": "code",
   "execution_count": 9,
   "metadata": {},
   "outputs": [],
   "source": [
    "import numpy"
   ]
  },
  {
   "cell_type": "code",
   "execution_count": 10,
   "metadata": {},
   "outputs": [],
   "source": [
    "# Data generation step\n",
    "\n",
    "NUMEVENTS = 1000             # Number of evenets to simulate the data for.\n",
    "AVENUMJETS = 100             # Average number of jets per event.\n",
    "\n",
    "numjets = numpy.random.poisson(AVENUMJETS, NUMEVENTS).astype(numpy.int) # Number of jets in each event\n",
    "jets_stops = numpy.cumsum(numjets)                                      # Stops array\n",
    "jets_starts = numpy.zeros_like(jets_stops)                              # Starts array\n",
    "jets_starts[1:] = jets_stops[:-1]\n",
    "\n",
    "jets_counts = jets_stops-jets_starts                            # Count of jets every event \n",
    "\n",
    "# Define zeta values. Drawn from a normal distribution.\n",
    "jets_zeta = numpy.random.normal(0, 1, size=(jets_stops[-1],1))"
   ]
  },
  {
   "cell_type": "markdown",
   "metadata": {},
   "source": [
    "### Argmin calculation step\n",
    "\n",
    "This can be done in steps as below:\n",
    "\n",
    "1. Iterate over all events, indexed by i.\n",
    "2. For each event, \n",
    "    - create a dummy variable for storing the minimum value, and initialize it.\n",
    "    - iterate over the jets(index j).\n",
    "    - If current jets_zeta <= global jets_zets ( from minimum value), update minimum index variables `min_idx[i]=j`.\n",
    "    - Carry this for all acceptable values of j.\n",
    "3. Store the minimum index for each event in `min_idx`  arrays.    "
   ]
  },
  {
   "cell_type": "code",
   "execution_count": 11,
   "metadata": {},
   "outputs": [],
   "source": [
    "# Now find global argmin sequentially.\n",
    "# First let's create an array for storing the min index for each event. \n",
    "# min_idx for minimum index per event\n",
    "# Minimum zeta is stored in min_zeta variable.\n",
    "\n",
    "min_idx = numpy.empty(NUMEVENTS, dtype=numpy.int32)\n",
    "min_zeta = numpy.empty(NUMEVENTS, dtype=numpy.int32)\n",
    "\n",
    "for i in range(NUMEVENTS):\n",
    "    index_iterator = jets_starts[i]\n",
    "    min_val = jets_zeta[index_iterator]\n",
    "    for j in range(jets_starts[i], jets_stops[i]):\n",
    "        if jets_zeta[index_iterator] <= min_val :\n",
    "            min_val = jets_zeta[index_iterator]\n",
    "            min_idx[i] = j\n",
    "            min_zeta[i] = min_val\n",
    "        index_iterator +=1"
   ]
  },
  {
   "cell_type": "code",
   "execution_count": 12,
   "metadata": {},
   "outputs": [
    {
     "name": "stdout",
     "output_type": "stream",
     "text": [
      "Event 0:   Global minumum index: 13  Global Minimum Zeta: -2\n",
      "Event 1:   Global minumum index: 142  Global Minimum Zeta: -2\n",
      "Event 2:   Global minumum index: 200  Global Minimum Zeta: -2\n",
      "Event 3:   Global minumum index: 287  Global Minimum Zeta: -2\n",
      "Event 4:   Global minumum index: 419  Global Minimum Zeta: -1\n",
      "Event 5:   Global minumum index: 533  Global Minimum Zeta: -1\n"
     ]
    }
   ],
   "source": [
    "# Print the values for first 6 events\n",
    "\n",
    "for i in range(6):\n",
    "    print(\"Event {}:   Global minumum index: {}  Global Minimum Zeta: {}\".format(i, min_idx[i], min_zeta[i]))"
   ]
  }
 ],
 "metadata": {
  "kernelspec": {
   "display_name": "Python 3",
   "language": "python",
   "name": "python3"
  },
  "language_info": {
   "codemirror_mode": {
    "name": "ipython",
    "version": 3
   },
   "file_extension": ".py",
   "mimetype": "text/x-python",
   "name": "python",
   "nbconvert_exporter": "python",
   "pygments_lexer": "ipython3",
   "version": "3.6.5"
  }
 },
 "nbformat": 4,
 "nbformat_minor": 2
}
