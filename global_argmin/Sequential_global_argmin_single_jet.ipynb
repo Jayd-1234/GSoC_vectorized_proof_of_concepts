{
 "cells": [
  {
   "cell_type": "markdown",
   "metadata": {},
   "source": [
    "# Sequential global argmin with single particle event\n",
    "\n",
    "Simulate a set of poisson distributed jets with random distributed $\\zeta$ parameter distributed across events, and find out the argmin per event. \n",
    "\n",
    "Based on product. Can be trivially extended to pairs."
   ]
  },
  {
   "cell_type": "code",
   "execution_count": 1,
   "metadata": {},
   "outputs": [],
   "source": [
    "import numpy"
   ]
  },
  {
   "cell_type": "code",
   "execution_count": 4,
   "metadata": {},
   "outputs": [],
   "source": [
    "# Data generation step\n",
    "\n",
    "NUMEVENTS = 100             # Number of evenets to simulate the data for.\n",
    "AVENUMJETS = 10             # Average number of jets per event.\n",
    "\n",
    "numjets = numpy.random.poisson(AVENUMJETS, NUMEVENTS).astype(numpy.int) # Number of jets in each event\n",
    "jets_stops = numpy.cumsum(numjets)                                      # Stops array\n",
    "jets_starts = numpy.zeros_like(jets_stops)                              # Starts array\n",
    "jets_starts[1:] = jets_stops[:-1]\n",
    "\n",
    "jets_counts = jets_stops-jets_starts                            # Count of jets every event \n",
    "pairs_offsets = numpy.zeros(NUMEVENTS+1).astype(numpy.int)      # Offsets of product every event\n",
    "pairs_offsets[1:] = numpy.cumsum(jets_counts*jets_counts)\n",
    "\n",
    "# Define zeta values. Drawn from a uniform distribution.\n",
    "jets_zeta = numpy.random.uniform(low=0, high=10, size=(pairs_offsets[-1],1))"
   ]
  },
  {
   "cell_type": "markdown",
   "metadata": {},
   "source": [
    "### Argmin calculation step\n",
    "\n",
    "This can be done in steps as below:\n",
    "\n",
    "1. Iterate over all events, indexed by i.\n",
    "2. For each event, \n",
    "    - create a dummy variable for storing the minimum value, and initialize it.\n",
    "    - iterate over the jets 1(index j) and jets 2(index k).\n",
    "    - If current jets_zeta <= global jets_zets ( from minimum value), update minimum index variables `left[i]=j` and `right[i]=k`.\n",
    "    - Carry this for all acceptable values of j and k.\n",
    "3. Store the minimum index for each event in `left` and `right` arrays.    "
   ]
  },
  {
   "cell_type": "code",
   "execution_count": 9,
   "metadata": {},
   "outputs": [],
   "source": [
    "# Now find global argmin sequentially.\n",
    "# First let's create two arrays for storing the min indexes for each event. \n",
    "# left for jet1, right for jets2.\n",
    "# Minimum zeta is stored in min_zeta variable.\n",
    "\n",
    "left = numpy.empty(NUMEVENTS, dtype=numpy.int32)\n",
    "right = numpy.empty(NUMEVENTS, dtype=numpy.int32)\n",
    "min_zeta = numpy.empty(NUMEVENTS, dtype=numpy.int32)\n",
    "\n",
    "for i in range(NUMEVENTS):\n",
    "    pairs_i = pairs_offsets[i]\n",
    "    min_val = jets_zeta[pairs_i]\n",
    "    for j in range(jets_starts[i], jets_stops[i]):\n",
    "        for k in range(jets_starts[i], jets_stops[i]):\n",
    "            if jets_zeta[pairs_i] <= min_val :\n",
    "                min_val = jets_zeta[pairs_i]\n",
    "                left[i] = j\n",
    "                right[i] = k\n",
    "                min_zeta[i] = min_val\n",
    "            pairs_i +=1"
   ]
  },
  {
   "cell_type": "code",
   "execution_count": 10,
   "metadata": {},
   "outputs": [
    {
     "name": "stdout",
     "output_type": "stream",
     "text": [
      "Event 0:   Global minumum index: (4, 7)  Global Minimum Zeta: 0\n",
      "Event 1:   Global minumum index: (13, 17)  Global Minimum Zeta: 0\n",
      "Event 2:   Global minumum index: (25, 26)  Global Minimum Zeta: 0\n",
      "Event 3:   Global minumum index: (34, 38)  Global Minimum Zeta: 0\n",
      "Event 4:   Global minumum index: (44, 41)  Global Minimum Zeta: 0\n",
      "Event 5:   Global minumum index: (59, 58)  Global Minimum Zeta: 0\n"
     ]
    }
   ],
   "source": [
    "# Print the values for first 6 events\n",
    "\n",
    "for i in range(6):\n",
    "    print(\"Event {}:   Global minumum index: {}  Global Minimum Zeta: {}\".format(i, (left[i], right[i]), min_zeta[i]))"
   ]
  },
  {
   "cell_type": "markdown",
   "metadata": {},
   "source": [
    "Note that minimum zeta is 0 in case of product for single particle. This is because each particle is repeated in the two tracks j and k."
   ]
  }
 ],
 "metadata": {
  "kernelspec": {
   "display_name": "Python 3",
   "language": "python",
   "name": "python3"
  },
  "language_info": {
   "codemirror_mode": {
    "name": "ipython",
    "version": 3
   },
   "file_extension": ".py",
   "mimetype": "text/x-python",
   "name": "python",
   "nbconvert_exporter": "python",
   "pygments_lexer": "ipython3",
   "version": "3.6.5"
  }
 },
 "nbformat": 4,
 "nbformat_minor": 2
}
